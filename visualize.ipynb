{
 "cells": [
  {
   "cell_type": "code",
   "execution_count": 44,
   "metadata": {},
   "outputs": [
    {
     "name": "stderr",
     "output_type": "stream",
     "text": [
      "WARNING:root:File output/1/anomaly_maps/mvtec_ad/bean/test/tear/642.tiff has no OME-XML tags!\n",
      "WARNING:root:File output/1/anomaly_maps/mvtec_ad/bean/test/tear/010.tiff has no OME-XML tags!\n",
      "WARNING:root:File output/1/anomaly_maps/mvtec_ad/bean/test/tear/167.tiff has no OME-XML tags!\n",
      "WARNING:root:File output/1/anomaly_maps/mvtec_ad/bean/test/tear/583.tiff has no OME-XML tags!\n",
      "WARNING:root:File output/1/anomaly_maps/mvtec_ad/bean/test/tear/600.tiff has no OME-XML tags!\n",
      "WARNING:root:File output/1/anomaly_maps/mvtec_ad/bean/test/tear/388.tiff has no OME-XML tags!\n",
      "WARNING:root:File output/1/anomaly_maps/mvtec_ad/bean/test/tear/582.tiff has no OME-XML tags!\n",
      "WARNING:root:File output/1/anomaly_maps/mvtec_ad/bean/test/tear/195.tiff has no OME-XML tags!\n",
      "WARNING:root:File output/1/anomaly_maps/mvtec_ad/bean/test/tear/251.tiff has no OME-XML tags!\n",
      "WARNING:root:File output/1/anomaly_maps/mvtec_ad/bean/test/tear/192.tiff has no OME-XML tags!\n",
      "WARNING:root:File output/1/anomaly_maps/mvtec_ad/bean/test/tear/057.tiff has no OME-XML tags!\n",
      "WARNING:root:File output/1/anomaly_maps/mvtec_ad/bean/test/tear/453.tiff has no OME-XML tags!\n",
      "WARNING:root:File output/1/anomaly_maps/mvtec_ad/bean/test/tear/169.tiff has no OME-XML tags!\n",
      "WARNING:root:File output/1/anomaly_maps/mvtec_ad/bean/test/tear/004.tiff has no OME-XML tags!\n",
      "WARNING:root:File output/1/anomaly_maps/mvtec_ad/bean/test/tear/070.tiff has no OME-XML tags!\n",
      "WARNING:root:File output/1/anomaly_maps/mvtec_ad/bean/test/tear/499.tiff has no OME-XML tags!\n",
      "WARNING:root:File output/1/anomaly_maps/mvtec_ad/bean/test/tear/239.tiff has no OME-XML tags!\n",
      "WARNING:root:File output/1/anomaly_maps/mvtec_ad/bean/test/tear/698.tiff has no OME-XML tags!\n",
      "WARNING:root:File output/1/anomaly_maps/mvtec_ad/bean/test/tear/094.tiff has no OME-XML tags!\n",
      "WARNING:root:File output/1/anomaly_maps/mvtec_ad/bean/test/tear/137.tiff has no OME-XML tags!\n",
      "WARNING:root:File output/1/anomaly_maps/mvtec_ad/bean/test/tear/442.tiff has no OME-XML tags!\n",
      "WARNING:root:File output/1/anomaly_maps/mvtec_ad/bean/test/tear/350.tiff has no OME-XML tags!\n",
      "WARNING:root:File output/1/anomaly_maps/mvtec_ad/bean/test/tear/325.tiff has no OME-XML tags!\n",
      "WARNING:root:File output/1/anomaly_maps/mvtec_ad/bean/test/tear/661.tiff has no OME-XML tags!\n",
      "WARNING:root:File output/1/anomaly_maps/mvtec_ad/bean/test/tear/425.tiff has no OME-XML tags!\n",
      "WARNING:root:File output/1/anomaly_maps/mvtec_ad/bean/test/tear/372.tiff has no OME-XML tags!\n",
      "WARNING:root:File output/1/anomaly_maps/mvtec_ad/bean/test/tear/562.tiff has no OME-XML tags!\n",
      "WARNING:root:File output/1/anomaly_maps/mvtec_ad/bean/test/tear/297.tiff has no OME-XML tags!\n",
      "WARNING:root:File output/1/anomaly_maps/mvtec_ad/bean/test/tear/247.tiff has no OME-XML tags!\n",
      "WARNING:root:File output/1/anomaly_maps/mvtec_ad/bean/test/tear/667.tiff has no OME-XML tags!\n",
      "WARNING:root:File output/1/anomaly_maps/mvtec_ad/bean/test/tear/518.tiff has no OME-XML tags!\n",
      "WARNING:root:File output/1/anomaly_maps/mvtec_ad/bean/test/tear/108.tiff has no OME-XML tags!\n",
      "WARNING:root:File output/1/anomaly_maps/mvtec_ad/bean/test/tear/140.tiff has no OME-XML tags!\n",
      "WARNING:root:File output/1/anomaly_maps/mvtec_ad/bean/test/tear/275.tiff has no OME-XML tags!\n",
      "WARNING:root:File output/1/anomaly_maps/mvtec_ad/bean/test/tear/478.tiff has no OME-XML tags!\n",
      "WARNING:root:File output/1/anomaly_maps/mvtec_ad/bean/test/tear/083.tiff has no OME-XML tags!\n",
      "WARNING:root:File output/1/anomaly_maps/mvtec_ad/bean/test/tear/249.tiff has no OME-XML tags!\n",
      "WARNING:root:File output/1/anomaly_maps/mvtec_ad/bean/test/tear/495.tiff has no OME-XML tags!\n",
      "WARNING:root:File output/1/anomaly_maps/mvtec_ad/bean/test/tear/639.tiff has no OME-XML tags!\n",
      "WARNING:root:File output/1/anomaly_maps/mvtec_ad/bean/test/tear/072.tiff has no OME-XML tags!\n",
      "WARNING:root:File output/1/anomaly_maps/mvtec_ad/bean/test/tear/327.tiff has no OME-XML tags!\n",
      "WARNING:root:File output/1/anomaly_maps/mvtec_ad/bean/test/tear/053.tiff has no OME-XML tags!\n",
      "WARNING:root:File output/1/anomaly_maps/mvtec_ad/bean/test/tear/409.tiff has no OME-XML tags!\n",
      "WARNING:root:File output/1/anomaly_maps/mvtec_ad/bean/test/tear/008.tiff has no OME-XML tags!\n",
      "WARNING:root:File output/1/anomaly_maps/mvtec_ad/bean/test/tear/616.tiff has no OME-XML tags!\n",
      "WARNING:root:File output/1/anomaly_maps/mvtec_ad/bean/test/tear/023.tiff has no OME-XML tags!\n",
      "WARNING:root:File output/1/anomaly_maps/mvtec_ad/bean/test/tear/332.tiff has no OME-XML tags!\n",
      "WARNING:root:File output/1/anomaly_maps/mvtec_ad/bean/test/tear/136.tiff has no OME-XML tags!\n",
      "WARNING:root:File output/1/anomaly_maps/mvtec_ad/bean/test/tear/415.tiff has no OME-XML tags!\n",
      "WARNING:root:File output/1/anomaly_maps/mvtec_ad/bean/test/tear/364.tiff has no OME-XML tags!\n",
      "WARNING:root:File output/1/anomaly_maps/mvtec_ad/bean/test/tear/526.tiff has no OME-XML tags!\n",
      "WARNING:root:File output/1/anomaly_maps/mvtec_ad/bean/test/tear/027.tiff has no OME-XML tags!\n",
      "WARNING:root:File output/1/anomaly_maps/mvtec_ad/bean/test/tear/417.tiff has no OME-XML tags!\n",
      "WARNING:root:File output/1/anomaly_maps/mvtec_ad/bean/test/tear/134.tiff has no OME-XML tags!\n",
      "WARNING:root:File output/1/anomaly_maps/mvtec_ad/bean/test/tear/608.tiff has no OME-XML tags!\n",
      "WARNING:root:File output/1/anomaly_maps/mvtec_ad/bean/test/tear/126.tiff has no OME-XML tags!\n",
      "WARNING:root:File output/1/anomaly_maps/mvtec_ad/bean/test/tear/149.tiff has no OME-XML tags!\n",
      "WARNING:root:File output/1/anomaly_maps/mvtec_ad/bean/test/tear/682.tiff has no OME-XML tags!\n",
      "WARNING:root:File output/1/anomaly_maps/mvtec_ad/bean/test/tear/358.tiff has no OME-XML tags!\n",
      "WARNING:root:File output/1/anomaly_maps/mvtec_ad/bean/test/tear/534.tiff has no OME-XML tags!\n",
      "WARNING:root:File output/1/anomaly_maps/mvtec_ad/bean/test/tear/489.tiff has no OME-XML tags!\n",
      "WARNING:root:File output/1/anomaly_maps/mvtec_ad/bean/test/tear/272.tiff has no OME-XML tags!\n",
      "WARNING:root:File output/1/anomaly_maps/mvtec_ad/bean/test/tear/437.tiff has no OME-XML tags!\n",
      "WARNING:root:File output/1/anomaly_maps/mvtec_ad/bean/test/tear/380.tiff has no OME-XML tags!\n",
      "WARNING:root:File output/1/anomaly_maps/mvtec_ad/bean/test/tear/242.tiff has no OME-XML tags!\n",
      "WARNING:root:File output/1/anomaly_maps/mvtec_ad/bean/test/tear/043.tiff has no OME-XML tags!\n",
      "WARNING:root:File output/1/anomaly_maps/mvtec_ad/bean/test/tear/262.tiff has no OME-XML tags!\n",
      "WARNING:root:File output/1/anomaly_maps/mvtec_ad/bean/test/tear/657.tiff has no OME-XML tags!\n",
      "WARNING:root:File output/1/anomaly_maps/mvtec_ad/bean/test/tear/112.tiff has no OME-XML tags!\n",
      "WARNING:root:File output/1/anomaly_maps/mvtec_ad/bean/test/tear/260.tiff has no OME-XML tags!\n",
      "WARNING:root:File output/1/anomaly_maps/mvtec_ad/bean/test/tear/228.tiff has no OME-XML tags!\n",
      "WARNING:root:File output/1/anomaly_maps/mvtec_ad/bean/test/tear/039.tiff has no OME-XML tags!\n",
      "WARNING:root:File output/1/anomaly_maps/mvtec_ad/bean/test/tear/677.tiff has no OME-XML tags!\n",
      "WARNING:root:File output/1/anomaly_maps/mvtec_ad/bean/test/tear/294.tiff has no OME-XML tags!\n",
      "WARNING:root:File output/1/anomaly_maps/mvtec_ad/bean/test/tear/397.tiff has no OME-XML tags!\n",
      "WARNING:root:File output/1/anomaly_maps/mvtec_ad/bean/test/tear/253.tiff has no OME-XML tags!\n",
      "WARNING:root:File output/1/anomaly_maps/mvtec_ad/bean/test/tear/188.tiff has no OME-XML tags!\n",
      "WARNING:root:File output/1/anomaly_maps/mvtec_ad/bean/test/tear/590.tiff has no OME-XML tags!\n",
      "WARNING:root:File output/1/anomaly_maps/mvtec_ad/bean/test/tear/245.tiff has no OME-XML tags!\n",
      "WARNING:root:File output/1/anomaly_maps/mvtec_ad/bean/test/tear/591.tiff has no OME-XML tags!\n",
      "WARNING:root:File output/1/anomaly_maps/mvtec_ad/bean/test/tear/301.tiff has no OME-XML tags!\n",
      "WARNING:root:File output/1/anomaly_maps/mvtec_ad/bean/test/tear/117.tiff has no OME-XML tags!\n",
      "WARNING:root:File output/1/anomaly_maps/mvtec_ad/bean/test/tear/160.tiff has no OME-XML tags!\n",
      "WARNING:root:File output/1/anomaly_maps/mvtec_ad/bean/test/tear/389.tiff has no OME-XML tags!\n",
      "WARNING:root:File output/1/anomaly_maps/mvtec_ad/bean/test/tear/613.tiff has no OME-XML tags!\n",
      "WARNING:root:File output/1/anomaly_maps/mvtec_ad/bean/test/tear/286.tiff has no OME-XML tags!\n",
      "WARNING:root:File output/1/anomaly_maps/mvtec_ad/bean/test/tear/692.tiff has no OME-XML tags!\n",
      "WARNING:root:File output/1/anomaly_maps/mvtec_ad/bean/test/tear/052.tiff has no OME-XML tags!\n",
      "WARNING:root:File output/1/anomaly_maps/mvtec_ad/bean/test/tear/256.tiff has no OME-XML tags!\n",
      "WARNING:root:File output/1/anomaly_maps/mvtec_ad/bean/test/tear/697.tiff has no OME-XML tags!\n",
      "WARNING:root:File output/1/anomaly_maps/mvtec_ad/bean/test/tear/530.tiff has no OME-XML tags!\n",
      "WARNING:root:File output/1/anomaly_maps/mvtec_ad/bean/test/tear/165.tiff has no OME-XML tags!\n",
      "WARNING:root:File output/1/anomaly_maps/mvtec_ad/bean/test/tear/007.tiff has no OME-XML tags!\n",
      "WARNING:root:File output/1/anomaly_maps/mvtec_ad/bean/test/tear/312.tiff has no OME-XML tags!\n",
      "WARNING:root:File output/1/anomaly_maps/mvtec_ad/bean/test/tear/674.tiff has no OME-XML tags!\n",
      "WARNING:root:File output/1/anomaly_maps/mvtec_ad/bean/test/tear/230.tiff has no OME-XML tags!\n",
      "WARNING:root:File output/1/anomaly_maps/mvtec_ad/bean/test/tear/573.tiff has no OME-XML tags!\n",
      "WARNING:root:File output/1/anomaly_maps/mvtec_ad/bean/test/tear/529.tiff has no OME-XML tags!\n",
      "WARNING:root:File output/1/anomaly_maps/mvtec_ad/bean/test/tear/302.tiff has no OME-XML tags!\n",
      "WARNING:root:File output/1/anomaly_maps/mvtec_ad/bean/test/tear/596.tiff has no OME-XML tags!\n",
      "WARNING:root:File output/1/anomaly_maps/mvtec_ad/bean/test/tear/618.tiff has no OME-XML tags!\n",
      "WARNING:root:File output/1/anomaly_maps/mvtec_ad/bean/test/tear/331.tiff has no OME-XML tags!\n",
      "WARNING:root:File output/1/anomaly_maps/mvtec_ad/bean/test/tear/487.tiff has no OME-XML tags!\n",
      "WARNING:root:File output/1/anomaly_maps/mvtec_ad/bean/test/tear/090.tiff has no OME-XML tags!\n",
      "WARNING:root:File output/1/anomaly_maps/mvtec_ad/bean/test/tear/564.tiff has no OME-XML tags!\n",
      "WARNING:root:File output/1/anomaly_maps/mvtec_ad/bean/test/tear/355.tiff has no OME-XML tags!\n",
      "WARNING:root:File output/1/anomaly_maps/mvtec_ad/bean/test/tear/428.tiff has no OME-XML tags!\n",
      "WARNING:root:File output/1/anomaly_maps/mvtec_ad/bean/test/tear/427.tiff has no OME-XML tags!\n",
      "WARNING:root:File output/1/anomaly_maps/mvtec_ad/bean/test/tear/464.tiff has no OME-XML tags!\n",
      "WARNING:root:File output/1/anomaly_maps/mvtec_ad/bean/test/tear/430.tiff has no OME-XML tags!\n",
      "WARNING:root:File output/1/anomaly_maps/mvtec_ad/bean/test/tear/605.tiff has no OME-XML tags!\n",
      "WARNING:root:File output/1/anomaly_maps/mvtec_ad/bean/test/tear/701.tiff has no OME-XML tags!\n",
      "WARNING:root:File output/1/anomaly_maps/mvtec_ad/bean/test/tear/293.tiff has no OME-XML tags!\n",
      "WARNING:root:File output/1/anomaly_maps/mvtec_ad/bean/test/tear/183.tiff has no OME-XML tags!\n",
      "WARNING:root:File output/1/anomaly_maps/mvtec_ad/bean/test/tear/576.tiff has no OME-XML tags!\n",
      "WARNING:root:File output/1/anomaly_maps/mvtec_ad/bean/test/tear/121.tiff has no OME-XML tags!\n",
      "WARNING:root:File output/1/anomaly_maps/mvtec_ad/bean/test/tear/077.tiff has no OME-XML tags!\n",
      "WARNING:root:File output/1/anomaly_maps/mvtec_ad/bean/test/tear/598.tiff has no OME-XML tags!\n",
      "WARNING:root:File output/1/anomaly_maps/mvtec_ad/bean/test/tear/520.tiff has no OME-XML tags!\n",
      "WARNING:root:File output/1/anomaly_maps/mvtec_ad/bean/test/tear/412.tiff has no OME-XML tags!\n",
      "WARNING:root:File output/1/anomaly_maps/mvtec_ad/bean/test/tear/702.tiff has no OME-XML tags!\n",
      "WARNING:root:File output/1/anomaly_maps/mvtec_ad/bean/test/tear/523.tiff has no OME-XML tags!\n",
      "WARNING:root:File output/1/anomaly_maps/mvtec_ad/bean/test/tear/484.tiff has no OME-XML tags!\n",
      "WARNING:root:File output/1/anomaly_maps/mvtec_ad/bean/test/tear/291.tiff has no OME-XML tags!\n",
      "WARNING:root:File output/1/anomaly_maps/mvtec_ad/bean/test/tear/311.tiff has no OME-XML tags!\n",
      "WARNING:root:File output/1/anomaly_maps/mvtec_ad/bean/test/tear/435.tiff has no OME-XML tags!\n",
      "WARNING:root:File output/1/anomaly_maps/mvtec_ad/bean/test/tear/519.tiff has no OME-XML tags!\n",
      "WARNING:root:File output/1/anomaly_maps/mvtec_ad/bean/test/tear/243.tiff has no OME-XML tags!\n",
      "WARNING:root:File output/1/anomaly_maps/mvtec_ad/bean/test/tear/531.tiff has no OME-XML tags!\n",
      "WARNING:root:File output/1/anomaly_maps/mvtec_ad/bean/test/tear/672.tiff has no OME-XML tags!\n",
      "WARNING:root:File output/1/anomaly_maps/mvtec_ad/bean/test/tear/315.tiff has no OME-XML tags!\n",
      "WARNING:root:File output/1/anomaly_maps/mvtec_ad/bean/test/tear/439.tiff has no OME-XML tags!\n",
      "WARNING:root:File output/1/anomaly_maps/mvtec_ad/bean/test/tear/087.tiff has no OME-XML tags!\n",
      "WARNING:root:File output/1/anomaly_maps/mvtec_ad/bean/test/tear/093.tiff has no OME-XML tags!\n",
      "WARNING:root:File output/1/anomaly_maps/mvtec_ad/bean/test/tear/198.tiff has no OME-XML tags!\n",
      "WARNING:root:File output/1/anomaly_maps/mvtec_ad/bean/test/tear/634.tiff has no OME-XML tags!\n",
      "WARNING:root:File output/1/anomaly_maps/mvtec_ad/bean/test/tear/586.tiff has no OME-XML tags!\n",
      "WARNING:root:File output/1/anomaly_maps/mvtec_ad/bean/test/tear/419.tiff has no OME-XML tags!\n",
      "WARNING:root:File output/1/anomaly_maps/mvtec_ad/bean/test/tear/554.tiff has no OME-XML tags!\n",
      "WARNING:root:File output/1/anomaly_maps/mvtec_ad/bean/test/tear/334.tiff has no OME-XML tags!\n",
      "WARNING:root:File output/1/anomaly_maps/mvtec_ad/bean/test/tear/673.tiff has no OME-XML tags!\n",
      "WARNING:root:File output/1/anomaly_maps/mvtec_ad/bean/test/tear/164.tiff has no OME-XML tags!\n",
      "WARNING:root:File output/1/anomaly_maps/mvtec_ad/bean/test/tear/005.tiff has no OME-XML tags!\n",
      "WARNING:root:File output/1/anomaly_maps/mvtec_ad/bean/test/tear/528.tiff has no OME-XML tags!\n",
      "WARNING:root:File output/1/anomaly_maps/mvtec_ad/bean/test/tear/287.tiff has no OME-XML tags!\n",
      "WARNING:root:File output/1/anomaly_maps/mvtec_ad/bean/test/tear/407.tiff has no OME-XML tags!\n",
      "WARNING:root:File output/1/anomaly_maps/mvtec_ad/bean/test/tear/330.tiff has no OME-XML tags!\n",
      "WARNING:root:File output/1/anomaly_maps/mvtec_ad/bean/test/tear/128.tiff has no OME-XML tags!\n",
      "WARNING:root:File output/1/anomaly_maps/mvtec_ad/bean/test/tear/146.tiff has no OME-XML tags!\n",
      "WARNING:root:File output/1/anomaly_maps/mvtec_ad/bean/test/tear/488.tiff has no OME-XML tags!\n",
      "WARNING:root:File output/1/anomaly_maps/mvtec_ad/bean/test/tear/683.tiff has no OME-XML tags!\n",
      "WARNING:root:File output/1/anomaly_maps/mvtec_ad/bean/test/tear/617.tiff has no OME-XML tags!\n",
      "WARNING:root:File output/1/anomaly_maps/mvtec_ad/bean/test/tear/265.tiff has no OME-XML tags!\n",
      "WARNING:root:File output/1/anomaly_maps/mvtec_ad/bean/test/tear/107.tiff has no OME-XML tags!\n",
      "WARNING:root:File output/1/anomaly_maps/mvtec_ad/bean/test/tear/172.tiff has no OME-XML tags!\n",
      "WARNING:root:File output/1/anomaly_maps/mvtec_ad/bean/test/tear/319.tiff has no OME-XML tags!\n",
      "WARNING:root:File output/1/anomaly_maps/mvtec_ad/bean/test/tear/461.tiff has no OME-XML tags!\n",
      "WARNING:root:File output/1/anomaly_maps/mvtec_ad/bean/test/tear/237.tiff has no OME-XML tags!\n",
      "WARNING:root:File output/1/anomaly_maps/mvtec_ad/bean/test/tear/517.tiff has no OME-XML tags!\n",
      "WARNING:root:File output/1/anomaly_maps/mvtec_ad/bean/test/tear/638.tiff has no OME-XML tags!\n",
      "WARNING:root:File output/1/anomaly_maps/mvtec_ad/bean/test/tear/063.tiff has no OME-XML tags!\n",
      "WARNING:root:File output/1/anomaly_maps/mvtec_ad/bean/test/tear/233.tiff has no OME-XML tags!\n",
      "WARNING:root:File output/1/anomaly_maps/mvtec_ad/bean/test/tear/466.tiff has no OME-XML tags!\n",
      "WARNING:root:File output/1/anomaly_maps/mvtec_ad/bean/test/tear/546.tiff has no OME-XML tags!\n",
      "WARNING:root:File output/1/anomaly_maps/mvtec_ad/bean/test/tear/550.tiff has no OME-XML tags!\n",
      "WARNING:root:File output/1/anomaly_maps/mvtec_ad/bean/test/tear/454.tiff has no OME-XML tags!\n",
      "WARNING:root:File output/1/anomaly_maps/mvtec_ad/bean/test/tear/178.tiff has no OME-XML tags!\n",
      "WARNING:root:File output/1/anomaly_maps/mvtec_ad/bean/test/tear/054.tiff has no OME-XML tags!\n",
      "WARNING:root:File output/1/anomaly_maps/mvtec_ad/bean/test/tear/068.tiff has no OME-XML tags!\n",
      "WARNING:root:File output/1/anomaly_maps/mvtec_ad/bean/test/tear/366.tiff has no OME-XML tags!\n",
      "WARNING:root:File output/1/anomaly_maps/mvtec_ad/bean/test/tear/346.tiff has no OME-XML tags!\n",
      "WARNING:root:File output/1/anomaly_maps/mvtec_ad/bean/test/tear/695.tiff has no OME-XML tags!\n",
      "WARNING:root:File output/1/anomaly_maps/mvtec_ad/bean/test/tear/485.tiff has no OME-XML tags!\n",
      "WARNING:root:File output/1/anomaly_maps/mvtec_ad/bean/test/tear/352.tiff has no OME-XML tags!\n",
      "WARNING:root:File output/1/anomaly_maps/mvtec_ad/bean/test/tear/580.tiff has no OME-XML tags!\n",
      "WARNING:root:File output/1/anomaly_maps/mvtec_ad/bean/test/tear/101.tiff has no OME-XML tags!\n",
      "WARNING:root:File output/1/anomaly_maps/mvtec_ad/bean/test/tear/189.tiff has no OME-XML tags!\n",
      "WARNING:root:File output/1/anomaly_maps/mvtec_ad/bean/test/tear/139.tiff has no OME-XML tags!\n",
      "WARNING:root:File output/1/anomaly_maps/mvtec_ad/bean/test/tear/690.tiff has no OME-XML tags!\n",
      "WARNING:root:File output/1/anomaly_maps/mvtec_ad/bean/test/tear/040.tiff has no OME-XML tags!\n",
      "WARNING:root:File output/1/anomaly_maps/mvtec_ad/bean/test/tear/220.tiff has no OME-XML tags!\n",
      "WARNING:root:File output/1/anomaly_maps/mvtec_ad/bean/test/tear/290.tiff has no OME-XML tags!\n",
      "WARNING:root:File output/1/anomaly_maps/mvtec_ad/bean/test/tear/209.tiff has no OME-XML tags!\n",
      "WARNING:root:File output/1/anomaly_maps/mvtec_ad/bean/test/tear/696.tiff has no OME-XML tags!\n",
      "WARNING:root:File output/1/anomaly_maps/mvtec_ad/bean/test/tear/370.tiff has no OME-XML tags!\n",
      "WARNING:root:File output/1/anomaly_maps/mvtec_ad/bean/test/tear/565.tiff has no OME-XML tags!\n",
      "WARNING:root:File output/1/anomaly_maps/mvtec_ad/bean/test/tear/403.tiff has no OME-XML tags!\n",
      "WARNING:root:File output/1/anomaly_maps/mvtec_ad/bean/test/tear/258.tiff has no OME-XML tags!\n",
      "WARNING:root:File output/1/anomaly_maps/mvtec_ad/bean/test/tear/416.tiff has no OME-XML tags!\n",
      "WARNING:root:File output/1/anomaly_maps/mvtec_ad/bean/test/tear/000.tiff has no OME-XML tags!\n",
      "WARNING:root:File output/1/anomaly_maps/mvtec_ad/bean/test/tear/570.tiff has no OME-XML tags!\n",
      "WARNING:root:File output/1/anomaly_maps/mvtec_ad/bean/test/tear/337.tiff has no OME-XML tags!\n",
      "WARNING:root:File output/1/anomaly_maps/mvtec_ad/bean/test/tear/096.tiff has no OME-XML tags!\n",
      "WARNING:root:File output/1/anomaly_maps/mvtec_ad/bean/test/tear/456.tiff has no OME-XML tags!\n",
      "WARNING:root:File output/1/anomaly_maps/mvtec_ad/bean/test/tear/175.tiff has no OME-XML tags!\n",
      "WARNING:root:File output/1/anomaly_maps/mvtec_ad/bean/test/tear/339.tiff has no OME-XML tags!\n",
      "WARNING:root:File output/1/anomaly_maps/mvtec_ad/bean/test/tear/620.tiff has no OME-XML tags!\n",
      "WARNING:root:File output/1/anomaly_maps/mvtec_ad/bean/test/tear/668.tiff has no OME-XML tags!\n",
      "WARNING:root:File output/1/anomaly_maps/mvtec_ad/bean/test/tear/202.tiff has no OME-XML tags!\n",
      "WARNING:root:File output/1/anomaly_maps/mvtec_ad/bean/test/tear/479.tiff has no OME-XML tags!\n",
      "WARNING:root:File output/1/anomaly_maps/mvtec_ad/bean/test/tear/069.tiff has no OME-XML tags!\n",
      "WARNING:root:File output/1/anomaly_maps/mvtec_ad/bean/test/tear/025.tiff has no OME-XML tags!\n",
      "WARNING:root:File output/1/anomaly_maps/mvtec_ad/bean/test/tear/306.tiff has no OME-XML tags!\n",
      "WARNING:root:File output/1/anomaly_maps/mvtec_ad/bean/test/tear/558.tiff has no OME-XML tags!\n",
      "WARNING:root:File output/1/anomaly_maps/mvtec_ad/bean/test/tear/513.tiff has no OME-XML tags!\n",
      "WARNING:root:File output/1/anomaly_maps/mvtec_ad/bean/test/tear/034.tiff has no OME-XML tags!\n",
      "WARNING:root:File output/1/anomaly_maps/mvtec_ad/bean/test/tear/602.tiff has no OME-XML tags!\n",
      "WARNING:root:File output/1/anomaly_maps/mvtec_ad/bean/test/tear/371.tiff has no OME-XML tags!\n",
      "WARNING:root:File output/1/anomaly_maps/mvtec_ad/bean/test/tear/396.tiff has no OME-XML tags!\n",
      "WARNING:root:File output/1/anomaly_maps/mvtec_ad/bean/test/tear/653.tiff has no OME-XML tags!\n",
      "WARNING:root:File output/1/anomaly_maps/mvtec_ad/bean/test/tear/336.tiff has no OME-XML tags!\n",
      "WARNING:root:File output/1/anomaly_maps/mvtec_ad/bean/test/tear/049.tiff has no OME-XML tags!\n",
      "WARNING:root:File output/1/anomaly_maps/mvtec_ad/bean/test/tear/219.tiff has no OME-XML tags!\n",
      "WARNING:root:File output/1/anomaly_maps/mvtec_ad/bean/test/tear/114.tiff has no OME-XML tags!\n",
      "WARNING:root:File output/1/anomaly_maps/mvtec_ad/bean/test/tear/150.tiff has no OME-XML tags!\n",
      "WARNING:root:File output/1/anomaly_maps/mvtec_ad/bean/test/tear/031.tiff has no OME-XML tags!\n",
      "WARNING:root:File output/1/anomaly_maps/mvtec_ad/bean/test/tear/130.tiff has no OME-XML tags!\n",
      "WARNING:root:File output/1/anomaly_maps/mvtec_ad/bean/test/tear/507.tiff has no OME-XML tags!\n",
      "WARNING:root:File output/1/anomaly_maps/mvtec_ad/bean/test/tear/200.tiff has no OME-XML tags!\n",
      "WARNING:root:File output/1/anomaly_maps/mvtec_ad/bean/test/tear/443.tiff has no OME-XML tags!\n",
      "WARNING:root:File output/1/anomaly_maps/mvtec_ad/bean/test/tear/277.tiff has no OME-XML tags!\n",
      "WARNING:root:File output/1/anomaly_maps/mvtec_ad/bean/test/tear/624.tiff has no OME-XML tags!\n",
      "WARNING:root:File output/1/anomaly_maps/mvtec_ad/bean/test/tear/255.tiff has no OME-XML tags!\n",
      "WARNING:root:File output/1/anomaly_maps/mvtec_ad/bean/test/tear/211.tiff has no OME-XML tags!\n",
      "WARNING:root:File output/1/anomaly_maps/mvtec_ad/bean/test/tear/633.tiff has no OME-XML tags!\n",
      "WARNING:root:File output/1/anomaly_maps/mvtec_ad/bean/test/tear/686.tiff has no OME-XML tags!\n",
      "WARNING:root:File output/1/anomaly_maps/mvtec_ad/bean/test/tear/009.tiff has no OME-XML tags!\n",
      "WARNING:root:File output/1/anomaly_maps/mvtec_ad/bean/test/tear/341.tiff has no OME-XML tags!\n",
      "WARNING:root:File output/1/anomaly_maps/mvtec_ad/bean/test/tear/064.tiff has no OME-XML tags!\n",
      "WARNING:root:File output/1/anomaly_maps/mvtec_ad/bean/test/tear/135.tiff has no OME-XML tags!\n",
      "WARNING:root:File output/1/anomaly_maps/mvtec_ad/bean/test/tear/100.tiff has no OME-XML tags!\n",
      "WARNING:root:File output/1/anomaly_maps/mvtec_ad/bean/test/tear/557.tiff has no OME-XML tags!\n",
      "WARNING:root:File output/1/anomaly_maps/mvtec_ad/bean/test/tear/086.tiff has no OME-XML tags!\n",
      "WARNING:root:File output/1/anomaly_maps/mvtec_ad/bean/test/tear/119.tiff has no OME-XML tags!\n",
      "WARNING:root:File output/1/anomaly_maps/mvtec_ad/bean/test/tear/579.tiff has no OME-XML tags!\n",
      "WARNING:root:File output/1/anomaly_maps/mvtec_ad/bean/test/tear/649.tiff has no OME-XML tags!\n",
      "WARNING:root:File output/1/anomaly_maps/mvtec_ad/bean/test/tear/457.tiff has no OME-XML tags!\n",
      "WARNING:root:File output/1/anomaly_maps/mvtec_ad/bean/test/tear/506.tiff has no OME-XML tags!\n",
      "WARNING:root:File output/1/anomaly_maps/mvtec_ad/bean/test/tear/340.tiff has no OME-XML tags!\n",
      "WARNING:root:File output/1/anomaly_maps/mvtec_ad/bean/test/tear/621.tiff has no OME-XML tags!\n",
      "WARNING:root:File output/1/anomaly_maps/mvtec_ad/bean/test/tear/089.tiff has no OME-XML tags!\n",
      "WARNING:root:File output/1/anomaly_maps/mvtec_ad/bean/test/tear/559.tiff has no OME-XML tags!\n",
      "WARNING:root:File output/1/anomaly_maps/mvtec_ad/bean/test/tear/132.tiff has no OME-XML tags!\n",
      "WARNING:root:File output/1/anomaly_maps/mvtec_ad/bean/test/tear/232.tiff has no OME-XML tags!\n",
      "WARNING:root:File output/1/anomaly_maps/mvtec_ad/bean/test/tear/601.tiff has no OME-XML tags!\n",
      "WARNING:root:File output/1/anomaly_maps/mvtec_ad/bean/test/tear/516.tiff has no OME-XML tags!\n",
      "WARNING:root:File output/1/anomaly_maps/mvtec_ad/bean/test/tear/703.tiff has no OME-XML tags!\n",
      "WARNING:root:File output/1/anomaly_maps/mvtec_ad/bean/test/tear/438.tiff has no OME-XML tags!\n",
      "WARNING:root:File output/1/anomaly_maps/mvtec_ad/bean/test/tear/017.tiff has no OME-XML tags!\n",
      "WARNING:root:File output/1/anomaly_maps/mvtec_ad/bean/test/tear/248.tiff has no OME-XML tags!\n",
      "WARNING:root:File output/1/anomaly_maps/mvtec_ad/bean/test/tear/250.tiff has no OME-XML tags!\n",
      "WARNING:root:File output/1/anomaly_maps/mvtec_ad/bean/test/tear/566.tiff has no OME-XML tags!\n",
      "WARNING:root:File output/1/anomaly_maps/mvtec_ad/bean/test/tear/030.tiff has no OME-XML tags!\n",
      "WARNING:root:File output/1/anomaly_maps/mvtec_ad/bean/test/tear/555.tiff has no OME-XML tags!\n",
      "WARNING:root:File output/1/anomaly_maps/mvtec_ad/bean/test/tear/474.tiff has no OME-XML tags!\n",
      "WARNING:root:File output/1/anomaly_maps/mvtec_ad/bean/test/tear/404.tiff has no OME-XML tags!\n",
      "WARNING:root:File output/1/anomaly_maps/mvtec_ad/bean/test/tear/133.tiff has no OME-XML tags!\n",
      "WARNING:root:File output/1/anomaly_maps/mvtec_ad/bean/test/tear/061.tiff has no OME-XML tags!\n",
      "WARNING:root:File output/1/anomaly_maps/mvtec_ad/bean/test/tear/059.tiff has no OME-XML tags!\n",
      "WARNING:root:File output/1/anomaly_maps/mvtec_ad/bean/test/tear/542.tiff has no OME-XML tags!\n",
      "WARNING:root:File output/1/anomaly_maps/mvtec_ad/bean/test/tear/538.tiff has no OME-XML tags!\n",
      "WARNING:root:File output/1/anomaly_maps/mvtec_ad/bean/test/tear/299.tiff has no OME-XML tags!\n",
      "WARNING:root:File output/1/anomaly_maps/mvtec_ad/bean/test/tear/240.tiff has no OME-XML tags!\n",
      "WARNING:root:File output/1/anomaly_maps/mvtec_ad/bean/test/tear/400.tiff has no OME-XML tags!\n",
      "WARNING:root:File output/1/anomaly_maps/mvtec_ad/bean/test/tear/629.tiff has no OME-XML tags!\n",
      "WARNING:root:File output/1/anomaly_maps/mvtec_ad/bean/test/tear/026.tiff has no OME-XML tags!\n",
      "WARNING:root:File output/1/anomaly_maps/mvtec_ad/bean/test/tear/700.tiff has no OME-XML tags!\n",
      "WARNING:root:File output/1/anomaly_maps/mvtec_ad/bean/test/tear/369.tiff has no OME-XML tags!\n",
      "WARNING:root:File output/1/anomaly_maps/mvtec_ad/bean/test/tear/062.tiff has no OME-XML tags!\n",
      "WARNING:root:File output/1/anomaly_maps/mvtec_ad/bean/test/tear/151.tiff has no OME-XML tags!\n",
      "WARNING:root:File output/1/anomaly_maps/mvtec_ad/bean/test/tear/589.tiff has no OME-XML tags!\n",
      "WARNING:root:File output/1/anomaly_maps/mvtec_ad/bean/test/tear/217.tiff has no OME-XML tags!\n",
      "WARNING:root:File output/1/anomaly_maps/mvtec_ad/bean/test/tear/708.tiff has no OME-XML tags!\n",
      "WARNING:root:File output/1/anomaly_maps/mvtec_ad/bean/test/tear/295.tiff has no OME-XML tags!\n",
      "WARNING:root:File output/1/anomaly_maps/mvtec_ad/bean/test/tear/658.tiff has no OME-XML tags!\n",
      "WARNING:root:File output/1/anomaly_maps/mvtec_ad/bean/test/tear/502.tiff has no OME-XML tags!\n",
      "WARNING:root:File output/1/anomaly_maps/mvtec_ad/bean/test/tear/535.tiff has no OME-XML tags!\n",
      "WARNING:root:File output/1/anomaly_maps/mvtec_ad/bean/test/tear/361.tiff has no OME-XML tags!\n",
      "WARNING:root:File output/1/anomaly_maps/mvtec_ad/bean/test/tear/385.tiff has no OME-XML tags!\n",
      "WARNING:root:File output/1/anomaly_maps/mvtec_ad/bean/test/tear/607.tiff has no OME-XML tags!\n",
      "WARNING:root:File output/1/anomaly_maps/mvtec_ad/bean/test/tear/073.tiff has no OME-XML tags!\n",
      "WARNING:root:File output/1/anomaly_maps/mvtec_ad/bean/test/tear/065.tiff has no OME-XML tags!\n",
      "WARNING:root:File output/1/anomaly_maps/mvtec_ad/bean/test/tear/019.tiff has no OME-XML tags!\n",
      "WARNING:root:File output/1/anomaly_maps/mvtec_ad/bean/test/tear/405.tiff has no OME-XML tags!\n",
      "WARNING:root:File output/1/anomaly_maps/mvtec_ad/bean/test/tear/011.tiff has no OME-XML tags!\n",
      "WARNING:root:File output/1/anomaly_maps/mvtec_ad/bean/test/tear/038.tiff has no OME-XML tags!\n",
      "WARNING:root:File output/1/anomaly_maps/mvtec_ad/bean/test/tear/627.tiff has no OME-XML tags!\n",
      "WARNING:root:File output/1/anomaly_maps/mvtec_ad/bean/test/tear/041.tiff has no OME-XML tags!\n",
      "WARNING:root:File output/1/anomaly_maps/mvtec_ad/bean/test/tear/098.tiff has no OME-XML tags!\n",
      "WARNING:root:File output/1/anomaly_maps/mvtec_ad/bean/test/tear/147.tiff has no OME-XML tags!\n",
      "WARNING:root:File output/1/anomaly_maps/mvtec_ad/bean/test/tear/643.tiff has no OME-XML tags!\n",
      "WARNING:root:File output/1/anomaly_maps/mvtec_ad/bean/test/tear/610.tiff has no OME-XML tags!\n",
      "WARNING:root:File output/1/anomaly_maps/mvtec_ad/bean/test/tear/544.tiff has no OME-XML tags!\n",
      "WARNING:root:File output/1/anomaly_maps/mvtec_ad/bean/test/tear/574.tiff has no OME-XML tags!\n",
      "WARNING:root:File output/1/anomaly_maps/mvtec_ad/bean/test/tear/561.tiff has no OME-XML tags!\n",
      "WARNING:root:File output/1/anomaly_maps/mvtec_ad/bean/test/tear/418.tiff has no OME-XML tags!\n",
      "WARNING:root:File output/1/anomaly_maps/mvtec_ad/bean/test/tear/511.tiff has no OME-XML tags!\n",
      "WARNING:root:File output/1/anomaly_maps/mvtec_ad/bean/test/tear/155.tiff has no OME-XML tags!\n",
      "WARNING:root:File output/1/anomaly_maps/mvtec_ad/bean/test/tear/490.tiff has no OME-XML tags!\n",
      "WARNING:root:File output/1/anomaly_maps/mvtec_ad/bean/test/tear/170.tiff has no OME-XML tags!\n",
      "WARNING:root:File output/1/anomaly_maps/mvtec_ad/bean/test/tear/512.tiff has no OME-XML tags!\n",
      "WARNING:root:File output/1/anomaly_maps/mvtec_ad/bean/test/tear/203.tiff has no OME-XML tags!\n",
      "WARNING:root:File output/1/anomaly_maps/mvtec_ad/bean/test/tear/168.tiff has no OME-XML tags!\n",
      "WARNING:root:File output/1/anomaly_maps/mvtec_ad/bean/test/tear/221.tiff has no OME-XML tags!\n",
      "WARNING:root:File output/1/anomaly_maps/mvtec_ad/bean/test/tear/645.tiff has no OME-XML tags!\n",
      "WARNING:root:File output/1/anomaly_maps/mvtec_ad/bean/test/tear/105.tiff has no OME-XML tags!\n",
      "WARNING:root:File output/1/anomaly_maps/mvtec_ad/bean/test/tear/548.tiff has no OME-XML tags!\n",
      "WARNING:root:File output/1/anomaly_maps/mvtec_ad/bean/test/tear/223.tiff has no OME-XML tags!\n",
      "WARNING:root:File output/1/anomaly_maps/mvtec_ad/bean/test/tear/259.tiff has no OME-XML tags!\n",
      "WARNING:root:File output/1/anomaly_maps/mvtec_ad/bean/test/tear/414.tiff has no OME-XML tags!\n",
      "WARNING:root:File output/1/anomaly_maps/mvtec_ad/bean/test/tear/452.tiff has no OME-XML tags!\n",
      "WARNING:root:File output/1/anomaly_maps/mvtec_ad/bean/test/tear/097.tiff has no OME-XML tags!\n",
      "WARNING:root:File output/1/anomaly_maps/mvtec_ad/bean/test/tear/314.tiff has no OME-XML tags!\n",
      "WARNING:root:File output/1/anomaly_maps/mvtec_ad/bean/test/tear/091.tiff has no OME-XML tags!\n",
      "WARNING:root:File output/1/anomaly_maps/mvtec_ad/bean/test/tear/348.tiff has no OME-XML tags!\n",
      "WARNING:root:File output/1/anomaly_maps/mvtec_ad/bean/test/tear/124.tiff has no OME-XML tags!\n",
      "WARNING:root:File output/1/anomaly_maps/mvtec_ad/bean/test/tear/324.tiff has no OME-XML tags!\n",
      "WARNING:root:File output/1/anomaly_maps/mvtec_ad/bean/test/tear/113.tiff has no OME-XML tags!\n",
      "WARNING:root:File output/1/anomaly_maps/mvtec_ad/bean/test/tear/381.tiff has no OME-XML tags!\n",
      "WARNING:root:File output/1/anomaly_maps/mvtec_ad/bean/test/tear/481.tiff has no OME-XML tags!\n",
      "WARNING:root:File output/1/anomaly_maps/mvtec_ad/bean/test/tear/204.tiff has no OME-XML tags!\n",
      "WARNING:root:File output/1/anomaly_maps/mvtec_ad/bean/test/tear/684.tiff has no OME-XML tags!\n",
      "WARNING:root:File output/1/anomaly_maps/mvtec_ad/bean/test/tear/106.tiff has no OME-XML tags!\n",
      "WARNING:root:File output/1/anomaly_maps/mvtec_ad/bean/test/tear/222.tiff has no OME-XML tags!\n",
      "WARNING:root:File output/1/anomaly_maps/mvtec_ad/bean/test/tear/359.tiff has no OME-XML tags!\n",
      "WARNING:root:File output/1/anomaly_maps/mvtec_ad/bean/test/tear/432.tiff has no OME-XML tags!\n",
      "WARNING:root:File output/1/anomaly_maps/mvtec_ad/bean/test/tear/154.tiff has no OME-XML tags!\n",
      "WARNING:root:File output/1/anomaly_maps/mvtec_ad/bean/test/tear/491.tiff has no OME-XML tags!\n",
      "WARNING:root:File output/1/anomaly_maps/mvtec_ad/bean/test/tear/515.tiff has no OME-XML tags!\n",
      "WARNING:root:File output/1/anomaly_maps/mvtec_ad/bean/test/tear/577.tiff has no OME-XML tags!\n",
      "WARNING:root:File output/1/anomaly_maps/mvtec_ad/bean/test/tear/606.tiff has no OME-XML tags!\n",
      "WARNING:root:File output/1/anomaly_maps/mvtec_ad/bean/test/tear/422.tiff has no OME-XML tags!\n",
      "WARNING:root:File output/1/anomaly_maps/mvtec_ad/bean/test/tear/110.tiff has no OME-XML tags!\n",
      "WARNING:root:File output/1/anomaly_maps/mvtec_ad/bean/test/tear/671.tiff has no OME-XML tags!\n",
      "WARNING:root:File output/1/anomaly_maps/mvtec_ad/bean/test/tear/482.tiff has no OME-XML tags!\n",
      "WARNING:root:File output/1/anomaly_maps/mvtec_ad/bean/test/tear/187.tiff has no OME-XML tags!\n",
      "WARNING:root:File output/1/anomaly_maps/mvtec_ad/bean/test/tear/532.tiff has no OME-XML tags!\n",
      "WARNING:root:File output/1/anomaly_maps/mvtec_ad/bean/test/tear/595.tiff has no OME-XML tags!\n",
      "WARNING:root:File output/1/anomaly_maps/mvtec_ad/bean/test/tear/465.tiff has no OME-XML tags!\n",
      "WARNING:root:File output/1/anomaly_maps/mvtec_ad/bean/test/tear/048.tiff has no OME-XML tags!\n",
      "WARNING:root:File output/1/anomaly_maps/mvtec_ad/bean/test/tear/236.tiff has no OME-XML tags!\n",
      "WARNING:root:File output/1/anomaly_maps/mvtec_ad/bean/test/tear/563.tiff has no OME-XML tags!\n",
      "WARNING:root:File output/1/anomaly_maps/mvtec_ad/bean/test/tear/264.tiff has no OME-XML tags!\n",
      "WARNING:root:File output/1/anomaly_maps/mvtec_ad/bean/test/tear/125.tiff has no OME-XML tags!\n",
      "WARNING:root:File output/1/anomaly_maps/mvtec_ad/bean/test/tear/644.tiff has no OME-XML tags!\n",
      "WARNING:root:File output/1/anomaly_maps/mvtec_ad/bean/test/tear/194.tiff has no OME-XML tags!\n",
      "WARNING:root:File output/1/anomaly_maps/mvtec_ad/bean/test/tear/060.tiff has no OME-XML tags!\n",
      "WARNING:root:File output/1/anomaly_maps/mvtec_ad/bean/test/tear/283.tiff has no OME-XML tags!\n",
      "WARNING:root:File output/1/anomaly_maps/mvtec_ad/bean/test/tear/288.tiff has no OME-XML tags!\n",
      "WARNING:root:File output/1/anomaly_maps/mvtec_ad/bean/test/tear/411.tiff has no OME-XML tags!\n",
      "WARNING:root:File output/1/anomaly_maps/mvtec_ad/bean/test/tear/413.tiff has no OME-XML tags!\n",
      "WARNING:root:File output/1/anomaly_maps/mvtec_ad/bean/test/tear/267.tiff has no OME-XML tags!\n",
      "WARNING:root:File output/1/anomaly_maps/mvtec_ad/bean/test/tear/028.tiff has no OME-XML tags!\n",
      "WARNING:root:File output/1/anomaly_maps/mvtec_ad/bean/test/tear/631.tiff has no OME-XML tags!\n",
      "WARNING:root:File output/1/anomaly_maps/mvtec_ad/bean/test/tear/214.tiff has no OME-XML tags!\n",
      "WARNING:root:File output/1/anomaly_maps/mvtec_ad/bean/test/tear/042.tiff has no OME-XML tags!\n",
      "WARNING:root:File output/1/anomaly_maps/mvtec_ad/bean/test/tear/216.tiff has no OME-XML tags!\n",
      "WARNING:root:File output/1/anomaly_maps/mvtec_ad/bean/test/tear/567.tiff has no OME-XML tags!\n",
      "WARNING:root:File output/1/anomaly_maps/mvtec_ad/bean/test/tear/450.tiff has no OME-XML tags!\n",
      "WARNING:root:File output/1/anomaly_maps/mvtec_ad/bean/test/tear/393.tiff has no OME-XML tags!\n",
      "WARNING:root:File output/1/anomaly_maps/mvtec_ad/bean/test/tear/268.tiff has no OME-XML tags!\n",
      "WARNING:root:File output/1/anomaly_maps/mvtec_ad/bean/test/tear/597.tiff has no OME-XML tags!\n",
      "WARNING:root:File output/1/anomaly_maps/mvtec_ad/bean/test/tear/476.tiff has no OME-XML tags!\n",
      "WARNING:root:File output/1/anomaly_maps/mvtec_ad/bean/test/tear/560.tiff has no OME-XML tags!\n",
      "WARNING:root:File output/1/anomaly_maps/mvtec_ad/bean/test/tear/581.tiff has no OME-XML tags!\n",
      "WARNING:root:File output/1/anomaly_maps/mvtec_ad/bean/test/tear/284.tiff has no OME-XML tags!\n",
      "WARNING:root:File output/1/anomaly_maps/mvtec_ad/bean/test/tear/318.tiff has no OME-XML tags!\n",
      "WARNING:root:File output/1/anomaly_maps/mvtec_ad/bean/test/tear/704.tiff has no OME-XML tags!\n",
      "WARNING:root:File output/1/anomaly_maps/mvtec_ad/bean/test/tear/066.tiff has no OME-XML tags!\n",
      "WARNING:root:File output/1/anomaly_maps/mvtec_ad/bean/test/tear/022.tiff has no OME-XML tags!\n",
      "WARNING:root:File output/1/anomaly_maps/mvtec_ad/bean/test/tear/317.tiff has no OME-XML tags!\n",
      "WARNING:root:File output/1/anomaly_maps/mvtec_ad/bean/test/tear/440.tiff has no OME-XML tags!\n",
      "WARNING:root:File output/1/anomaly_maps/mvtec_ad/bean/test/tear/158.tiff has no OME-XML tags!\n",
      "WARNING:root:File output/1/anomaly_maps/mvtec_ad/bean/test/tear/578.tiff has no OME-XML tags!\n",
      "WARNING:root:File output/1/anomaly_maps/mvtec_ad/bean/test/tear/116.tiff has no OME-XML tags!\n",
      "WARNING:root:File output/1/anomaly_maps/mvtec_ad/bean/test/tear/157.tiff has no OME-XML tags!\n",
      "WARNING:root:File output/1/anomaly_maps/mvtec_ad/bean/test/tear/665.tiff has no OME-XML tags!\n",
      "WARNING:root:File output/1/anomaly_maps/mvtec_ad/bean/test/tear/547.tiff has no OME-XML tags!\n",
      "WARNING:root:File output/1/anomaly_maps/mvtec_ad/bean/test/tear/402.tiff has no OME-XML tags!\n",
      "WARNING:root:File output/1/anomaly_maps/mvtec_ad/bean/test/tear/593.tiff has no OME-XML tags!\n",
      "WARNING:root:File output/1/anomaly_maps/mvtec_ad/bean/test/tear/680.tiff has no OME-XML tags!\n",
      "WARNING:root:File output/1/anomaly_maps/mvtec_ad/bean/test/tear/338.tiff has no OME-XML tags!\n",
      "WARNING:root:File output/1/anomaly_maps/mvtec_ad/bean/test/tear/524.tiff has no OME-XML tags!\n",
      "WARNING:root:File output/1/anomaly_maps/mvtec_ad/bean/test/tear/459.tiff has no OME-XML tags!\n",
      "WARNING:root:File output/1/anomaly_maps/mvtec_ad/bean/test/tear/003.tiff has no OME-XML tags!\n",
      "WARNING:root:File output/1/anomaly_maps/mvtec_ad/bean/test/tear/536.tiff has no OME-XML tags!\n",
      "WARNING:root:File output/1/anomaly_maps/mvtec_ad/bean/test/tear/252.tiff has no OME-XML tags!\n",
      "WARNING:root:File output/1/anomaly_maps/mvtec_ad/bean/test/tear/654.tiff has no OME-XML tags!\n",
      "WARNING:root:File output/1/anomaly_maps/mvtec_ad/bean/test/tear/215.tiff has no OME-XML tags!\n",
      "WARNING:root:File output/1/anomaly_maps/mvtec_ad/bean/test/tear/496.tiff has no OME-XML tags!\n",
      "WARNING:root:File output/1/anomaly_maps/mvtec_ad/bean/test/tear/056.tiff has no OME-XML tags!\n",
      "WARNING:root:File output/1/anomaly_maps/mvtec_ad/bean/test/tear/420.tiff has no OME-XML tags!\n",
      "WARNING:root:File output/1/anomaly_maps/mvtec_ad/bean/test/tear/448.tiff has no OME-XML tags!\n",
      "WARNING:root:File output/1/anomaly_maps/mvtec_ad/bean/test/tear/525.tiff has no OME-XML tags!\n",
      "WARNING:root:File output/1/anomaly_maps/mvtec_ad/bean/test/tear/368.tiff has no OME-XML tags!\n",
      "WARNING:root:File output/1/anomaly_maps/mvtec_ad/bean/test/tear/356.tiff has no OME-XML tags!\n",
      "WARNING:root:File output/1/anomaly_maps/mvtec_ad/bean/test/tear/434.tiff has no OME-XML tags!\n",
      "WARNING:root:File output/1/anomaly_maps/mvtec_ad/bean/test/tear/047.tiff has no OME-XML tags!\n",
      "WARNING:root:File output/1/anomaly_maps/mvtec_ad/bean/test/tear/508.tiff has no OME-XML tags!\n",
      "WARNING:root:File output/1/anomaly_maps/mvtec_ad/bean/test/tear/347.tiff has no OME-XML tags!\n",
      "WARNING:root:File output/1/anomaly_maps/mvtec_ad/bean/test/tear/058.tiff has no OME-XML tags!\n",
      "WARNING:root:File output/1/anomaly_maps/mvtec_ad/bean/test/tear/115.tiff has no OME-XML tags!\n",
      "WARNING:root:File output/1/anomaly_maps/mvtec_ad/bean/test/tear/273.tiff has no OME-XML tags!\n",
      "WARNING:root:File output/1/anomaly_maps/mvtec_ad/bean/test/tear/543.tiff has no OME-XML tags!\n",
      "WARNING:root:File output/1/anomaly_maps/mvtec_ad/bean/test/tear/635.tiff has no OME-XML tags!\n",
      "WARNING:root:File output/1/anomaly_maps/mvtec_ad/bean/test/tear/447.tiff has no OME-XML tags!\n",
      "WARNING:root:File output/1/anomaly_maps/mvtec_ad/bean/test/tear/449.tiff has no OME-XML tags!\n",
      "WARNING:root:File output/1/anomaly_maps/mvtec_ad/bean/test/tear/182.tiff has no OME-XML tags!\n",
      "WARNING:root:File output/1/anomaly_maps/mvtec_ad/bean/test/tear/342.tiff has no OME-XML tags!\n",
      "WARNING:root:File output/1/anomaly_maps/mvtec_ad/bean/test/tear/398.tiff has no OME-XML tags!\n",
      "WARNING:root:File output/1/anomaly_maps/mvtec_ad/bean/test/tear/152.tiff has no OME-XML tags!\n",
      "WARNING:root:File output/1/anomaly_maps/mvtec_ad/bean/test/tear/208.tiff has no OME-XML tags!\n",
      "WARNING:root:File output/1/anomaly_maps/mvtec_ad/bean/test/tear/104.tiff has no OME-XML tags!\n",
      "WARNING:root:File output/1/anomaly_maps/mvtec_ad/bean/test/tear/351.tiff has no OME-XML tags!\n",
      "WARNING:root:File output/1/anomaly_maps/mvtec_ad/bean/test/tear/475.tiff has no OME-XML tags!\n",
      "WARNING:root:File output/1/anomaly_maps/mvtec_ad/bean/test/tear/229.tiff has no OME-XML tags!\n",
      "WARNING:root:File output/1/anomaly_maps/mvtec_ad/bean/test/tear/622.tiff has no OME-XML tags!\n",
      "WARNING:root:File output/1/anomaly_maps/mvtec_ad/bean/test/tear/143.tiff has no OME-XML tags!\n",
      "WARNING:root:File output/1/anomaly_maps/mvtec_ad/bean/test/tear/231.tiff has no OME-XML tags!\n",
      "WARNING:root:File output/1/anomaly_maps/mvtec_ad/bean/test/tear/234.tiff has no OME-XML tags!\n",
      "WARNING:root:File output/1/anomaly_maps/mvtec_ad/bean/test/tear/660.tiff has no OME-XML tags!\n",
      "WARNING:root:File output/1/anomaly_maps/mvtec_ad/bean/test/tear/111.tiff has no OME-XML tags!\n",
      "WARNING:root:File output/1/anomaly_maps/mvtec_ad/bean/test/tear/365.tiff has no OME-XML tags!\n",
      "WARNING:root:File output/1/anomaly_maps/mvtec_ad/bean/test/tear/238.tiff has no OME-XML tags!\n",
      "WARNING:root:File output/1/anomaly_maps/mvtec_ad/bean/test/tear/651.tiff has no OME-XML tags!\n",
      "WARNING:root:File output/1/anomaly_maps/mvtec_ad/bean/test/tear/180.tiff has no OME-XML tags!\n",
      "WARNING:root:File output/1/anomaly_maps/mvtec_ad/bean/test/tear/316.tiff has no OME-XML tags!\n",
      "WARNING:root:File output/1/anomaly_maps/mvtec_ad/bean/test/tear/675.tiff has no OME-XML tags!\n",
      "WARNING:root:File output/1/anomaly_maps/mvtec_ad/bean/test/tear/505.tiff has no OME-XML tags!\n",
      "WARNING:root:File output/1/anomaly_maps/mvtec_ad/bean/test/tear/477.tiff has no OME-XML tags!\n",
      "WARNING:root:File output/1/anomaly_maps/mvtec_ad/bean/test/tear/585.tiff has no OME-XML tags!\n",
      "WARNING:root:File output/1/anomaly_maps/mvtec_ad/bean/test/tear/184.tiff has no OME-XML tags!\n",
      "WARNING:root:File output/1/anomaly_maps/mvtec_ad/bean/test/tear/014.tiff has no OME-XML tags!\n",
      "WARNING:root:File output/1/anomaly_maps/mvtec_ad/bean/test/tear/082.tiff has no OME-XML tags!\n",
      "WARNING:root:File output/1/anomaly_maps/mvtec_ad/bean/test/tear/468.tiff has no OME-XML tags!\n",
      "WARNING:root:File output/1/anomaly_maps/mvtec_ad/bean/test/tear/308.tiff has no OME-XML tags!\n",
      "WARNING:root:File output/1/anomaly_maps/mvtec_ad/bean/test/tear/225.tiff has no OME-XML tags!\n",
      "WARNING:root:File output/1/anomaly_maps/mvtec_ad/bean/test/tear/281.tiff has no OME-XML tags!\n",
      "WARNING:root:File output/1/anomaly_maps/mvtec_ad/bean/test/tear/181.tiff has no OME-XML tags!\n",
      "WARNING:root:File output/1/anomaly_maps/mvtec_ad/bean/test/tear/244.tiff has no OME-XML tags!\n",
      "WARNING:root:File output/1/anomaly_maps/mvtec_ad/bean/test/tear/131.tiff has no OME-XML tags!\n",
      "WARNING:root:File output/1/anomaly_maps/mvtec_ad/bean/test/tear/710.tiff has no OME-XML tags!\n",
      "WARNING:root:File output/1/anomaly_maps/mvtec_ad/bean/test/tear/374.tiff has no OME-XML tags!\n",
      "WARNING:root:File output/1/anomaly_maps/mvtec_ad/bean/test/tear/024.tiff has no OME-XML tags!\n",
      "WARNING:root:File output/1/anomaly_maps/mvtec_ad/bean/test/tear/408.tiff has no OME-XML tags!\n",
      "WARNING:root:File output/1/anomaly_maps/mvtec_ad/bean/test/tear/071.tiff has no OME-XML tags!\n",
      "WARNING:root:File output/1/anomaly_maps/mvtec_ad/bean/test/tear/421.tiff has no OME-XML tags!\n",
      "WARNING:root:File output/1/anomaly_maps/mvtec_ad/bean/test/tear/568.tiff has no OME-XML tags!\n",
      "WARNING:root:File output/1/anomaly_maps/mvtec_ad/bean/test/tear/310.tiff has no OME-XML tags!\n",
      "WARNING:root:File output/1/anomaly_maps/mvtec_ad/bean/test/tear/395.tiff has no OME-XML tags!\n",
      "WARNING:root:File output/1/anomaly_maps/mvtec_ad/bean/test/tear/313.tiff has no OME-XML tags!\n",
      "WARNING:root:File output/1/anomaly_maps/mvtec_ad/bean/test/tear/360.tiff has no OME-XML tags!\n",
      "WARNING:root:File output/1/anomaly_maps/mvtec_ad/bean/test/tear/197.tiff has no OME-XML tags!\n",
      "WARNING:root:File output/1/anomaly_maps/mvtec_ad/bean/test/tear/401.tiff has no OME-XML tags!\n",
      "WARNING:root:File output/1/anomaly_maps/mvtec_ad/bean/test/tear/196.tiff has no OME-XML tags!\n",
      "WARNING:root:File output/1/anomaly_maps/mvtec_ad/bean/test/tear/386.tiff has no OME-XML tags!\n",
      "WARNING:root:File output/1/anomaly_maps/mvtec_ad/bean/test/tear/213.tiff has no OME-XML tags!\n",
      "WARNING:root:File output/1/anomaly_maps/mvtec_ad/bean/test/tear/705.tiff has no OME-XML tags!\n",
      "WARNING:root:File output/1/anomaly_maps/mvtec_ad/bean/test/tear/303.tiff has no OME-XML tags!\n",
      "WARNING:root:File output/1/anomaly_maps/mvtec_ad/bean/test/tear/646.tiff has no OME-XML tags!\n",
      "WARNING:root:File output/1/anomaly_maps/mvtec_ad/bean/test/tear/615.tiff has no OME-XML tags!\n",
      "WARNING:root:File output/1/anomaly_maps/mvtec_ad/bean/test/tear/693.tiff has no OME-XML tags!\n",
      "WARNING:root:File output/1/anomaly_maps/mvtec_ad/bean/test/tear/099.tiff has no OME-XML tags!\n",
      "WARNING:root:File output/1/anomaly_maps/mvtec_ad/bean/test/tear/687.tiff has no OME-XML tags!\n",
      "WARNING:root:File output/1/anomaly_maps/mvtec_ad/bean/test/tear/376.tiff has no OME-XML tags!\n",
      "WARNING:root:File output/1/anomaly_maps/mvtec_ad/bean/test/tear/553.tiff has no OME-XML tags!\n",
      "WARNING:root:File output/1/anomaly_maps/mvtec_ad/bean/test/tear/641.tiff has no OME-XML tags!\n",
      "WARNING:root:File output/1/anomaly_maps/mvtec_ad/bean/test/tear/706.tiff has no OME-XML tags!\n",
      "WARNING:root:File output/1/anomaly_maps/mvtec_ad/bean/test/tear/046.tiff has no OME-XML tags!\n",
      "WARNING:root:File output/1/anomaly_maps/mvtec_ad/bean/test/tear/483.tiff has no OME-XML tags!\n",
      "WARNING:root:File output/1/anomaly_maps/mvtec_ad/bean/test/tear/084.tiff has no OME-XML tags!\n",
      "WARNING:root:File output/1/anomaly_maps/mvtec_ad/bean/test/tear/270.tiff has no OME-XML tags!\n",
      "WARNING:root:File output/1/anomaly_maps/mvtec_ad/bean/test/tear/103.tiff has no OME-XML tags!\n",
      "WARNING:root:File output/1/anomaly_maps/mvtec_ad/bean/test/tear/032.tiff has no OME-XML tags!\n",
      "WARNING:root:File output/1/anomaly_maps/mvtec_ad/bean/test/tear/227.tiff has no OME-XML tags!\n",
      "WARNING:root:File output/1/anomaly_maps/mvtec_ad/bean/test/tear/650.tiff has no OME-XML tags!\n",
      "WARNING:root:File output/1/anomaly_maps/mvtec_ad/bean/test/tear/652.tiff has no OME-XML tags!\n",
      "WARNING:root:File output/1/anomaly_maps/mvtec_ad/bean/test/tear/426.tiff has no OME-XML tags!\n",
      "WARNING:root:File output/1/anomaly_maps/mvtec_ad/bean/test/tear/218.tiff has no OME-XML tags!\n",
      "WARNING:root:File output/1/anomaly_maps/mvtec_ad/bean/test/tear/628.tiff has no OME-XML tags!\n",
      "WARNING:root:File output/1/anomaly_maps/mvtec_ad/bean/test/tear/344.tiff has no OME-XML tags!\n",
      "WARNING:root:File output/1/anomaly_maps/mvtec_ad/bean/test/tear/329.tiff has no OME-XML tags!\n",
      "WARNING:root:File output/1/anomaly_maps/mvtec_ad/bean/test/tear/269.tiff has no OME-XML tags!\n",
      "WARNING:root:File output/1/anomaly_maps/mvtec_ad/bean/test/tear/655.tiff has no OME-XML tags!\n",
      "WARNING:root:File output/1/anomaly_maps/mvtec_ad/bean/test/tear/035.tiff has no OME-XML tags!\n",
      "WARNING:root:File output/1/anomaly_maps/mvtec_ad/bean/test/tear/092.tiff has no OME-XML tags!\n",
      "WARNING:root:File output/1/anomaly_maps/mvtec_ad/bean/test/tear/353.tiff has no OME-XML tags!\n",
      "WARNING:root:File output/1/anomaly_maps/mvtec_ad/bean/test/tear/694.tiff has no OME-XML tags!\n",
      "WARNING:root:File output/1/anomaly_maps/mvtec_ad/bean/test/tear/278.tiff has no OME-XML tags!\n",
      "WARNING:root:File output/1/anomaly_maps/mvtec_ad/bean/test/tear/199.tiff has no OME-XML tags!\n",
      "WARNING:root:File output/1/anomaly_maps/mvtec_ad/bean/test/tear/387.tiff has no OME-XML tags!\n",
      "WARNING:root:File output/1/anomaly_maps/mvtec_ad/bean/test/tear/037.tiff has no OME-XML tags!\n",
      "WARNING:root:File output/1/anomaly_maps/mvtec_ad/bean/test/tear/067.tiff has no OME-XML tags!\n",
      "WARNING:root:File output/1/anomaly_maps/mvtec_ad/bean/test/tear/153.tiff has no OME-XML tags!\n",
      "WARNING:root:File output/1/anomaly_maps/mvtec_ad/bean/test/tear/541.tiff has no OME-XML tags!\n",
      "WARNING:root:File output/1/anomaly_maps/mvtec_ad/bean/test/tear/659.tiff has no OME-XML tags!\n",
      "WARNING:root:File output/1/anomaly_maps/mvtec_ad/bean/test/tear/190.tiff has no OME-XML tags!\n",
      "WARNING:root:File output/1/anomaly_maps/mvtec_ad/bean/test/tear/394.tiff has no OME-XML tags!\n",
      "WARNING:root:File output/1/anomaly_maps/mvtec_ad/bean/test/tear/469.tiff has no OME-XML tags!\n",
      "WARNING:root:File output/1/anomaly_maps/mvtec_ad/bean/test/tear/205.tiff has no OME-XML tags!\n",
      "WARNING:root:File output/1/anomaly_maps/mvtec_ad/bean/test/tear/391.tiff has no OME-XML tags!\n",
      "WARNING:root:File output/1/anomaly_maps/mvtec_ad/bean/test/tear/619.tiff has no OME-XML tags!\n",
      "WARNING:root:File output/1/anomaly_maps/mvtec_ad/bean/test/tear/670.tiff has no OME-XML tags!\n",
      "WARNING:root:File output/1/anomaly_maps/mvtec_ad/bean/test/tear/118.tiff has no OME-XML tags!\n",
      "WARNING:root:File output/1/anomaly_maps/mvtec_ad/bean/test/tear/261.tiff has no OME-XML tags!\n",
      "WARNING:root:File output/1/anomaly_maps/mvtec_ad/bean/test/tear/501.tiff has no OME-XML tags!\n",
      "WARNING:root:File output/1/anomaly_maps/mvtec_ad/bean/test/tear/173.tiff has no OME-XML tags!\n",
      "WARNING:root:File output/1/anomaly_maps/mvtec_ad/bean/test/tear/263.tiff has no OME-XML tags!\n",
      "WARNING:root:File output/1/anomaly_maps/mvtec_ad/bean/test/tear/123.tiff has no OME-XML tags!\n",
      "WARNING:root:File output/1/anomaly_maps/mvtec_ad/bean/test/tear/055.tiff has no OME-XML tags!\n",
      "WARNING:root:File output/1/anomaly_maps/mvtec_ad/bean/test/tear/514.tiff has no OME-XML tags!\n",
      "WARNING:root:File output/1/anomaly_maps/mvtec_ad/bean/test/tear/446.tiff has no OME-XML tags!\n",
      "WARNING:root:File output/1/anomaly_maps/mvtec_ad/bean/test/tear/569.tiff has no OME-XML tags!\n",
      "WARNING:root:File output/1/anomaly_maps/mvtec_ad/bean/test/tear/212.tiff has no OME-XML tags!\n",
      "WARNING:root:File output/1/anomaly_maps/mvtec_ad/bean/test/tear/587.tiff has no OME-XML tags!\n",
      "WARNING:root:File output/1/anomaly_maps/mvtec_ad/bean/test/tear/186.tiff has no OME-XML tags!\n",
      "WARNING:root:File output/1/anomaly_maps/mvtec_ad/bean/test/tear/102.tiff has no OME-XML tags!\n",
      "WARNING:root:File output/1/anomaly_maps/mvtec_ad/bean/test/tear/494.tiff has no OME-XML tags!\n",
      "WARNING:root:File output/1/anomaly_maps/mvtec_ad/bean/test/tear/298.tiff has no OME-XML tags!\n",
      "WARNING:root:File output/1/anomaly_maps/mvtec_ad/bean/test/tear/138.tiff has no OME-XML tags!\n",
      "WARNING:root:File output/1/anomaly_maps/mvtec_ad/bean/test/tear/193.tiff has no OME-XML tags!\n",
      "WARNING:root:File output/1/anomaly_maps/mvtec_ad/bean/test/tear/612.tiff has no OME-XML tags!\n",
      "WARNING:root:File output/1/anomaly_maps/mvtec_ad/bean/test/tear/623.tiff has no OME-XML tags!\n",
      "WARNING:root:File output/1/anomaly_maps/mvtec_ad/bean/test/tear/191.tiff has no OME-XML tags!\n",
      "WARNING:root:File output/1/anomaly_maps/mvtec_ad/bean/test/tear/549.tiff has no OME-XML tags!\n",
      "WARNING:root:File output/1/anomaly_maps/mvtec_ad/bean/test/tear/074.tiff has no OME-XML tags!\n",
      "WARNING:root:File output/1/anomaly_maps/mvtec_ad/bean/test/tear/271.tiff has no OME-XML tags!\n",
      "WARNING:root:File output/1/anomaly_maps/mvtec_ad/bean/test/tear/571.tiff has no OME-XML tags!\n",
      "WARNING:root:File output/1/anomaly_maps/mvtec_ad/bean/test/tear/410.tiff has no OME-XML tags!\n",
      "WARNING:root:File output/1/anomaly_maps/mvtec_ad/bean/test/tear/144.tiff has no OME-XML tags!\n",
      "WARNING:root:File output/1/anomaly_maps/mvtec_ad/bean/test/tear/201.tiff has no OME-XML tags!\n",
      "WARNING:root:File output/1/anomaly_maps/mvtec_ad/bean/test/tear/551.tiff has no OME-XML tags!\n",
      "WARNING:root:File output/1/anomaly_maps/mvtec_ad/bean/test/tear/462.tiff has no OME-XML tags!\n",
      "WARNING:root:File output/1/anomaly_maps/mvtec_ad/bean/test/tear/662.tiff has no OME-XML tags!\n",
      "WARNING:root:File output/1/anomaly_maps/mvtec_ad/bean/test/tear/497.tiff has no OME-XML tags!\n",
      "WARNING:root:File output/1/anomaly_maps/mvtec_ad/bean/test/tear/572.tiff has no OME-XML tags!\n",
      "WARNING:root:File output/1/anomaly_maps/mvtec_ad/bean/test/tear/148.tiff has no OME-XML tags!\n",
      "WARNING:root:File output/1/anomaly_maps/mvtec_ad/bean/test/tear/678.tiff has no OME-XML tags!\n",
      "WARNING:root:File output/1/anomaly_maps/mvtec_ad/bean/test/tear/129.tiff has no OME-XML tags!\n",
      "WARNING:root:File output/1/anomaly_maps/mvtec_ad/bean/test/tear/527.tiff has no OME-XML tags!\n",
      "WARNING:root:File output/1/anomaly_maps/mvtec_ad/bean/test/tear/018.tiff has no OME-XML tags!\n",
      "WARNING:root:File output/1/anomaly_maps/mvtec_ad/bean/test/tear/451.tiff has no OME-XML tags!\n",
      "WARNING:root:File output/1/anomaly_maps/mvtec_ad/bean/test/tear/266.tiff has no OME-XML tags!\n",
      "WARNING:root:File output/1/anomaly_maps/mvtec_ad/bean/test/tear/492.tiff has no OME-XML tags!\n",
      "WARNING:root:File output/1/anomaly_maps/mvtec_ad/bean/test/tear/699.tiff has no OME-XML tags!\n",
      "WARNING:root:File output/1/anomaly_maps/mvtec_ad/bean/test/tear/279.tiff has no OME-XML tags!\n",
      "WARNING:root:File output/1/anomaly_maps/mvtec_ad/bean/test/tear/333.tiff has no OME-XML tags!\n",
      "WARNING:root:File output/1/anomaly_maps/mvtec_ad/bean/test/tear/383.tiff has no OME-XML tags!\n",
      "WARNING:root:File output/1/anomaly_maps/mvtec_ad/bean/test/tear/163.tiff has no OME-XML tags!\n",
      "WARNING:root:File output/1/anomaly_maps/mvtec_ad/bean/test/tear/343.tiff has no OME-XML tags!\n",
      "WARNING:root:File output/1/anomaly_maps/mvtec_ad/bean/test/tear/467.tiff has no OME-XML tags!\n",
      "WARNING:root:File output/1/anomaly_maps/mvtec_ad/bean/test/tear/379.tiff has no OME-XML tags!\n",
      "WARNING:root:File output/1/anomaly_maps/mvtec_ad/bean/test/tear/373.tiff has no OME-XML tags!\n",
      "WARNING:root:File output/1/anomaly_maps/mvtec_ad/bean/test/tear/159.tiff has no OME-XML tags!\n",
      "WARNING:root:File output/1/anomaly_maps/mvtec_ad/bean/test/tear/006.tiff has no OME-XML tags!\n",
      "WARNING:root:File output/1/anomaly_maps/mvtec_ad/bean/test/tear/080.tiff has no OME-XML tags!\n",
      "WARNING:root:File output/1/anomaly_maps/mvtec_ad/bean/test/tear/648.tiff has no OME-XML tags!\n",
      "WARNING:root:File output/1/anomaly_maps/mvtec_ad/bean/test/tear/345.tiff has no OME-XML tags!\n",
      "WARNING:root:File output/1/anomaly_maps/mvtec_ad/bean/test/tear/575.tiff has no OME-XML tags!\n",
      "WARNING:root:File output/1/anomaly_maps/mvtec_ad/bean/test/tear/207.tiff has no OME-XML tags!\n",
      "WARNING:root:File output/1/anomaly_maps/mvtec_ad/bean/test/tear/050.tiff has no OME-XML tags!\n",
      "WARNING:root:File output/1/anomaly_maps/mvtec_ad/bean/test/tear/664.tiff has no OME-XML tags!\n",
      "WARNING:root:File output/1/anomaly_maps/mvtec_ad/bean/test/tear/177.tiff has no OME-XML tags!\n",
      "WARNING:root:File output/1/anomaly_maps/mvtec_ad/bean/test/tear/423.tiff has no OME-XML tags!\n",
      "WARNING:root:File output/1/anomaly_maps/mvtec_ad/bean/test/tear/460.tiff has no OME-XML tags!\n",
      "WARNING:root:File output/1/anomaly_maps/mvtec_ad/bean/test/tear/320.tiff has no OME-XML tags!\n",
      "WARNING:root:File output/1/anomaly_maps/mvtec_ad/bean/test/tear/637.tiff has no OME-XML tags!\n",
      "WARNING:root:File output/1/anomaly_maps/mvtec_ad/bean/test/tear/156.tiff has no OME-XML tags!\n",
      "WARNING:root:File output/1/anomaly_maps/mvtec_ad/bean/test/tear/254.tiff has no OME-XML tags!\n",
      "WARNING:root:File output/1/anomaly_maps/mvtec_ad/bean/test/tear/001.tiff has no OME-XML tags!\n",
      "WARNING:root:File output/1/anomaly_maps/mvtec_ad/bean/test/tear/436.tiff has no OME-XML tags!\n",
      "WARNING:root:File output/1/anomaly_maps/mvtec_ad/bean/test/tear/552.tiff has no OME-XML tags!\n",
      "WARNING:root:File output/1/anomaly_maps/mvtec_ad/bean/test/tear/142.tiff has no OME-XML tags!\n",
      "WARNING:root:File output/1/anomaly_maps/mvtec_ad/bean/test/tear/326.tiff has no OME-XML tags!\n",
      "WARNING:root:File output/1/anomaly_maps/mvtec_ad/bean/test/tear/210.tiff has no OME-XML tags!\n",
      "WARNING:root:File output/1/anomaly_maps/mvtec_ad/bean/test/tear/307.tiff has no OME-XML tags!\n",
      "WARNING:root:File output/1/anomaly_maps/mvtec_ad/bean/test/tear/603.tiff has no OME-XML tags!\n",
      "WARNING:root:File output/1/anomaly_maps/mvtec_ad/bean/test/tear/367.tiff has no OME-XML tags!\n",
      "WARNING:root:File output/1/anomaly_maps/mvtec_ad/bean/test/tear/588.tiff has no OME-XML tags!\n",
      "WARNING:root:File output/1/anomaly_maps/mvtec_ad/bean/test/tear/504.tiff has no OME-XML tags!\n",
      "WARNING:root:File output/1/anomaly_maps/mvtec_ad/bean/test/tear/120.tiff has no OME-XML tags!\n",
      "WARNING:root:File output/1/anomaly_maps/mvtec_ad/bean/test/tear/375.tiff has no OME-XML tags!\n",
      "WARNING:root:File output/1/anomaly_maps/mvtec_ad/bean/test/tear/179.tiff has no OME-XML tags!\n",
      "WARNING:root:File output/1/anomaly_maps/mvtec_ad/bean/test/tear/078.tiff has no OME-XML tags!\n",
      "WARNING:root:File output/1/anomaly_maps/mvtec_ad/bean/test/tear/020.tiff has no OME-XML tags!\n",
      "WARNING:root:File output/1/anomaly_maps/mvtec_ad/bean/test/tear/445.tiff has no OME-XML tags!\n",
      "WARNING:root:File output/1/anomaly_maps/mvtec_ad/bean/test/tear/480.tiff has no OME-XML tags!\n",
      "WARNING:root:File output/1/anomaly_maps/mvtec_ad/bean/test/tear/640.tiff has no OME-XML tags!\n",
      "WARNING:root:File output/1/anomaly_maps/mvtec_ad/bean/test/tear/707.tiff has no OME-XML tags!\n",
      "WARNING:root:File output/1/anomaly_maps/mvtec_ad/bean/test/tear/051.tiff has no OME-XML tags!\n",
      "WARNING:root:File output/1/anomaly_maps/mvtec_ad/bean/test/tear/471.tiff has no OME-XML tags!\n",
      "WARNING:root:File output/1/anomaly_maps/mvtec_ad/bean/test/tear/473.tiff has no OME-XML tags!\n",
      "WARNING:root:File output/1/anomaly_maps/mvtec_ad/bean/test/tear/088.tiff has no OME-XML tags!\n",
      "WARNING:root:File output/1/anomaly_maps/mvtec_ad/bean/test/tear/463.tiff has no OME-XML tags!\n",
      "WARNING:root:File output/1/anomaly_maps/mvtec_ad/bean/test/tear/382.tiff has no OME-XML tags!\n",
      "WARNING:root:File output/1/anomaly_maps/mvtec_ad/bean/test/tear/625.tiff has no OME-XML tags!\n",
      "WARNING:root:File output/1/anomaly_maps/mvtec_ad/bean/test/tear/498.tiff has no OME-XML tags!\n",
      "WARNING:root:File output/1/anomaly_maps/mvtec_ad/bean/test/tear/363.tiff has no OME-XML tags!\n",
      "WARNING:root:File output/1/anomaly_maps/mvtec_ad/bean/test/tear/145.tiff has no OME-XML tags!\n",
      "WARNING:root:File output/1/anomaly_maps/mvtec_ad/bean/test/tear/296.tiff has no OME-XML tags!\n",
      "WARNING:root:File output/1/anomaly_maps/mvtec_ad/bean/test/tear/486.tiff has no OME-XML tags!\n",
      "WARNING:root:File output/1/anomaly_maps/mvtec_ad/bean/test/tear/285.tiff has no OME-XML tags!\n",
      "WARNING:root:File output/1/anomaly_maps/mvtec_ad/bean/test/tear/309.tiff has no OME-XML tags!\n",
      "WARNING:root:File output/1/anomaly_maps/mvtec_ad/bean/test/tear/433.tiff has no OME-XML tags!\n",
      "WARNING:root:File output/1/anomaly_maps/mvtec_ad/bean/test/tear/335.tiff has no OME-XML tags!\n",
      "WARNING:root:File output/1/anomaly_maps/mvtec_ad/bean/test/tear/357.tiff has no OME-XML tags!\n",
      "WARNING:root:File output/1/anomaly_maps/mvtec_ad/bean/test/tear/176.tiff has no OME-XML tags!\n",
      "WARNING:root:File output/1/anomaly_maps/mvtec_ad/bean/test/tear/390.tiff has no OME-XML tags!\n",
      "WARNING:root:File output/1/anomaly_maps/mvtec_ad/bean/test/tear/509.tiff has no OME-XML tags!\n",
      "WARNING:root:File output/1/anomaly_maps/mvtec_ad/bean/test/tear/584.tiff has no OME-XML tags!\n",
      "WARNING:root:File output/1/anomaly_maps/mvtec_ad/bean/test/tear/493.tiff has no OME-XML tags!\n",
      "WARNING:root:File output/1/anomaly_maps/mvtec_ad/bean/test/tear/424.tiff has no OME-XML tags!\n",
      "WARNING:root:File output/1/anomaly_maps/mvtec_ad/bean/test/tear/521.tiff has no OME-XML tags!\n",
      "WARNING:root:File output/1/anomaly_maps/mvtec_ad/bean/test/tear/470.tiff has no OME-XML tags!\n",
      "WARNING:root:File output/1/anomaly_maps/mvtec_ad/bean/test/tear/224.tiff has no OME-XML tags!\n",
      "WARNING:root:File output/1/anomaly_maps/mvtec_ad/bean/test/tear/109.tiff has no OME-XML tags!\n",
      "WARNING:root:File output/1/anomaly_maps/mvtec_ad/bean/test/tear/305.tiff has no OME-XML tags!\n",
      "WARNING:root:File output/1/anomaly_maps/mvtec_ad/bean/test/tear/377.tiff has no OME-XML tags!\n",
      "WARNING:root:File output/1/anomaly_maps/mvtec_ad/bean/test/tear/676.tiff has no OME-XML tags!\n",
      "WARNING:root:File output/1/anomaly_maps/mvtec_ad/bean/test/tear/455.tiff has no OME-XML tags!\n",
      "WARNING:root:File output/1/anomaly_maps/mvtec_ad/bean/test/tear/095.tiff has no OME-XML tags!\n",
      "WARNING:root:File output/1/anomaly_maps/mvtec_ad/bean/test/tear/503.tiff has no OME-XML tags!\n",
      "WARNING:root:File output/1/anomaly_maps/mvtec_ad/bean/test/tear/688.tiff has no OME-XML tags!\n",
      "WARNING:root:File output/1/anomaly_maps/mvtec_ad/bean/test/tear/174.tiff has no OME-XML tags!\n",
      "WARNING:root:File output/1/anomaly_maps/mvtec_ad/bean/test/tear/444.tiff has no OME-XML tags!\n",
      "WARNING:root:File output/1/anomaly_maps/mvtec_ad/bean/test/tear/044.tiff has no OME-XML tags!\n",
      "WARNING:root:File output/1/anomaly_maps/mvtec_ad/bean/test/tear/289.tiff has no OME-XML tags!\n",
      "WARNING:root:File output/1/anomaly_maps/mvtec_ad/bean/test/tear/689.tiff has no OME-XML tags!\n",
      "WARNING:root:File output/1/anomaly_maps/mvtec_ad/bean/test/tear/036.tiff has no OME-XML tags!\n",
      "WARNING:root:File output/1/anomaly_maps/mvtec_ad/bean/test/tear/604.tiff has no OME-XML tags!\n",
      "WARNING:root:File output/1/anomaly_maps/mvtec_ad/bean/test/tear/185.tiff has no OME-XML tags!\n",
      "WARNING:root:File output/1/anomaly_maps/mvtec_ad/bean/test/tear/274.tiff has no OME-XML tags!\n",
      "WARNING:root:File output/1/anomaly_maps/mvtec_ad/bean/test/tear/075.tiff has no OME-XML tags!\n",
      "WARNING:root:File output/1/anomaly_maps/mvtec_ad/bean/test/tear/166.tiff has no OME-XML tags!\n",
      "WARNING:root:File output/1/anomaly_maps/mvtec_ad/bean/test/tear/666.tiff has no OME-XML tags!\n",
      "WARNING:root:File output/1/anomaly_maps/mvtec_ad/bean/test/tear/399.tiff has no OME-XML tags!\n",
      "WARNING:root:File output/1/anomaly_maps/mvtec_ad/bean/test/tear/013.tiff has no OME-XML tags!\n",
      "WARNING:root:File output/1/anomaly_maps/mvtec_ad/bean/test/tear/085.tiff has no OME-XML tags!\n",
      "WARNING:root:File output/1/anomaly_maps/mvtec_ad/bean/test/tear/626.tiff has no OME-XML tags!\n",
      "WARNING:root:File output/1/anomaly_maps/mvtec_ad/bean/test/tear/709.tiff has no OME-XML tags!\n",
      "WARNING:root:File output/1/anomaly_maps/mvtec_ad/bean/test/tear/647.tiff has no OME-XML tags!\n",
      "WARNING:root:File output/1/anomaly_maps/mvtec_ad/bean/test/tear/141.tiff has no OME-XML tags!\n",
      "WARNING:root:File output/1/anomaly_maps/mvtec_ad/bean/test/tear/079.tiff has no OME-XML tags!\n",
      "WARNING:root:File output/1/anomaly_maps/mvtec_ad/bean/test/tear/322.tiff has no OME-XML tags!\n",
      "WARNING:root:File output/1/anomaly_maps/mvtec_ad/bean/test/tear/162.tiff has no OME-XML tags!\n",
      "WARNING:root:File output/1/anomaly_maps/mvtec_ad/bean/test/tear/656.tiff has no OME-XML tags!\n",
      "WARNING:root:File output/1/anomaly_maps/mvtec_ad/bean/test/tear/540.tiff has no OME-XML tags!\n",
      "WARNING:root:File output/1/anomaly_maps/mvtec_ad/bean/test/tear/076.tiff has no OME-XML tags!\n",
      "WARNING:root:File output/1/anomaly_maps/mvtec_ad/bean/test/tear/033.tiff has no OME-XML tags!\n",
      "WARNING:root:File output/1/anomaly_maps/mvtec_ad/bean/test/tear/081.tiff has no OME-XML tags!\n",
      "WARNING:root:File output/1/anomaly_maps/mvtec_ad/bean/test/tear/614.tiff has no OME-XML tags!\n",
      "WARNING:root:File output/1/anomaly_maps/mvtec_ad/bean/test/tear/226.tiff has no OME-XML tags!\n",
      "WARNING:root:File output/1/anomaly_maps/mvtec_ad/bean/test/tear/282.tiff has no OME-XML tags!\n",
      "WARNING:root:File output/1/anomaly_maps/mvtec_ad/bean/test/tear/711.tiff has no OME-XML tags!\n",
      "WARNING:root:File output/1/anomaly_maps/mvtec_ad/bean/test/tear/636.tiff has no OME-XML tags!\n",
      "WARNING:root:File output/1/anomaly_maps/mvtec_ad/bean/test/tear/533.tiff has no OME-XML tags!\n",
      "WARNING:root:File output/1/anomaly_maps/mvtec_ad/bean/test/tear/349.tiff has no OME-XML tags!\n",
      "WARNING:root:File output/1/anomaly_maps/mvtec_ad/bean/test/tear/378.tiff has no OME-XML tags!\n",
      "WARNING:root:File output/1/anomaly_maps/mvtec_ad/bean/test/tear/545.tiff has no OME-XML tags!\n",
      "WARNING:root:File output/1/anomaly_maps/mvtec_ad/bean/test/tear/630.tiff has no OME-XML tags!\n",
      "WARNING:root:File output/1/anomaly_maps/mvtec_ad/bean/test/tear/002.tiff has no OME-XML tags!\n",
      "WARNING:root:File output/1/anomaly_maps/mvtec_ad/bean/test/tear/681.tiff has no OME-XML tags!\n",
      "WARNING:root:File output/1/anomaly_maps/mvtec_ad/bean/test/tear/161.tiff has no OME-XML tags!\n",
      "WARNING:root:File output/1/anomaly_maps/mvtec_ad/bean/test/tear/510.tiff has no OME-XML tags!\n",
      "WARNING:root:File output/1/anomaly_maps/mvtec_ad/bean/test/tear/171.tiff has no OME-XML tags!\n",
      "WARNING:root:File output/1/anomaly_maps/mvtec_ad/bean/test/tear/241.tiff has no OME-XML tags!\n",
      "WARNING:root:File output/1/anomaly_maps/mvtec_ad/bean/test/tear/323.tiff has no OME-XML tags!\n",
      "WARNING:root:File output/1/anomaly_maps/mvtec_ad/bean/test/tear/441.tiff has no OME-XML tags!\n",
      "WARNING:root:File output/1/anomaly_maps/mvtec_ad/bean/test/tear/663.tiff has no OME-XML tags!\n",
      "WARNING:root:File output/1/anomaly_maps/mvtec_ad/bean/test/tear/021.tiff has no OME-XML tags!\n",
      "WARNING:root:File output/1/anomaly_maps/mvtec_ad/bean/test/tear/362.tiff has no OME-XML tags!\n",
      "WARNING:root:File output/1/anomaly_maps/mvtec_ad/bean/test/tear/500.tiff has no OME-XML tags!\n",
      "WARNING:root:File output/1/anomaly_maps/mvtec_ad/bean/test/tear/458.tiff has no OME-XML tags!\n",
      "WARNING:root:File output/1/anomaly_maps/mvtec_ad/bean/test/tear/611.tiff has no OME-XML tags!\n",
      "WARNING:root:File output/1/anomaly_maps/mvtec_ad/bean/test/tear/406.tiff has no OME-XML tags!\n",
      "WARNING:root:File output/1/anomaly_maps/mvtec_ad/bean/test/tear/257.tiff has no OME-XML tags!\n",
      "WARNING:root:File output/1/anomaly_maps/mvtec_ad/bean/test/tear/539.tiff has no OME-XML tags!\n",
      "WARNING:root:File output/1/anomaly_maps/mvtec_ad/bean/test/tear/246.tiff has no OME-XML tags!\n",
      "WARNING:root:File output/1/anomaly_maps/mvtec_ad/bean/test/tear/431.tiff has no OME-XML tags!\n",
      "WARNING:root:File output/1/anomaly_maps/mvtec_ad/bean/test/tear/632.tiff has no OME-XML tags!\n",
      "WARNING:root:File output/1/anomaly_maps/mvtec_ad/bean/test/tear/276.tiff has no OME-XML tags!\n",
      "WARNING:root:File output/1/anomaly_maps/mvtec_ad/bean/test/tear/691.tiff has no OME-XML tags!\n",
      "WARNING:root:File output/1/anomaly_maps/mvtec_ad/bean/test/tear/537.tiff has no OME-XML tags!\n",
      "WARNING:root:File output/1/anomaly_maps/mvtec_ad/bean/test/tear/594.tiff has no OME-XML tags!\n",
      "WARNING:root:File output/1/anomaly_maps/mvtec_ad/bean/test/tear/016.tiff has no OME-XML tags!\n",
      "WARNING:root:File output/1/anomaly_maps/mvtec_ad/bean/test/tear/429.tiff has no OME-XML tags!\n",
      "WARNING:root:File output/1/anomaly_maps/mvtec_ad/bean/test/tear/321.tiff has no OME-XML tags!\n",
      "WARNING:root:File output/1/anomaly_maps/mvtec_ad/bean/test/tear/685.tiff has no OME-XML tags!\n",
      "WARNING:root:File output/1/anomaly_maps/mvtec_ad/bean/test/tear/280.tiff has no OME-XML tags!\n",
      "WARNING:root:File output/1/anomaly_maps/mvtec_ad/bean/test/tear/556.tiff has no OME-XML tags!\n",
      "WARNING:root:File output/1/anomaly_maps/mvtec_ad/bean/test/tear/354.tiff has no OME-XML tags!\n",
      "WARNING:root:File output/1/anomaly_maps/mvtec_ad/bean/test/tear/029.tiff has no OME-XML tags!\n",
      "WARNING:root:File output/1/anomaly_maps/mvtec_ad/bean/test/tear/127.tiff has no OME-XML tags!\n",
      "WARNING:root:File output/1/anomaly_maps/mvtec_ad/bean/test/tear/292.tiff has no OME-XML tags!\n",
      "WARNING:root:File output/1/anomaly_maps/mvtec_ad/bean/test/tear/669.tiff has no OME-XML tags!\n",
      "WARNING:root:File output/1/anomaly_maps/mvtec_ad/bean/test/tear/304.tiff has no OME-XML tags!\n",
      "WARNING:root:File output/1/anomaly_maps/mvtec_ad/bean/test/tear/328.tiff has no OME-XML tags!\n",
      "WARNING:root:File output/1/anomaly_maps/mvtec_ad/bean/test/tear/300.tiff has no OME-XML tags!\n",
      "WARNING:root:File output/1/anomaly_maps/mvtec_ad/bean/test/tear/592.tiff has no OME-XML tags!\n",
      "WARNING:root:File output/1/anomaly_maps/mvtec_ad/bean/test/tear/472.tiff has no OME-XML tags!\n",
      "WARNING:root:File output/1/anomaly_maps/mvtec_ad/bean/test/tear/679.tiff has no OME-XML tags!\n",
      "WARNING:root:File output/1/anomaly_maps/mvtec_ad/bean/test/tear/599.tiff has no OME-XML tags!\n",
      "WARNING:root:File output/1/anomaly_maps/mvtec_ad/bean/test/tear/392.tiff has no OME-XML tags!\n",
      "WARNING:root:File output/1/anomaly_maps/mvtec_ad/bean/test/tear/522.tiff has no OME-XML tags!\n",
      "WARNING:root:File output/1/anomaly_maps/mvtec_ad/bean/test/tear/015.tiff has no OME-XML tags!\n",
      "WARNING:root:File output/1/anomaly_maps/mvtec_ad/bean/test/tear/235.tiff has no OME-XML tags!\n",
      "WARNING:root:File output/1/anomaly_maps/mvtec_ad/bean/test/tear/045.tiff has no OME-XML tags!\n",
      "WARNING:root:File output/1/anomaly_maps/mvtec_ad/bean/test/tear/206.tiff has no OME-XML tags!\n",
      "WARNING:root:File output/1/anomaly_maps/mvtec_ad/bean/test/tear/609.tiff has no OME-XML tags!\n",
      "WARNING:root:File output/1/anomaly_maps/mvtec_ad/bean/test/tear/384.tiff has no OME-XML tags!\n",
      "WARNING:root:File output/1/anomaly_maps/mvtec_ad/bean/test/tear/122.tiff has no OME-XML tags!\n",
      "WARNING:root:File output/1/anomaly_maps/mvtec_ad/bean/test/tear/012.tiff has no OME-XML tags!\n"
     ]
    },
    {
     "data": {
      "image/png": "[encoded data removed]",
      "text/plain": [
       "<Figure size 2000x2000 with 4 Axes>"
      ]
     },
     "metadata": {},
     "output_type": "display_data"
    },
    {
     "data": {
      "text/plain": [
       "<Figure size 640x480 with 0 Axes>"
      ]
     },
     "metadata": {},
     "output_type": "display_data"
    }
   ],
   "source": [
    "from pyometiff import OMETIFFReader\n",
    "import pathlib\n",
    "\n",
    "import os\n",
    "    \n",
    "test = os.listdir('output/1/anomaly_maps/mvtec_ad/bean/test/tear')\n",
    "    \n",
    "image_set = []\n",
    "for i in test:\n",
    "    rev_path = f'output/1/anomaly_maps/mvtec_ad/bean/test/tear/{i}'\n",
    "    img_fpath = pathlib.Path(rev_path)\n",
    "    reader = OMETIFFReader(img_fpath)\n",
    "    img_arr, meta, xml = reader.read()\n",
    "    image_set.append(img_arr)\n",
    "import matplotlib.pyplot as plt\n",
    "import cv2\n",
    "\n",
    "fig, ax = plt.subplots(1, 4, figsize=(20, 20))\n",
    "\n",
    "for i in range(4):\n",
    "    ax[i].imshow(image_set[i], cmap='gray')\n",
    "    ax[i].axis('off')\n",
    "    ax[i].set_title(test[i])\n",
    "\n",
    "plt.show()\n",
    "plt.savefig('test.png')\n",
    "# img_true_set = []\n",
    "# for i in image_set:\n",
    "#     img_true_set.append(cv2.cvtColor(i, cv2.COLOR_GRAY2BGR))\n",
    "\n"
   ]
  },
  {
   "cell_type": "code",
   "execution_count": 45,
   "metadata": {},
   "outputs": [
    {
     "name": "stdout",
     "output_type": "stream",
     "text": [
      "(64, 113)\n"
     ]
    },
    {
     "data": {
      "image/png": "[encoded data removed]",
      "text/plain": [
       "<Figure size 640x480 with 1 Axes>"
      ]
     },
     "metadata": {},
     "output_type": "display_data"
    }
   ],
   "source": [
    "import matplotlib.pyplot as plt\n",
    "import cv2\n",
    "plt.imshow(img_arr, cmap='gray')\n",
    "img_true = cv2.cvtColor(img_arr, cv2.COLOR_GRAY2BGR)\n",
    "print(img_arr.shape)"
   ]
  },
  {
   "cell_type": "code",
   "execution_count": 46,
   "metadata": {},
   "outputs": [
    {
     "data": {
      "text/plain": [
       "712"
      ]
     },
     "execution_count": 46,
     "metadata": {},
     "output_type": "execute_result"
    }
   ],
   "source": [
    "len(test)"
   ]
  },
  {
   "cell_type": "code",
   "execution_count": 47,
   "metadata": {},
   "outputs": [
    {
     "data": {
      "image/png": "[encoded data removed]",
      "text/plain": [
       "<Figure size 2000x2000 with 4 Axes>"
      ]
     },
     "metadata": {},
     "output_type": "display_data"
    },
    {
     "data": {
      "text/plain": [
       "<Figure size 640x480 with 0 Axes>"
      ]
     },
     "metadata": {},
     "output_type": "display_data"
    }
   ],
   "source": [
    "import re\n",
    "def find_num(x):\n",
    "    return x[:-5]\n",
    "image_set = []\n",
    "for i in test:\n",
    "    \n",
    "    pathz = f'../patchcore-inspection/mvtec_anomaly_detection/bean/test/tear/{find_num(i)}.jpg'\n",
    "    imgz = cv2.imread(pathz)\n",
    "    imgz = cv2.cvtColor(imgz, cv2.COLOR_BGR2RGB)\n",
    "    image_set.append(imgz)\n",
    "\n",
    "fig, ax = plt.subplots(1, 4, figsize=(20, 20))\n",
    "\n",
    "for i in range(4):\n",
    "    ax[i].imshow(image_set[i])\n",
    "    ax[i].axis('off')\n",
    "    ax[i].set_title(test[i])\n",
    "\n",
    "plt.show()\n",
    "plt.savefig(\"true.png\")"
   ]
  },
  {
   "cell_type": "code",
   "execution_count": 48,
   "metadata": {},
   "outputs": [
    {
     "data": {
      "text/plain": [
       "<matplotlib.image.AxesImage at 0x7ff95fad3af0>"
      ]
     },
     "execution_count": 48,
     "metadata": {},
     "output_type": "execute_result"
    },
    {
     "data": {
      "image/png": "[encoded data removed]",
      "text/plain": [
       "<Figure size 640x480 with 1 Axes>"
      ]
     },
     "metadata": {},
     "output_type": "display_data"
    }
   ],
   "source": [
    "import cv2\n",
    "import numpy as np\n",
    "\n",
    "# Đường dẫn đến ảnh đầu vào\n",
    "input_image_path = \"../patchcore-inspection/mvtec_anomaly_detection/bean/test/tear/001.jpg\"\n",
    "\n",
    "# Đọc ảnh đầu vào sử dụng OpenCV\n",
    "input_image = cv2.imread(input_image_path)\n",
    "\n",
    "# Chuyển ảnh sang độ xám (grayscale)\n",
    "gray_image = cv2.cvtColor(input_image, cv2.COLOR_BGR2GRAY)\n",
    "\n",
    "# Tạo một ảnh người dùng mask để chỉ giữ lại những vùng màu trắng và xám\n",
    "mask = cv2.inRange(gray_image, 0, 120)  # 128 là ngưỡng cho màu xám (có thể điều chỉnh)\n",
    "result_image = cv2.bitwise_and(input_image, input_image, mask=mask)\n",
    "\n",
    "# Chuyển những vùng trắng và xám thành màu đen\n",
    "result_image[mask == 0] = [0, 0, 0]\n",
    "\n",
    "plt.imshow(result_image)\n"
   ]
  },
  {
   "cell_type": "code",
   "execution_count": 49,
   "metadata": {},
   "outputs": [
    {
     "name": "stderr",
     "output_type": "stream",
     "text": [
      "  0%|          | 0/712 [00:00<?, ?it/s]/tmp/ipykernel_2362935/1333886581.py:26: RuntimeWarning: More than 20 figures have been opened. Figures created through the pyplot interface (`matplotlib.pyplot.figure`) are retained until explicitly closed and may consume too much memory. (To control this warning, see the rcParam `figure.max_open_warning`). Consider using `matplotlib.pyplot.close()`.\n",
      "  fig = plt.figure()\n",
      "100%|██████████| 712/712 [00:00<00:00, 1038.60it/s]\n"
     ]
    },
    {
     "data": {
      "text/plain": [
       "<Figure size 640x480 with 0 Axes>"
      ]
     },
     "metadata": {},
     "output_type": "display_data"
    },
    {
     "data": {
      "text/plain": [
       "<Figure size 640x480 with 0 Axes>"
      ]
     },
     "metadata": {},
     "output_type": "display_data"
    },
    {
     "data": {
      "text/plain": [
       "<Figure size 640x480 with 0 Axes>"
      ]
     },
     "metadata": {},
     "output_type": "display_data"
    },
    {
     "data": {
      "text/plain": [
       "<Figure size 640x480 with 0 Axes>"
      ]
     },
     "metadata": {},
     "output_type": "display_data"
    },
    {
     "data": {
      "text/plain": [
       "<Figure size 640x480 with 0 Axes>"
      ]
     },
     "metadata": {},
     "output_type": "display_data"
    },
    {
     "data": {
      "text/plain": [
       "<Figure size 640x480 with 0 Axes>"
      ]
     },
     "metadata": {},
     "output_type": "display_data"
    },
    {
     "data": {
      "text/plain": [
       "<Figure size 640x480 with 0 Axes>"
      ]
     },
     "metadata": {},
     "output_type": "display_data"
    },
    {
     "data": {
      "text/plain": [
       "<Figure size 640x480 with 0 Axes>"
      ]
     },
     "metadata": {},
     "output_type": "display_data"
    },
    {
     "data": {
      "text/plain": [
       "<Figure size 640x480 with 0 Axes>"
      ]
     },
     "metadata": {},
     "output_type": "display_data"
    },
    {
     "data": {
      "text/plain": [
       "<Figure size 640x480 with 0 Axes>"
      ]
     },
     "metadata": {},
     "output_type": "display_data"
    },
    {
     "data": {
      "text/plain": [
       "<Figure size 640x480 with 0 Axes>"
      ]
     },
     "metadata": {},
     "output_type": "display_data"
    },
    {
     "data": {
      "text/plain": [
       "<Figure size 640x480 with 0 Axes>"
      ]
     },
     "metadata": {},
     "output_type": "display_data"
    },
    {
     "data": {
      "text/plain": [
       "<Figure size 640x480 with 0 Axes>"
      ]
     },
     "metadata": {},
     "output_type": "display_data"
    },
    {
     "data": {
      "text/plain": [
       "<Figure size 640x480 with 0 Axes>"
      ]
     },
     "metadata": {},
     "output_type": "display_data"
    },
    {
     "data": {
      "text/plain": [
       "<Figure size 640x480 with 0 Axes>"
      ]
     },
     "metadata": {},
     "output_type": "display_data"
    },
    {
     "data": {
      "text/plain": [
       "<Figure size 640x480 with 0 Axes>"
      ]
     },
     "metadata": {},
     "output_type": "display_data"
    },
    {
     "data": {
      "text/plain": [
       "<Figure size 640x480 with 0 Axes>"
      ]
     },
     "metadata": {},
     "output_type": "display_data"
    },
    {
     "data": {
      "text/plain": [
       "<Figure size 640x480 with 0 Axes>"
      ]
     },
     "metadata": {},
     "output_type": "display_data"
    },
    {
     "data": {
      "text/plain": [
       "<Figure size 640x480 with 0 Axes>"
      ]
     },
     "metadata": {},
     "output_type": "display_data"
    },
    {
     "data": {
      "text/plain": [
       "<Figure size 640x480 with 0 Axes>"
      ]
     },
     "metadata": {},
     "output_type": "display_data"
    },
    {
     "data": {
      "text/plain": [
       "<Figure size 640x480 with 0 Axes>"
      ]
     },
     "metadata": {},
     "output_type": "display_data"
    },
    {
     "data": {
      "text/plain": [
       "<Figure size 640x480 with 0 Axes>"
      ]
     },
     "metadata": {},
     "output_type": "display_data"
    },
    {
     "data": {
      "text/plain": [
       "<Figure size 640x480 with 0 Axes>"
      ]
     },
     "metadata": {},
     "output_type": "display_data"
    },
    {
     "data": {
      "text/plain": [
       "<Figure size 640x480 with 0 Axes>"
      ]
     },
     "metadata": {},
     "output_type": "display_data"
    },
    {
     "data": {
      "text/plain": [
       "<Figure size 640x480 with 0 Axes>"
      ]
     },
     "metadata": {},
     "output_type": "display_data"
    },
    {
     "data": {
      "text/plain": [
       "<Figure size 640x480 with 0 Axes>"
      ]
     },
     "metadata": {},
     "output_type": "display_data"
    },
    {
     "data": {
      "text/plain": [
       "<Figure size 640x480 with 0 Axes>"
      ]
     },
     "metadata": {},
     "output_type": "display_data"
    },
    {
     "data": {
      "text/plain": [
       "<Figure size 640x480 with 0 Axes>"
      ]
     },
     "metadata": {},
     "output_type": "display_data"
    },
    {
     "data": {
      "text/plain": [
       "<Figure size 640x480 with 0 Axes>"
      ]
     },
     "metadata": {},
     "output_type": "display_data"
    },
    {
     "data": {
      "text/plain": [
       "<Figure size 640x480 with 0 Axes>"
      ]
     },
     "metadata": {},
     "output_type": "display_data"
    },
    {
     "data": {
      "text/plain": [
       "<Figure size 640x480 with 0 Axes>"
      ]
     },
     "metadata": {},
     "output_type": "display_data"
    },
    {
     "data": {
      "text/plain": [
       "<Figure size 640x480 with 0 Axes>"
      ]
     },
     "metadata": {},
     "output_type": "display_data"
    },
    {
     "data": {
      "text/plain": [
       "<Figure size 640x480 with 0 Axes>"
      ]
     },
     "metadata": {},
     "output_type": "display_data"
    },
    {
     "data": {
      "text/plain": [
       "<Figure size 640x480 with 0 Axes>"
      ]
     },
     "metadata": {},
     "output_type": "display_data"
    },
    {
     "data": {
      "text/plain": [
       "<Figure size 640x480 with 0 Axes>"
      ]
     },
     "metadata": {},
     "output_type": "display_data"
    },
    {
     "data": {
      "text/plain": [
       "<Figure size 640x480 with 0 Axes>"
      ]
     },
     "metadata": {},
     "output_type": "display_data"
    },
    {
     "data": {
      "text/plain": [
       "<Figure size 640x480 with 0 Axes>"
      ]
     },
     "metadata": {},
     "output_type": "display_data"
    },
    {
     "data": {
      "text/plain": [
       "<Figure size 640x480 with 0 Axes>"
      ]
     },
     "metadata": {},
     "output_type": "display_data"
    },
    {
     "data": {
      "text/plain": [
       "<Figure size 640x480 with 0 Axes>"
      ]
     },
     "metadata": {},
     "output_type": "display_data"
    },
    {
     "data": {
      "text/plain": [
       "<Figure size 640x480 with 0 Axes>"
      ]
     },
     "metadata": {},
     "output_type": "display_data"
    },
    {
     "data": {
      "text/plain": [
       "<Figure size 640x480 with 0 Axes>"
      ]
     },
     "metadata": {},
     "output_type": "display_data"
    },
    {
     "data": {
      "text/plain": [
       "<Figure size 640x480 with 0 Axes>"
      ]
     },
     "metadata": {},
     "output_type": "display_data"
    },
    {
     "data": {
      "text/plain": [
       "<Figure size 640x480 with 0 Axes>"
      ]
     },
     "metadata": {},
     "output_type": "display_data"
    },
    {
     "data": {
      "text/plain": [
       "<Figure size 640x480 with 0 Axes>"
      ]
     },
     "metadata": {},
     "output_type": "display_data"
    },
    {
     "data": {
      "text/plain": [
       "<Figure size 640x480 with 0 Axes>"
      ]
     },
     "metadata": {},
     "output_type": "display_data"
    },
    {
     "data": {
      "text/plain": [
       "<Figure size 640x480 with 0 Axes>"
      ]
     },
     "metadata": {},
     "output_type": "display_data"
    },
    {
     "data": {
      "text/plain": [
       "<Figure size 640x480 with 0 Axes>"
      ]
     },
     "metadata": {},
     "output_type": "display_data"
    },
    {
     "data": {
      "text/plain": [
       "<Figure size 640x480 with 0 Axes>"
      ]
     },
     "metadata": {},
     "output_type": "display_data"
    },
    {
     "data": {
      "text/plain": [
       "<Figure size 640x480 with 0 Axes>"
      ]
     },
     "metadata": {},
     "output_type": "display_data"
    },
    {
     "data": {
      "text/plain": [
       "<Figure size 640x480 with 0 Axes>"
      ]
     },
     "metadata": {},
     "output_type": "display_data"
    },
    {
     "data": {
      "text/plain": [
       "<Figure size 640x480 with 0 Axes>"
      ]
     },
     "metadata": {},
     "output_type": "display_data"
    },
    {
     "data": {
      "text/plain": [
       "<Figure size 640x480 with 0 Axes>"
      ]
     },
     "metadata": {},
     "output_type": "display_data"
    },
    {
     "data": {
      "text/plain": [
       "<Figure size 640x480 with 0 Axes>"
      ]
     },
     "metadata": {},
     "output_type": "display_data"
    },
    {
     "data": {
      "text/plain": [
       "<Figure size 640x480 with 0 Axes>"
      ]
     },
     "metadata": {},
     "output_type": "display_data"
    },
    {
     "data": {
      "text/plain": [
       "<Figure size 640x480 with 0 Axes>"
      ]
     },
     "metadata": {},
     "output_type": "display_data"
    },
    {
     "data": {
      "text/plain": [
       "<Figure size 640x480 with 0 Axes>"
      ]
     },
     "metadata": {},
     "output_type": "display_data"
    },
    {
     "data": {
      "text/plain": [
       "<Figure size 640x480 with 0 Axes>"
      ]
     },
     "metadata": {},
     "output_type": "display_data"
    },
    {
     "data": {
      "text/plain": [
       "<Figure size 640x480 with 0 Axes>"
      ]
     },
     "metadata": {},
     "output_type": "display_data"
    },
    {
     "data": {
      "text/plain": [
       "<Figure size 640x480 with 0 Axes>"
      ]
     },
     "metadata": {},
     "output_type": "display_data"
    },
    {
     "data": {
      "text/plain": [
       "<Figure size 640x480 with 0 Axes>"
      ]
     },
     "metadata": {},
     "output_type": "display_data"
    },
    {
     "data": {
      "text/plain": [
       "<Figure size 640x480 with 0 Axes>"
      ]
     },
     "metadata": {},
     "output_type": "display_data"
    },
    {
     "data": {
      "text/plain": [
       "<Figure size 640x480 with 0 Axes>"
      ]
     },
     "metadata": {},
     "output_type": "display_data"
    },
    {
     "data": {
      "text/plain": [
       "<Figure size 640x480 with 0 Axes>"
      ]
     },
     "metadata": {},
     "output_type": "display_data"
    },
    {
     "data": {
      "text/plain": [
       "<Figure size 640x480 with 0 Axes>"
      ]
     },
     "metadata": {},
     "output_type": "display_data"
    },
    {
     "data": {
      "text/plain": [
       "<Figure size 640x480 with 0 Axes>"
      ]
     },
     "metadata": {},
     "output_type": "display_data"
    },
    {
     "data": {
      "text/plain": [
       "<Figure size 640x480 with 0 Axes>"
      ]
     },
     "metadata": {},
     "output_type": "display_data"
    },
    {
     "data": {
      "text/plain": [
       "<Figure size 640x480 with 0 Axes>"
      ]
     },
     "metadata": {},
     "output_type": "display_data"
    },
    {
     "data": {
      "text/plain": [
       "<Figure size 640x480 with 0 Axes>"
      ]
     },
     "metadata": {},
     "output_type": "display_data"
    },
    {
     "data": {
      "text/plain": [
       "<Figure size 640x480 with 0 Axes>"
      ]
     },
     "metadata": {},
     "output_type": "display_data"
    },
    {
     "data": {
      "text/plain": [
       "<Figure size 640x480 with 0 Axes>"
      ]
     },
     "metadata": {},
     "output_type": "display_data"
    },
    {
     "data": {
      "text/plain": [
       "<Figure size 640x480 with 0 Axes>"
      ]
     },
     "metadata": {},
     "output_type": "display_data"
    },
    {
     "data": {
      "text/plain": [
       "<Figure size 640x480 with 0 Axes>"
      ]
     },
     "metadata": {},
     "output_type": "display_data"
    },
    {
     "data": {
      "text/plain": [
       "<Figure size 640x480 with 0 Axes>"
      ]
     },
     "metadata": {},
     "output_type": "display_data"
    },
    {
     "data": {
      "text/plain": [
       "<Figure size 640x480 with 0 Axes>"
      ]
     },
     "metadata": {},
     "output_type": "display_data"
    },
    {
     "data": {
      "text/plain": [
       "<Figure size 640x480 with 0 Axes>"
      ]
     },
     "metadata": {},
     "output_type": "display_data"
    },
    {
     "data": {
      "text/plain": [
       "<Figure size 640x480 with 0 Axes>"
      ]
     },
     "metadata": {},
     "output_type": "display_data"
    },
    {
     "data": {
      "text/plain": [
       "<Figure size 640x480 with 0 Axes>"
      ]
     },
     "metadata": {},
     "output_type": "display_data"
    },
    {
     "data": {
      "text/plain": [
       "<Figure size 640x480 with 0 Axes>"
      ]
     },
     "metadata": {},
     "output_type": "display_data"
    },
    {
     "data": {
      "text/plain": [
       "<Figure size 640x480 with 0 Axes>"
      ]
     },
     "metadata": {},
     "output_type": "display_data"
    },
    {
     "data": {
      "text/plain": [
       "<Figure size 640x480 with 0 Axes>"
      ]
     },
     "metadata": {},
     "output_type": "display_data"
    },
    {
     "data": {
      "text/plain": [
       "<Figure size 640x480 with 0 Axes>"
      ]
     },
     "metadata": {},
     "output_type": "display_data"
    },
    {
     "data": {
      "text/plain": [
       "<Figure size 640x480 with 0 Axes>"
      ]
     },
     "metadata": {},
     "output_type": "display_data"
    },
    {
     "data": {
      "text/plain": [
       "<Figure size 640x480 with 0 Axes>"
      ]
     },
     "metadata": {},
     "output_type": "display_data"
    },
    {
     "data": {
      "text/plain": [
       "<Figure size 640x480 with 0 Axes>"
      ]
     },
     "metadata": {},
     "output_type": "display_data"
    },
    {
     "data": {
      "text/plain": [
       "<Figure size 640x480 with 0 Axes>"
      ]
     },
     "metadata": {},
     "output_type": "display_data"
    },
    {
     "data": {
      "text/plain": [
       "<Figure size 640x480 with 0 Axes>"
      ]
     },
     "metadata": {},
     "output_type": "display_data"
    },
    {
     "data": {
      "text/plain": [
       "<Figure size 640x480 with 0 Axes>"
      ]
     },
     "metadata": {},
     "output_type": "display_data"
    },
    {
     "data": {
      "text/plain": [
       "<Figure size 640x480 with 0 Axes>"
      ]
     },
     "metadata": {},
     "output_type": "display_data"
    },
    {
     "data": {
      "text/plain": [
       "<Figure size 640x480 with 0 Axes>"
      ]
     },
     "metadata": {},
     "output_type": "display_data"
    },
    {
     "data": {
      "text/plain": [
       "<Figure size 640x480 with 0 Axes>"
      ]
     },
     "metadata": {},
     "output_type": "display_data"
    },
    {
     "data": {
      "text/plain": [
       "<Figure size 640x480 with 0 Axes>"
      ]
     },
     "metadata": {},
     "output_type": "display_data"
    },
    {
     "data": {
      "text/plain": [
       "<Figure size 640x480 with 0 Axes>"
      ]
     },
     "metadata": {},
     "output_type": "display_data"
    },
    {
     "data": {
      "text/plain": [
       "<Figure size 640x480 with 0 Axes>"
      ]
     },
     "metadata": {},
     "output_type": "display_data"
    },
    {
     "data": {
      "text/plain": [
       "<Figure size 640x480 with 0 Axes>"
      ]
     },
     "metadata": {},
     "output_type": "display_data"
    },
    {
     "data": {
      "text/plain": [
       "<Figure size 640x480 with 0 Axes>"
      ]
     },
     "metadata": {},
     "output_type": "display_data"
    },
    {
     "data": {
      "text/plain": [
       "<Figure size 640x480 with 0 Axes>"
      ]
     },
     "metadata": {},
     "output_type": "display_data"
    },
    {
     "data": {
      "text/plain": [
       "<Figure size 640x480 with 0 Axes>"
      ]
     },
     "metadata": {},
     "output_type": "display_data"
    },
    {
     "data": {
      "text/plain": [
       "<Figure size 640x480 with 0 Axes>"
      ]
     },
     "metadata": {},
     "output_type": "display_data"
    },
    {
     "data": {
      "text/plain": [
       "<Figure size 640x480 with 0 Axes>"
      ]
     },
     "metadata": {},
     "output_type": "display_data"
    },
    {
     "data": {
      "text/plain": [
       "<Figure size 640x480 with 0 Axes>"
      ]
     },
     "metadata": {},
     "output_type": "display_data"
    },
    {
     "data": {
      "text/plain": [
       "<Figure size 640x480 with 0 Axes>"
      ]
     },
     "metadata": {},
     "output_type": "display_data"
    },
    {
     "data": {
      "text/plain": [
       "<Figure size 640x480 with 0 Axes>"
      ]
     },
     "metadata": {},
     "output_type": "display_data"
    },
    {
     "data": {
      "text/plain": [
       "<Figure size 640x480 with 0 Axes>"
      ]
     },
     "metadata": {},
     "output_type": "display_data"
    },
    {
     "data": {
      "text/plain": [
       "<Figure size 640x480 with 0 Axes>"
      ]
     },
     "metadata": {},
     "output_type": "display_data"
    },
    {
     "data": {
      "text/plain": [
       "<Figure size 640x480 with 0 Axes>"
      ]
     },
     "metadata": {},
     "output_type": "display_data"
    },
    {
     "data": {
      "text/plain": [
       "<Figure size 640x480 with 0 Axes>"
      ]
     },
     "metadata": {},
     "output_type": "display_data"
    },
    {
     "data": {
      "text/plain": [
       "<Figure size 640x480 with 0 Axes>"
      ]
     },
     "metadata": {},
     "output_type": "display_data"
    },
    {
     "data": {
      "text/plain": [
       "<Figure size 640x480 with 0 Axes>"
      ]
     },
     "metadata": {},
     "output_type": "display_data"
    },
    {
     "data": {
      "text/plain": [
       "<Figure size 640x480 with 0 Axes>"
      ]
     },
     "metadata": {},
     "output_type": "display_data"
    },
    {
     "data": {
      "text/plain": [
       "<Figure size 640x480 with 0 Axes>"
      ]
     },
     "metadata": {},
     "output_type": "display_data"
    },
    {
     "data": {
      "text/plain": [
       "<Figure size 640x480 with 0 Axes>"
      ]
     },
     "metadata": {},
     "output_type": "display_data"
    },
    {
     "data": {
      "text/plain": [
       "<Figure size 640x480 with 0 Axes>"
      ]
     },
     "metadata": {},
     "output_type": "display_data"
    },
    {
     "data": {
      "text/plain": [
       "<Figure size 640x480 with 0 Axes>"
      ]
     },
     "metadata": {},
     "output_type": "display_data"
    },
    {
     "data": {
      "text/plain": [
       "<Figure size 640x480 with 0 Axes>"
      ]
     },
     "metadata": {},
     "output_type": "display_data"
    },
    {
     "data": {
      "text/plain": [
       "<Figure size 640x480 with 0 Axes>"
      ]
     },
     "metadata": {},
     "output_type": "display_data"
    },
    {
     "data": {
      "text/plain": [
       "<Figure size 640x480 with 0 Axes>"
      ]
     },
     "metadata": {},
     "output_type": "display_data"
    },
    {
     "data": {
      "text/plain": [
       "<Figure size 640x480 with 0 Axes>"
      ]
     },
     "metadata": {},
     "output_type": "display_data"
    },
    {
     "data": {
      "text/plain": [
       "<Figure size 640x480 with 0 Axes>"
      ]
     },
     "metadata": {},
     "output_type": "display_data"
    },
    {
     "data": {
      "text/plain": [
       "<Figure size 640x480 with 0 Axes>"
      ]
     },
     "metadata": {},
     "output_type": "display_data"
    },
    {
     "data": {
      "text/plain": [
       "<Figure size 640x480 with 0 Axes>"
      ]
     },
     "metadata": {},
     "output_type": "display_data"
    },
    {
     "data": {
      "text/plain": [
       "<Figure size 640x480 with 0 Axes>"
      ]
     },
     "metadata": {},
     "output_type": "display_data"
    },
    {
     "data": {
      "text/plain": [
       "<Figure size 640x480 with 0 Axes>"
      ]
     },
     "metadata": {},
     "output_type": "display_data"
    },
    {
     "data": {
      "text/plain": [
       "<Figure size 640x480 with 0 Axes>"
      ]
     },
     "metadata": {},
     "output_type": "display_data"
    },
    {
     "data": {
      "text/plain": [
       "<Figure size 640x480 with 0 Axes>"
      ]
     },
     "metadata": {},
     "output_type": "display_data"
    },
    {
     "data": {
      "text/plain": [
       "<Figure size 640x480 with 0 Axes>"
      ]
     },
     "metadata": {},
     "output_type": "display_data"
    },
    {
     "data": {
      "text/plain": [
       "<Figure size 640x480 with 0 Axes>"
      ]
     },
     "metadata": {},
     "output_type": "display_data"
    },
    {
     "data": {
      "text/plain": [
       "<Figure size 640x480 with 0 Axes>"
      ]
     },
     "metadata": {},
     "output_type": "display_data"
    },
    {
     "data": {
      "text/plain": [
       "<Figure size 640x480 with 0 Axes>"
      ]
     },
     "metadata": {},
     "output_type": "display_data"
    },
    {
     "data": {
      "text/plain": [
       "<Figure size 640x480 with 0 Axes>"
      ]
     },
     "metadata": {},
     "output_type": "display_data"
    },
    {
     "data": {
      "text/plain": [
       "<Figure size 640x480 with 0 Axes>"
      ]
     },
     "metadata": {},
     "output_type": "display_data"
    },
    {
     "data": {
      "text/plain": [
       "<Figure size 640x480 with 0 Axes>"
      ]
     },
     "metadata": {},
     "output_type": "display_data"
    },
    {
     "data": {
      "text/plain": [
       "<Figure size 640x480 with 0 Axes>"
      ]
     },
     "metadata": {},
     "output_type": "display_data"
    },
    {
     "data": {
      "text/plain": [
       "<Figure size 640x480 with 0 Axes>"
      ]
     },
     "metadata": {},
     "output_type": "display_data"
    },
    {
     "data": {
      "text/plain": [
       "<Figure size 640x480 with 0 Axes>"
      ]
     },
     "metadata": {},
     "output_type": "display_data"
    },
    {
     "data": {
      "text/plain": [
       "<Figure size 640x480 with 0 Axes>"
      ]
     },
     "metadata": {},
     "output_type": "display_data"
    },
    {
     "data": {
      "text/plain": [
       "<Figure size 640x480 with 0 Axes>"
      ]
     },
     "metadata": {},
     "output_type": "display_data"
    },
    {
     "data": {
      "text/plain": [
       "<Figure size 640x480 with 0 Axes>"
      ]
     },
     "metadata": {},
     "output_type": "display_data"
    },
    {
     "data": {
      "text/plain": [
       "<Figure size 640x480 with 0 Axes>"
      ]
     },
     "metadata": {},
     "output_type": "display_data"
    },
    {
     "data": {
      "text/plain": [
       "<Figure size 640x480 with 0 Axes>"
      ]
     },
     "metadata": {},
     "output_type": "display_data"
    },
    {
     "data": {
      "text/plain": [
       "<Figure size 640x480 with 0 Axes>"
      ]
     },
     "metadata": {},
     "output_type": "display_data"
    },
    {
     "data": {
      "text/plain": [
       "<Figure size 640x480 with 0 Axes>"
      ]
     },
     "metadata": {},
     "output_type": "display_data"
    },
    {
     "data": {
      "text/plain": [
       "<Figure size 640x480 with 0 Axes>"
      ]
     },
     "metadata": {},
     "output_type": "display_data"
    },
    {
     "data": {
      "text/plain": [
       "<Figure size 640x480 with 0 Axes>"
      ]
     },
     "metadata": {},
     "output_type": "display_data"
    },
    {
     "data": {
      "text/plain": [
       "<Figure size 640x480 with 0 Axes>"
      ]
     },
     "metadata": {},
     "output_type": "display_data"
    },
    {
     "data": {
      "text/plain": [
       "<Figure size 640x480 with 0 Axes>"
      ]
     },
     "metadata": {},
     "output_type": "display_data"
    },
    {
     "data": {
      "text/plain": [
       "<Figure size 640x480 with 0 Axes>"
      ]
     },
     "metadata": {},
     "output_type": "display_data"
    },
    {
     "data": {
      "text/plain": [
       "<Figure size 640x480 with 0 Axes>"
      ]
     },
     "metadata": {},
     "output_type": "display_data"
    },
    {
     "data": {
      "text/plain": [
       "<Figure size 640x480 with 0 Axes>"
      ]
     },
     "metadata": {},
     "output_type": "display_data"
    },
    {
     "data": {
      "text/plain": [
       "<Figure size 640x480 with 0 Axes>"
      ]
     },
     "metadata": {},
     "output_type": "display_data"
    },
    {
     "data": {
      "text/plain": [
       "<Figure size 640x480 with 0 Axes>"
      ]
     },
     "metadata": {},
     "output_type": "display_data"
    },
    {
     "data": {
      "text/plain": [
       "<Figure size 640x480 with 0 Axes>"
      ]
     },
     "metadata": {},
     "output_type": "display_data"
    },
    {
     "data": {
      "text/plain": [
       "<Figure size 640x480 with 0 Axes>"
      ]
     },
     "metadata": {},
     "output_type": "display_data"
    },
    {
     "data": {
      "text/plain": [
       "<Figure size 640x480 with 0 Axes>"
      ]
     },
     "metadata": {},
     "output_type": "display_data"
    },
    {
     "data": {
      "text/plain": [
       "<Figure size 640x480 with 0 Axes>"
      ]
     },
     "metadata": {},
     "output_type": "display_data"
    },
    {
     "data": {
      "text/plain": [
       "<Figure size 640x480 with 0 Axes>"
      ]
     },
     "metadata": {},
     "output_type": "display_data"
    },
    {
     "data": {
      "text/plain": [
       "<Figure size 640x480 with 0 Axes>"
      ]
     },
     "metadata": {},
     "output_type": "display_data"
    },
    {
     "data": {
      "text/plain": [
       "<Figure size 640x480 with 0 Axes>"
      ]
     },
     "metadata": {},
     "output_type": "display_data"
    },
    {
     "data": {
      "text/plain": [
       "<Figure size 640x480 with 0 Axes>"
      ]
     },
     "metadata": {},
     "output_type": "display_data"
    },
    {
     "data": {
      "text/plain": [
       "<Figure size 640x480 with 0 Axes>"
      ]
     },
     "metadata": {},
     "output_type": "display_data"
    },
    {
     "data": {
      "text/plain": [
       "<Figure size 640x480 with 0 Axes>"
      ]
     },
     "metadata": {},
     "output_type": "display_data"
    },
    {
     "data": {
      "text/plain": [
       "<Figure size 640x480 with 0 Axes>"
      ]
     },
     "metadata": {},
     "output_type": "display_data"
    },
    {
     "data": {
      "text/plain": [
       "<Figure size 640x480 with 0 Axes>"
      ]
     },
     "metadata": {},
     "output_type": "display_data"
    },
    {
     "data": {
      "text/plain": [
       "<Figure size 640x480 with 0 Axes>"
      ]
     },
     "metadata": {},
     "output_type": "display_data"
    },
    {
     "data": {
      "text/plain": [
       "<Figure size 640x480 with 0 Axes>"
      ]
     },
     "metadata": {},
     "output_type": "display_data"
    },
    {
     "data": {
      "text/plain": [
       "<Figure size 640x480 with 0 Axes>"
      ]
     },
     "metadata": {},
     "output_type": "display_data"
    },
    {
     "data": {
      "text/plain": [
       "<Figure size 640x480 with 0 Axes>"
      ]
     },
     "metadata": {},
     "output_type": "display_data"
    },
    {
     "data": {
      "text/plain": [
       "<Figure size 640x480 with 0 Axes>"
      ]
     },
     "metadata": {},
     "output_type": "display_data"
    },
    {
     "data": {
      "text/plain": [
       "<Figure size 640x480 with 0 Axes>"
      ]
     },
     "metadata": {},
     "output_type": "display_data"
    },
    {
     "data": {
      "text/plain": [
       "<Figure size 640x480 with 0 Axes>"
      ]
     },
     "metadata": {},
     "output_type": "display_data"
    },
    {
     "data": {
      "text/plain": [
       "<Figure size 640x480 with 0 Axes>"
      ]
     },
     "metadata": {},
     "output_type": "display_data"
    },
    {
     "data": {
      "text/plain": [
       "<Figure size 640x480 with 0 Axes>"
      ]
     },
     "metadata": {},
     "output_type": "display_data"
    },
    {
     "data": {
      "text/plain": [
       "<Figure size 640x480 with 0 Axes>"
      ]
     },
     "metadata": {},
     "output_type": "display_data"
    },
    {
     "data": {
      "text/plain": [
       "<Figure size 640x480 with 0 Axes>"
      ]
     },
     "metadata": {},
     "output_type": "display_data"
    },
    {
     "data": {
      "text/plain": [
       "<Figure size 640x480 with 0 Axes>"
      ]
     },
     "metadata": {},
     "output_type": "display_data"
    },
    {
     "data": {
      "text/plain": [
       "<Figure size 640x480 with 0 Axes>"
      ]
     },
     "metadata": {},
     "output_type": "display_data"
    },
    {
     "data": {
      "text/plain": [
       "<Figure size 640x480 with 0 Axes>"
      ]
     },
     "metadata": {},
     "output_type": "display_data"
    },
    {
     "data": {
      "text/plain": [
       "<Figure size 640x480 with 0 Axes>"
      ]
     },
     "metadata": {},
     "output_type": "display_data"
    },
    {
     "data": {
      "text/plain": [
       "<Figure size 640x480 with 0 Axes>"
      ]
     },
     "metadata": {},
     "output_type": "display_data"
    },
    {
     "data": {
      "text/plain": [
       "<Figure size 640x480 with 0 Axes>"
      ]
     },
     "metadata": {},
     "output_type": "display_data"
    },
    {
     "data": {
      "text/plain": [
       "<Figure size 640x480 with 0 Axes>"
      ]
     },
     "metadata": {},
     "output_type": "display_data"
    },
    {
     "data": {
      "text/plain": [
       "<Figure size 640x480 with 0 Axes>"
      ]
     },
     "metadata": {},
     "output_type": "display_data"
    },
    {
     "data": {
      "text/plain": [
       "<Figure size 640x480 with 0 Axes>"
      ]
     },
     "metadata": {},
     "output_type": "display_data"
    },
    {
     "data": {
      "text/plain": [
       "<Figure size 640x480 with 0 Axes>"
      ]
     },
     "metadata": {},
     "output_type": "display_data"
    },
    {
     "data": {
      "text/plain": [
       "<Figure size 640x480 with 0 Axes>"
      ]
     },
     "metadata": {},
     "output_type": "display_data"
    },
    {
     "data": {
      "text/plain": [
       "<Figure size 640x480 with 0 Axes>"
      ]
     },
     "metadata": {},
     "output_type": "display_data"
    },
    {
     "data": {
      "text/plain": [
       "<Figure size 640x480 with 0 Axes>"
      ]
     },
     "metadata": {},
     "output_type": "display_data"
    },
    {
     "data": {
      "text/plain": [
       "<Figure size 640x480 with 0 Axes>"
      ]
     },
     "metadata": {},
     "output_type": "display_data"
    },
    {
     "data": {
      "text/plain": [
       "<Figure size 640x480 with 0 Axes>"
      ]
     },
     "metadata": {},
     "output_type": "display_data"
    },
    {
     "data": {
      "text/plain": [
       "<Figure size 640x480 with 0 Axes>"
      ]
     },
     "metadata": {},
     "output_type": "display_data"
    },
    {
     "data": {
      "text/plain": [
       "<Figure size 640x480 with 0 Axes>"
      ]
     },
     "metadata": {},
     "output_type": "display_data"
    },
    {
     "data": {
      "text/plain": [
       "<Figure size 640x480 with 0 Axes>"
      ]
     },
     "metadata": {},
     "output_type": "display_data"
    },
    {
     "data": {
      "text/plain": [
       "<Figure size 640x480 with 0 Axes>"
      ]
     },
     "metadata": {},
     "output_type": "display_data"
    },
    {
     "data": {
      "text/plain": [
       "<Figure size 640x480 with 0 Axes>"
      ]
     },
     "metadata": {},
     "output_type": "display_data"
    },
    {
     "data": {
      "text/plain": [
       "<Figure size 640x480 with 0 Axes>"
      ]
     },
     "metadata": {},
     "output_type": "display_data"
    },
    {
     "data": {
      "text/plain": [
       "<Figure size 640x480 with 0 Axes>"
      ]
     },
     "metadata": {},
     "output_type": "display_data"
    },
    {
     "data": {
      "text/plain": [
       "<Figure size 640x480 with 0 Axes>"
      ]
     },
     "metadata": {},
     "output_type": "display_data"
    },
    {
     "data": {
      "text/plain": [
       "<Figure size 640x480 with 0 Axes>"
      ]
     },
     "metadata": {},
     "output_type": "display_data"
    },
    {
     "data": {
      "text/plain": [
       "<Figure size 640x480 with 0 Axes>"
      ]
     },
     "metadata": {},
     "output_type": "display_data"
    },
    {
     "data": {
      "text/plain": [
       "<Figure size 640x480 with 0 Axes>"
      ]
     },
     "metadata": {},
     "output_type": "display_data"
    },
    {
     "data": {
      "text/plain": [
       "<Figure size 640x480 with 0 Axes>"
      ]
     },
     "metadata": {},
     "output_type": "display_data"
    },
    {
     "data": {
      "text/plain": [
       "<Figure size 640x480 with 0 Axes>"
      ]
     },
     "metadata": {},
     "output_type": "display_data"
    },
    {
     "data": {
      "text/plain": [
       "<Figure size 640x480 with 0 Axes>"
      ]
     },
     "metadata": {},
     "output_type": "display_data"
    },
    {
     "data": {
      "text/plain": [
       "<Figure size 640x480 with 0 Axes>"
      ]
     },
     "metadata": {},
     "output_type": "display_data"
    },
    {
     "data": {
      "text/plain": [
       "<Figure size 640x480 with 0 Axes>"
      ]
     },
     "metadata": {},
     "output_type": "display_data"
    },
    {
     "data": {
      "text/plain": [
       "<Figure size 640x480 with 0 Axes>"
      ]
     },
     "metadata": {},
     "output_type": "display_data"
    },
    {
     "data": {
      "text/plain": [
       "<Figure size 640x480 with 0 Axes>"
      ]
     },
     "metadata": {},
     "output_type": "display_data"
    },
    {
     "data": {
      "text/plain": [
       "<Figure size 640x480 with 0 Axes>"
      ]
     },
     "metadata": {},
     "output_type": "display_data"
    },
    {
     "data": {
      "text/plain": [
       "<Figure size 640x480 with 0 Axes>"
      ]
     },
     "metadata": {},
     "output_type": "display_data"
    },
    {
     "data": {
      "text/plain": [
       "<Figure size 640x480 with 0 Axes>"
      ]
     },
     "metadata": {},
     "output_type": "display_data"
    },
    {
     "data": {
      "text/plain": [
       "<Figure size 640x480 with 0 Axes>"
      ]
     },
     "metadata": {},
     "output_type": "display_data"
    },
    {
     "data": {
      "text/plain": [
       "<Figure size 640x480 with 0 Axes>"
      ]
     },
     "metadata": {},
     "output_type": "display_data"
    },
    {
     "data": {
      "text/plain": [
       "<Figure size 640x480 with 0 Axes>"
      ]
     },
     "metadata": {},
     "output_type": "display_data"
    },
    {
     "data": {
      "text/plain": [
       "<Figure size 640x480 with 0 Axes>"
      ]
     },
     "metadata": {},
     "output_type": "display_data"
    },
    {
     "data": {
      "text/plain": [
       "<Figure size 640x480 with 0 Axes>"
      ]
     },
     "metadata": {},
     "output_type": "display_data"
    },
    {
     "data": {
      "text/plain": [
       "<Figure size 640x480 with 0 Axes>"
      ]
     },
     "metadata": {},
     "output_type": "display_data"
    },
    {
     "data": {
      "text/plain": [
       "<Figure size 640x480 with 0 Axes>"
      ]
     },
     "metadata": {},
     "output_type": "display_data"
    },
    {
     "data": {
      "text/plain": [
       "<Figure size 640x480 with 0 Axes>"
      ]
     },
     "metadata": {},
     "output_type": "display_data"
    },
    {
     "data": {
      "text/plain": [
       "<Figure size 640x480 with 0 Axes>"
      ]
     },
     "metadata": {},
     "output_type": "display_data"
    },
    {
     "data": {
      "text/plain": [
       "<Figure size 640x480 with 0 Axes>"
      ]
     },
     "metadata": {},
     "output_type": "display_data"
    },
    {
     "data": {
      "text/plain": [
       "<Figure size 640x480 with 0 Axes>"
      ]
     },
     "metadata": {},
     "output_type": "display_data"
    },
    {
     "data": {
      "text/plain": [
       "<Figure size 640x480 with 0 Axes>"
      ]
     },
     "metadata": {},
     "output_type": "display_data"
    },
    {
     "data": {
      "text/plain": [
       "<Figure size 640x480 with 0 Axes>"
      ]
     },
     "metadata": {},
     "output_type": "display_data"
    },
    {
     "data": {
      "text/plain": [
       "<Figure size 640x480 with 0 Axes>"
      ]
     },
     "metadata": {},
     "output_type": "display_data"
    },
    {
     "data": {
      "text/plain": [
       "<Figure size 640x480 with 0 Axes>"
      ]
     },
     "metadata": {},
     "output_type": "display_data"
    },
    {
     "data": {
      "text/plain": [
       "<Figure size 640x480 with 0 Axes>"
      ]
     },
     "metadata": {},
     "output_type": "display_data"
    },
    {
     "data": {
      "text/plain": [
       "<Figure size 640x480 with 0 Axes>"
      ]
     },
     "metadata": {},
     "output_type": "display_data"
    },
    {
     "data": {
      "text/plain": [
       "<Figure size 640x480 with 0 Axes>"
      ]
     },
     "metadata": {},
     "output_type": "display_data"
    },
    {
     "data": {
      "text/plain": [
       "<Figure size 640x480 with 0 Axes>"
      ]
     },
     "metadata": {},
     "output_type": "display_data"
    },
    {
     "data": {
      "text/plain": [
       "<Figure size 640x480 with 0 Axes>"
      ]
     },
     "metadata": {},
     "output_type": "display_data"
    },
    {
     "data": {
      "text/plain": [
       "<Figure size 640x480 with 0 Axes>"
      ]
     },
     "metadata": {},
     "output_type": "display_data"
    },
    {
     "data": {
      "text/plain": [
       "<Figure size 640x480 with 0 Axes>"
      ]
     },
     "metadata": {},
     "output_type": "display_data"
    },
    {
     "data": {
      "text/plain": [
       "<Figure size 640x480 with 0 Axes>"
      ]
     },
     "metadata": {},
     "output_type": "display_data"
    },
    {
     "data": {
      "text/plain": [
       "<Figure size 640x480 with 0 Axes>"
      ]
     },
     "metadata": {},
     "output_type": "display_data"
    },
    {
     "data": {
      "text/plain": [
       "<Figure size 640x480 with 0 Axes>"
      ]
     },
     "metadata": {},
     "output_type": "display_data"
    },
    {
     "data": {
      "text/plain": [
       "<Figure size 640x480 with 0 Axes>"
      ]
     },
     "metadata": {},
     "output_type": "display_data"
    },
    {
     "data": {
      "text/plain": [
       "<Figure size 640x480 with 0 Axes>"
      ]
     },
     "metadata": {},
     "output_type": "display_data"
    },
    {
     "data": {
      "text/plain": [
       "<Figure size 640x480 with 0 Axes>"
      ]
     },
     "metadata": {},
     "output_type": "display_data"
    },
    {
     "data": {
      "text/plain": [
       "<Figure size 640x480 with 0 Axes>"
      ]
     },
     "metadata": {},
     "output_type": "display_data"
    },
    {
     "data": {
      "text/plain": [
       "<Figure size 640x480 with 0 Axes>"
      ]
     },
     "metadata": {},
     "output_type": "display_data"
    },
    {
     "data": {
      "text/plain": [
       "<Figure size 640x480 with 0 Axes>"
      ]
     },
     "metadata": {},
     "output_type": "display_data"
    },
    {
     "data": {
      "text/plain": [
       "<Figure size 640x480 with 0 Axes>"
      ]
     },
     "metadata": {},
     "output_type": "display_data"
    },
    {
     "data": {
      "text/plain": [
       "<Figure size 640x480 with 0 Axes>"
      ]
     },
     "metadata": {},
     "output_type": "display_data"
    },
    {
     "data": {
      "text/plain": [
       "<Figure size 640x480 with 0 Axes>"
      ]
     },
     "metadata": {},
     "output_type": "display_data"
    },
    {
     "data": {
      "text/plain": [
       "<Figure size 640x480 with 0 Axes>"
      ]
     },
     "metadata": {},
     "output_type": "display_data"
    },
    {
     "data": {
      "text/plain": [
       "<Figure size 640x480 with 0 Axes>"
      ]
     },
     "metadata": {},
     "output_type": "display_data"
    },
    {
     "data": {
      "text/plain": [
       "<Figure size 640x480 with 0 Axes>"
      ]
     },
     "metadata": {},
     "output_type": "display_data"
    },
    {
     "data": {
      "text/plain": [
       "<Figure size 640x480 with 0 Axes>"
      ]
     },
     "metadata": {},
     "output_type": "display_data"
    },
    {
     "data": {
      "text/plain": [
       "<Figure size 640x480 with 0 Axes>"
      ]
     },
     "metadata": {},
     "output_type": "display_data"
    },
    {
     "data": {
      "text/plain": [
       "<Figure size 640x480 with 0 Axes>"
      ]
     },
     "metadata": {},
     "output_type": "display_data"
    },
    {
     "data": {
      "text/plain": [
       "<Figure size 640x480 with 0 Axes>"
      ]
     },
     "metadata": {},
     "output_type": "display_data"
    },
    {
     "data": {
      "text/plain": [
       "<Figure size 640x480 with 0 Axes>"
      ]
     },
     "metadata": {},
     "output_type": "display_data"
    },
    {
     "data": {
      "text/plain": [
       "<Figure size 640x480 with 0 Axes>"
      ]
     },
     "metadata": {},
     "output_type": "display_data"
    },
    {
     "data": {
      "text/plain": [
       "<Figure size 640x480 with 0 Axes>"
      ]
     },
     "metadata": {},
     "output_type": "display_data"
    },
    {
     "data": {
      "text/plain": [
       "<Figure size 640x480 with 0 Axes>"
      ]
     },
     "metadata": {},
     "output_type": "display_data"
    },
    {
     "data": {
      "text/plain": [
       "<Figure size 640x480 with 0 Axes>"
      ]
     },
     "metadata": {},
     "output_type": "display_data"
    },
    {
     "data": {
      "text/plain": [
       "<Figure size 640x480 with 0 Axes>"
      ]
     },
     "metadata": {},
     "output_type": "display_data"
    },
    {
     "data": {
      "text/plain": [
       "<Figure size 640x480 with 0 Axes>"
      ]
     },
     "metadata": {},
     "output_type": "display_data"
    },
    {
     "data": {
      "text/plain": [
       "<Figure size 640x480 with 0 Axes>"
      ]
     },
     "metadata": {},
     "output_type": "display_data"
    },
    {
     "data": {
      "text/plain": [
       "<Figure size 640x480 with 0 Axes>"
      ]
     },
     "metadata": {},
     "output_type": "display_data"
    },
    {
     "data": {
      "text/plain": [
       "<Figure size 640x480 with 0 Axes>"
      ]
     },
     "metadata": {},
     "output_type": "display_data"
    },
    {
     "data": {
      "text/plain": [
       "<Figure size 640x480 with 0 Axes>"
      ]
     },
     "metadata": {},
     "output_type": "display_data"
    },
    {
     "data": {
      "text/plain": [
       "<Figure size 640x480 with 0 Axes>"
      ]
     },
     "metadata": {},
     "output_type": "display_data"
    },
    {
     "data": {
      "text/plain": [
       "<Figure size 640x480 with 0 Axes>"
      ]
     },
     "metadata": {},
     "output_type": "display_data"
    },
    {
     "data": {
      "text/plain": [
       "<Figure size 640x480 with 0 Axes>"
      ]
     },
     "metadata": {},
     "output_type": "display_data"
    },
    {
     "data": {
      "text/plain": [
       "<Figure size 640x480 with 0 Axes>"
      ]
     },
     "metadata": {},
     "output_type": "display_data"
    },
    {
     "data": {
      "text/plain": [
       "<Figure size 640x480 with 0 Axes>"
      ]
     },
     "metadata": {},
     "output_type": "display_data"
    },
    {
     "data": {
      "text/plain": [
       "<Figure size 640x480 with 0 Axes>"
      ]
     },
     "metadata": {},
     "output_type": "display_data"
    },
    {
     "data": {
      "text/plain": [
       "<Figure size 640x480 with 0 Axes>"
      ]
     },
     "metadata": {},
     "output_type": "display_data"
    },
    {
     "data": {
      "text/plain": [
       "<Figure size 640x480 with 0 Axes>"
      ]
     },
     "metadata": {},
     "output_type": "display_data"
    },
    {
     "data": {
      "text/plain": [
       "<Figure size 640x480 with 0 Axes>"
      ]
     },
     "metadata": {},
     "output_type": "display_data"
    },
    {
     "data": {
      "text/plain": [
       "<Figure size 640x480 with 0 Axes>"
      ]
     },
     "metadata": {},
     "output_type": "display_data"
    },
    {
     "data": {
      "text/plain": [
       "<Figure size 640x480 with 0 Axes>"
      ]
     },
     "metadata": {},
     "output_type": "display_data"
    },
    {
     "data": {
      "text/plain": [
       "<Figure size 640x480 with 0 Axes>"
      ]
     },
     "metadata": {},
     "output_type": "display_data"
    },
    {
     "data": {
      "text/plain": [
       "<Figure size 640x480 with 0 Axes>"
      ]
     },
     "metadata": {},
     "output_type": "display_data"
    },
    {
     "data": {
      "text/plain": [
       "<Figure size 640x480 with 0 Axes>"
      ]
     },
     "metadata": {},
     "output_type": "display_data"
    },
    {
     "data": {
      "text/plain": [
       "<Figure size 640x480 with 0 Axes>"
      ]
     },
     "metadata": {},
     "output_type": "display_data"
    },
    {
     "data": {
      "text/plain": [
       "<Figure size 640x480 with 0 Axes>"
      ]
     },
     "metadata": {},
     "output_type": "display_data"
    },
    {
     "data": {
      "text/plain": [
       "<Figure size 640x480 with 0 Axes>"
      ]
     },
     "metadata": {},
     "output_type": "display_data"
    },
    {
     "data": {
      "text/plain": [
       "<Figure size 640x480 with 0 Axes>"
      ]
     },
     "metadata": {},
     "output_type": "display_data"
    },
    {
     "data": {
      "text/plain": [
       "<Figure size 640x480 with 0 Axes>"
      ]
     },
     "metadata": {},
     "output_type": "display_data"
    },
    {
     "data": {
      "text/plain": [
       "<Figure size 640x480 with 0 Axes>"
      ]
     },
     "metadata": {},
     "output_type": "display_data"
    },
    {
     "data": {
      "text/plain": [
       "<Figure size 640x480 with 0 Axes>"
      ]
     },
     "metadata": {},
     "output_type": "display_data"
    },
    {
     "data": {
      "text/plain": [
       "<Figure size 640x480 with 0 Axes>"
      ]
     },
     "metadata": {},
     "output_type": "display_data"
    },
    {
     "data": {
      "text/plain": [
       "<Figure size 640x480 with 0 Axes>"
      ]
     },
     "metadata": {},
     "output_type": "display_data"
    },
    {
     "data": {
      "text/plain": [
       "<Figure size 640x480 with 0 Axes>"
      ]
     },
     "metadata": {},
     "output_type": "display_data"
    },
    {
     "data": {
      "text/plain": [
       "<Figure size 640x480 with 0 Axes>"
      ]
     },
     "metadata": {},
     "output_type": "display_data"
    },
    {
     "data": {
      "text/plain": [
       "<Figure size 640x480 with 0 Axes>"
      ]
     },
     "metadata": {},
     "output_type": "display_data"
    },
    {
     "data": {
      "text/plain": [
       "<Figure size 640x480 with 0 Axes>"
      ]
     },
     "metadata": {},
     "output_type": "display_data"
    },
    {
     "data": {
      "text/plain": [
       "<Figure size 640x480 with 0 Axes>"
      ]
     },
     "metadata": {},
     "output_type": "display_data"
    },
    {
     "data": {
      "text/plain": [
       "<Figure size 640x480 with 0 Axes>"
      ]
     },
     "metadata": {},
     "output_type": "display_data"
    },
    {
     "data": {
      "text/plain": [
       "<Figure size 640x480 with 0 Axes>"
      ]
     },
     "metadata": {},
     "output_type": "display_data"
    },
    {
     "data": {
      "text/plain": [
       "<Figure size 640x480 with 0 Axes>"
      ]
     },
     "metadata": {},
     "output_type": "display_data"
    },
    {
     "data": {
      "text/plain": [
       "<Figure size 640x480 with 0 Axes>"
      ]
     },
     "metadata": {},
     "output_type": "display_data"
    },
    {
     "data": {
      "text/plain": [
       "<Figure size 640x480 with 0 Axes>"
      ]
     },
     "metadata": {},
     "output_type": "display_data"
    },
    {
     "data": {
      "text/plain": [
       "<Figure size 640x480 with 0 Axes>"
      ]
     },
     "metadata": {},
     "output_type": "display_data"
    },
    {
     "data": {
      "text/plain": [
       "<Figure size 640x480 with 0 Axes>"
      ]
     },
     "metadata": {},
     "output_type": "display_data"
    },
    {
     "data": {
      "text/plain": [
       "<Figure size 640x480 with 0 Axes>"
      ]
     },
     "metadata": {},
     "output_type": "display_data"
    },
    {
     "data": {
      "text/plain": [
       "<Figure size 640x480 with 0 Axes>"
      ]
     },
     "metadata": {},
     "output_type": "display_data"
    },
    {
     "data": {
      "text/plain": [
       "<Figure size 640x480 with 0 Axes>"
      ]
     },
     "metadata": {},
     "output_type": "display_data"
    },
    {
     "data": {
      "text/plain": [
       "<Figure size 640x480 with 0 Axes>"
      ]
     },
     "metadata": {},
     "output_type": "display_data"
    },
    {
     "data": {
      "text/plain": [
       "<Figure size 640x480 with 0 Axes>"
      ]
     },
     "metadata": {},
     "output_type": "display_data"
    },
    {
     "data": {
      "text/plain": [
       "<Figure size 640x480 with 0 Axes>"
      ]
     },
     "metadata": {},
     "output_type": "display_data"
    },
    {
     "data": {
      "text/plain": [
       "<Figure size 640x480 with 0 Axes>"
      ]
     },
     "metadata": {},
     "output_type": "display_data"
    },
    {
     "data": {
      "text/plain": [
       "<Figure size 640x480 with 0 Axes>"
      ]
     },
     "metadata": {},
     "output_type": "display_data"
    },
    {
     "data": {
      "text/plain": [
       "<Figure size 640x480 with 0 Axes>"
      ]
     },
     "metadata": {},
     "output_type": "display_data"
    },
    {
     "data": {
      "text/plain": [
       "<Figure size 640x480 with 0 Axes>"
      ]
     },
     "metadata": {},
     "output_type": "display_data"
    },
    {
     "data": {
      "text/plain": [
       "<Figure size 640x480 with 0 Axes>"
      ]
     },
     "metadata": {},
     "output_type": "display_data"
    },
    {
     "data": {
      "text/plain": [
       "<Figure size 640x480 with 0 Axes>"
      ]
     },
     "metadata": {},
     "output_type": "display_data"
    },
    {
     "data": {
      "text/plain": [
       "<Figure size 640x480 with 0 Axes>"
      ]
     },
     "metadata": {},
     "output_type": "display_data"
    },
    {
     "data": {
      "text/plain": [
       "<Figure size 640x480 with 0 Axes>"
      ]
     },
     "metadata": {},
     "output_type": "display_data"
    },
    {
     "data": {
      "text/plain": [
       "<Figure size 640x480 with 0 Axes>"
      ]
     },
     "metadata": {},
     "output_type": "display_data"
    },
    {
     "data": {
      "text/plain": [
       "<Figure size 640x480 with 0 Axes>"
      ]
     },
     "metadata": {},
     "output_type": "display_data"
    },
    {
     "data": {
      "text/plain": [
       "<Figure size 640x480 with 0 Axes>"
      ]
     },
     "metadata": {},
     "output_type": "display_data"
    },
    {
     "data": {
      "text/plain": [
       "<Figure size 640x480 with 0 Axes>"
      ]
     },
     "metadata": {},
     "output_type": "display_data"
    },
    {
     "data": {
      "text/plain": [
       "<Figure size 640x480 with 0 Axes>"
      ]
     },
     "metadata": {},
     "output_type": "display_data"
    },
    {
     "data": {
      "text/plain": [
       "<Figure size 640x480 with 0 Axes>"
      ]
     },
     "metadata": {},
     "output_type": "display_data"
    },
    {
     "data": {
      "text/plain": [
       "<Figure size 640x480 with 0 Axes>"
      ]
     },
     "metadata": {},
     "output_type": "display_data"
    },
    {
     "data": {
      "text/plain": [
       "<Figure size 640x480 with 0 Axes>"
      ]
     },
     "metadata": {},
     "output_type": "display_data"
    },
    {
     "data": {
      "text/plain": [
       "<Figure size 640x480 with 0 Axes>"
      ]
     },
     "metadata": {},
     "output_type": "display_data"
    },
    {
     "data": {
      "text/plain": [
       "<Figure size 640x480 with 0 Axes>"
      ]
     },
     "metadata": {},
     "output_type": "display_data"
    },
    {
     "data": {
      "text/plain": [
       "<Figure size 640x480 with 0 Axes>"
      ]
     },
     "metadata": {},
     "output_type": "display_data"
    },
    {
     "data": {
      "text/plain": [
       "<Figure size 640x480 with 0 Axes>"
      ]
     },
     "metadata": {},
     "output_type": "display_data"
    },
    {
     "data": {
      "text/plain": [
       "<Figure size 640x480 with 0 Axes>"
      ]
     },
     "metadata": {},
     "output_type": "display_data"
    },
    {
     "data": {
      "text/plain": [
       "<Figure size 640x480 with 0 Axes>"
      ]
     },
     "metadata": {},
     "output_type": "display_data"
    },
    {
     "data": {
      "text/plain": [
       "<Figure size 640x480 with 0 Axes>"
      ]
     },
     "metadata": {},
     "output_type": "display_data"
    },
    {
     "data": {
      "text/plain": [
       "<Figure size 640x480 with 0 Axes>"
      ]
     },
     "metadata": {},
     "output_type": "display_data"
    },
    {
     "data": {
      "text/plain": [
       "<Figure size 640x480 with 0 Axes>"
      ]
     },
     "metadata": {},
     "output_type": "display_data"
    },
    {
     "data": {
      "text/plain": [
       "<Figure size 640x480 with 0 Axes>"
      ]
     },
     "metadata": {},
     "output_type": "display_data"
    },
    {
     "data": {
      "text/plain": [
       "<Figure size 640x480 with 0 Axes>"
      ]
     },
     "metadata": {},
     "output_type": "display_data"
    },
    {
     "data": {
      "text/plain": [
       "<Figure size 640x480 with 0 Axes>"
      ]
     },
     "metadata": {},
     "output_type": "display_data"
    },
    {
     "data": {
      "text/plain": [
       "<Figure size 640x480 with 0 Axes>"
      ]
     },
     "metadata": {},
     "output_type": "display_data"
    },
    {
     "data": {
      "text/plain": [
       "<Figure size 640x480 with 0 Axes>"
      ]
     },
     "metadata": {},
     "output_type": "display_data"
    },
    {
     "data": {
      "text/plain": [
       "<Figure size 640x480 with 0 Axes>"
      ]
     },
     "metadata": {},
     "output_type": "display_data"
    },
    {
     "data": {
      "text/plain": [
       "<Figure size 640x480 with 0 Axes>"
      ]
     },
     "metadata": {},
     "output_type": "display_data"
    },
    {
     "data": {
      "text/plain": [
       "<Figure size 640x480 with 0 Axes>"
      ]
     },
     "metadata": {},
     "output_type": "display_data"
    },
    {
     "data": {
      "text/plain": [
       "<Figure size 640x480 with 0 Axes>"
      ]
     },
     "metadata": {},
     "output_type": "display_data"
    },
    {
     "data": {
      "text/plain": [
       "<Figure size 640x480 with 0 Axes>"
      ]
     },
     "metadata": {},
     "output_type": "display_data"
    },
    {
     "data": {
      "text/plain": [
       "<Figure size 640x480 with 0 Axes>"
      ]
     },
     "metadata": {},
     "output_type": "display_data"
    },
    {
     "data": {
      "text/plain": [
       "<Figure size 640x480 with 0 Axes>"
      ]
     },
     "metadata": {},
     "output_type": "display_data"
    },
    {
     "data": {
      "text/plain": [
       "<Figure size 640x480 with 0 Axes>"
      ]
     },
     "metadata": {},
     "output_type": "display_data"
    },
    {
     "data": {
      "text/plain": [
       "<Figure size 640x480 with 0 Axes>"
      ]
     },
     "metadata": {},
     "output_type": "display_data"
    },
    {
     "data": {
      "text/plain": [
       "<Figure size 640x480 with 0 Axes>"
      ]
     },
     "metadata": {},
     "output_type": "display_data"
    },
    {
     "data": {
      "text/plain": [
       "<Figure size 640x480 with 0 Axes>"
      ]
     },
     "metadata": {},
     "output_type": "display_data"
    },
    {
     "data": {
      "text/plain": [
       "<Figure size 640x480 with 0 Axes>"
      ]
     },
     "metadata": {},
     "output_type": "display_data"
    },
    {
     "data": {
      "text/plain": [
       "<Figure size 640x480 with 0 Axes>"
      ]
     },
     "metadata": {},
     "output_type": "display_data"
    },
    {
     "data": {
      "text/plain": [
       "<Figure size 640x480 with 0 Axes>"
      ]
     },
     "metadata": {},
     "output_type": "display_data"
    },
    {
     "data": {
      "text/plain": [
       "<Figure size 640x480 with 0 Axes>"
      ]
     },
     "metadata": {},
     "output_type": "display_data"
    },
    {
     "data": {
      "text/plain": [
       "<Figure size 640x480 with 0 Axes>"
      ]
     },
     "metadata": {},
     "output_type": "display_data"
    },
    {
     "data": {
      "text/plain": [
       "<Figure size 640x480 with 0 Axes>"
      ]
     },
     "metadata": {},
     "output_type": "display_data"
    },
    {
     "data": {
      "text/plain": [
       "<Figure size 640x480 with 0 Axes>"
      ]
     },
     "metadata": {},
     "output_type": "display_data"
    },
    {
     "data": {
      "text/plain": [
       "<Figure size 640x480 with 0 Axes>"
      ]
     },
     "metadata": {},
     "output_type": "display_data"
    },
    {
     "data": {
      "text/plain": [
       "<Figure size 640x480 with 0 Axes>"
      ]
     },
     "metadata": {},
     "output_type": "display_data"
    },
    {
     "data": {
      "text/plain": [
       "<Figure size 640x480 with 0 Axes>"
      ]
     },
     "metadata": {},
     "output_type": "display_data"
    },
    {
     "data": {
      "text/plain": [
       "<Figure size 640x480 with 0 Axes>"
      ]
     },
     "metadata": {},
     "output_type": "display_data"
    },
    {
     "data": {
      "text/plain": [
       "<Figure size 640x480 with 0 Axes>"
      ]
     },
     "metadata": {},
     "output_type": "display_data"
    },
    {
     "data": {
      "text/plain": [
       "<Figure size 640x480 with 0 Axes>"
      ]
     },
     "metadata": {},
     "output_type": "display_data"
    },
    {
     "data": {
      "text/plain": [
       "<Figure size 640x480 with 0 Axes>"
      ]
     },
     "metadata": {},
     "output_type": "display_data"
    },
    {
     "data": {
      "text/plain": [
       "<Figure size 640x480 with 0 Axes>"
      ]
     },
     "metadata": {},
     "output_type": "display_data"
    },
    {
     "data": {
      "text/plain": [
       "<Figure size 640x480 with 0 Axes>"
      ]
     },
     "metadata": {},
     "output_type": "display_data"
    },
    {
     "data": {
      "text/plain": [
       "<Figure size 640x480 with 0 Axes>"
      ]
     },
     "metadata": {},
     "output_type": "display_data"
    },
    {
     "data": {
      "text/plain": [
       "<Figure size 640x480 with 0 Axes>"
      ]
     },
     "metadata": {},
     "output_type": "display_data"
    },
    {
     "data": {
      "text/plain": [
       "<Figure size 640x480 with 0 Axes>"
      ]
     },
     "metadata": {},
     "output_type": "display_data"
    },
    {
     "data": {
      "text/plain": [
       "<Figure size 640x480 with 0 Axes>"
      ]
     },
     "metadata": {},
     "output_type": "display_data"
    },
    {
     "data": {
      "text/plain": [
       "<Figure size 640x480 with 0 Axes>"
      ]
     },
     "metadata": {},
     "output_type": "display_data"
    },
    {
     "data": {
      "text/plain": [
       "<Figure size 640x480 with 0 Axes>"
      ]
     },
     "metadata": {},
     "output_type": "display_data"
    },
    {
     "data": {
      "text/plain": [
       "<Figure size 640x480 with 0 Axes>"
      ]
     },
     "metadata": {},
     "output_type": "display_data"
    },
    {
     "data": {
      "text/plain": [
       "<Figure size 640x480 with 0 Axes>"
      ]
     },
     "metadata": {},
     "output_type": "display_data"
    },
    {
     "data": {
      "text/plain": [
       "<Figure size 640x480 with 0 Axes>"
      ]
     },
     "metadata": {},
     "output_type": "display_data"
    },
    {
     "data": {
      "text/plain": [
       "<Figure size 640x480 with 0 Axes>"
      ]
     },
     "metadata": {},
     "output_type": "display_data"
    },
    {
     "data": {
      "text/plain": [
       "<Figure size 640x480 with 0 Axes>"
      ]
     },
     "metadata": {},
     "output_type": "display_data"
    },
    {
     "data": {
      "text/plain": [
       "<Figure size 640x480 with 0 Axes>"
      ]
     },
     "metadata": {},
     "output_type": "display_data"
    },
    {
     "data": {
      "text/plain": [
       "<Figure size 640x480 with 0 Axes>"
      ]
     },
     "metadata": {},
     "output_type": "display_data"
    },
    {
     "data": {
      "text/plain": [
       "<Figure size 640x480 with 0 Axes>"
      ]
     },
     "metadata": {},
     "output_type": "display_data"
    },
    {
     "data": {
      "text/plain": [
       "<Figure size 640x480 with 0 Axes>"
      ]
     },
     "metadata": {},
     "output_type": "display_data"
    },
    {
     "data": {
      "text/plain": [
       "<Figure size 640x480 with 0 Axes>"
      ]
     },
     "metadata": {},
     "output_type": "display_data"
    },
    {
     "data": {
      "text/plain": [
       "<Figure size 640x480 with 0 Axes>"
      ]
     },
     "metadata": {},
     "output_type": "display_data"
    },
    {
     "data": {
      "text/plain": [
       "<Figure size 640x480 with 0 Axes>"
      ]
     },
     "metadata": {},
     "output_type": "display_data"
    },
    {
     "data": {
      "text/plain": [
       "<Figure size 640x480 with 0 Axes>"
      ]
     },
     "metadata": {},
     "output_type": "display_data"
    },
    {
     "data": {
      "text/plain": [
       "<Figure size 640x480 with 0 Axes>"
      ]
     },
     "metadata": {},
     "output_type": "display_data"
    },
    {
     "data": {
      "text/plain": [
       "<Figure size 640x480 with 0 Axes>"
      ]
     },
     "metadata": {},
     "output_type": "display_data"
    },
    {
     "data": {
      "text/plain": [
       "<Figure size 640x480 with 0 Axes>"
      ]
     },
     "metadata": {},
     "output_type": "display_data"
    },
    {
     "data": {
      "text/plain": [
       "<Figure size 640x480 with 0 Axes>"
      ]
     },
     "metadata": {},
     "output_type": "display_data"
    },
    {
     "data": {
      "text/plain": [
       "<Figure size 640x480 with 0 Axes>"
      ]
     },
     "metadata": {},
     "output_type": "display_data"
    },
    {
     "data": {
      "text/plain": [
       "<Figure size 640x480 with 0 Axes>"
      ]
     },
     "metadata": {},
     "output_type": "display_data"
    },
    {
     "data": {
      "text/plain": [
       "<Figure size 640x480 with 0 Axes>"
      ]
     },
     "metadata": {},
     "output_type": "display_data"
    },
    {
     "data": {
      "text/plain": [
       "<Figure size 640x480 with 0 Axes>"
      ]
     },
     "metadata": {},
     "output_type": "display_data"
    },
    {
     "data": {
      "text/plain": [
       "<Figure size 640x480 with 0 Axes>"
      ]
     },
     "metadata": {},
     "output_type": "display_data"
    },
    {
     "data": {
      "text/plain": [
       "<Figure size 640x480 with 0 Axes>"
      ]
     },
     "metadata": {},
     "output_type": "display_data"
    },
    {
     "data": {
      "text/plain": [
       "<Figure size 640x480 with 0 Axes>"
      ]
     },
     "metadata": {},
     "output_type": "display_data"
    },
    {
     "data": {
      "text/plain": [
       "<Figure size 640x480 with 0 Axes>"
      ]
     },
     "metadata": {},
     "output_type": "display_data"
    },
    {
     "data": {
      "text/plain": [
       "<Figure size 640x480 with 0 Axes>"
      ]
     },
     "metadata": {},
     "output_type": "display_data"
    },
    {
     "data": {
      "text/plain": [
       "<Figure size 640x480 with 0 Axes>"
      ]
     },
     "metadata": {},
     "output_type": "display_data"
    },
    {
     "data": {
      "text/plain": [
       "<Figure size 640x480 with 0 Axes>"
      ]
     },
     "metadata": {},
     "output_type": "display_data"
    },
    {
     "data": {
      "text/plain": [
       "<Figure size 640x480 with 0 Axes>"
      ]
     },
     "metadata": {},
     "output_type": "display_data"
    },
    {
     "data": {
      "text/plain": [
       "<Figure size 640x480 with 0 Axes>"
      ]
     },
     "metadata": {},
     "output_type": "display_data"
    },
    {
     "data": {
      "text/plain": [
       "<Figure size 640x480 with 0 Axes>"
      ]
     },
     "metadata": {},
     "output_type": "display_data"
    },
    {
     "data": {
      "text/plain": [
       "<Figure size 640x480 with 0 Axes>"
      ]
     },
     "metadata": {},
     "output_type": "display_data"
    },
    {
     "data": {
      "text/plain": [
       "<Figure size 640x480 with 0 Axes>"
      ]
     },
     "metadata": {},
     "output_type": "display_data"
    },
    {
     "data": {
      "text/plain": [
       "<Figure size 640x480 with 0 Axes>"
      ]
     },
     "metadata": {},
     "output_type": "display_data"
    },
    {
     "data": {
      "text/plain": [
       "<Figure size 640x480 with 0 Axes>"
      ]
     },
     "metadata": {},
     "output_type": "display_data"
    },
    {
     "data": {
      "text/plain": [
       "<Figure size 640x480 with 0 Axes>"
      ]
     },
     "metadata": {},
     "output_type": "display_data"
    },
    {
     "data": {
      "text/plain": [
       "<Figure size 640x480 with 0 Axes>"
      ]
     },
     "metadata": {},
     "output_type": "display_data"
    },
    {
     "data": {
      "text/plain": [
       "<Figure size 640x480 with 0 Axes>"
      ]
     },
     "metadata": {},
     "output_type": "display_data"
    },
    {
     "data": {
      "text/plain": [
       "<Figure size 640x480 with 0 Axes>"
      ]
     },
     "metadata": {},
     "output_type": "display_data"
    },
    {
     "data": {
      "text/plain": [
       "<Figure size 640x480 with 0 Axes>"
      ]
     },
     "metadata": {},
     "output_type": "display_data"
    },
    {
     "data": {
      "text/plain": [
       "<Figure size 640x480 with 0 Axes>"
      ]
     },
     "metadata": {},
     "output_type": "display_data"
    },
    {
     "data": {
      "text/plain": [
       "<Figure size 640x480 with 0 Axes>"
      ]
     },
     "metadata": {},
     "output_type": "display_data"
    },
    {
     "data": {
      "text/plain": [
       "<Figure size 640x480 with 0 Axes>"
      ]
     },
     "metadata": {},
     "output_type": "display_data"
    },
    {
     "data": {
      "text/plain": [
       "<Figure size 640x480 with 0 Axes>"
      ]
     },
     "metadata": {},
     "output_type": "display_data"
    },
    {
     "data": {
      "text/plain": [
       "<Figure size 640x480 with 0 Axes>"
      ]
     },
     "metadata": {},
     "output_type": "display_data"
    },
    {
     "data": {
      "text/plain": [
       "<Figure size 640x480 with 0 Axes>"
      ]
     },
     "metadata": {},
     "output_type": "display_data"
    },
    {
     "data": {
      "text/plain": [
       "<Figure size 640x480 with 0 Axes>"
      ]
     },
     "metadata": {},
     "output_type": "display_data"
    },
    {
     "data": {
      "text/plain": [
       "<Figure size 640x480 with 0 Axes>"
      ]
     },
     "metadata": {},
     "output_type": "display_data"
    },
    {
     "data": {
      "text/plain": [
       "<Figure size 640x480 with 0 Axes>"
      ]
     },
     "metadata": {},
     "output_type": "display_data"
    },
    {
     "data": {
      "text/plain": [
       "<Figure size 640x480 with 0 Axes>"
      ]
     },
     "metadata": {},
     "output_type": "display_data"
    },
    {
     "data": {
      "text/plain": [
       "<Figure size 640x480 with 0 Axes>"
      ]
     },
     "metadata": {},
     "output_type": "display_data"
    },
    {
     "data": {
      "text/plain": [
       "<Figure size 640x480 with 0 Axes>"
      ]
     },
     "metadata": {},
     "output_type": "display_data"
    },
    {
     "data": {
      "text/plain": [
       "<Figure size 640x480 with 0 Axes>"
      ]
     },
     "metadata": {},
     "output_type": "display_data"
    },
    {
     "data": {
      "text/plain": [
       "<Figure size 640x480 with 0 Axes>"
      ]
     },
     "metadata": {},
     "output_type": "display_data"
    },
    {
     "data": {
      "text/plain": [
       "<Figure size 640x480 with 0 Axes>"
      ]
     },
     "metadata": {},
     "output_type": "display_data"
    },
    {
     "data": {
      "text/plain": [
       "<Figure size 640x480 with 0 Axes>"
      ]
     },
     "metadata": {},
     "output_type": "display_data"
    },
    {
     "data": {
      "text/plain": [
       "<Figure size 640x480 with 0 Axes>"
      ]
     },
     "metadata": {},
     "output_type": "display_data"
    },
    {
     "data": {
      "text/plain": [
       "<Figure size 640x480 with 0 Axes>"
      ]
     },
     "metadata": {},
     "output_type": "display_data"
    },
    {
     "data": {
      "text/plain": [
       "<Figure size 640x480 with 0 Axes>"
      ]
     },
     "metadata": {},
     "output_type": "display_data"
    },
    {
     "data": {
      "text/plain": [
       "<Figure size 640x480 with 0 Axes>"
      ]
     },
     "metadata": {},
     "output_type": "display_data"
    },
    {
     "data": {
      "text/plain": [
       "<Figure size 640x480 with 0 Axes>"
      ]
     },
     "metadata": {},
     "output_type": "display_data"
    },
    {
     "data": {
      "text/plain": [
       "<Figure size 640x480 with 0 Axes>"
      ]
     },
     "metadata": {},
     "output_type": "display_data"
    },
    {
     "data": {
      "text/plain": [
       "<Figure size 640x480 with 0 Axes>"
      ]
     },
     "metadata": {},
     "output_type": "display_data"
    },
    {
     "data": {
      "text/plain": [
       "<Figure size 640x480 with 0 Axes>"
      ]
     },
     "metadata": {},
     "output_type": "display_data"
    },
    {
     "data": {
      "text/plain": [
       "<Figure size 640x480 with 0 Axes>"
      ]
     },
     "metadata": {},
     "output_type": "display_data"
    },
    {
     "data": {
      "text/plain": [
       "<Figure size 640x480 with 0 Axes>"
      ]
     },
     "metadata": {},
     "output_type": "display_data"
    },
    {
     "data": {
      "text/plain": [
       "<Figure size 640x480 with 0 Axes>"
      ]
     },
     "metadata": {},
     "output_type": "display_data"
    },
    {
     "data": {
      "text/plain": [
       "<Figure size 640x480 with 0 Axes>"
      ]
     },
     "metadata": {},
     "output_type": "display_data"
    },
    {
     "data": {
      "text/plain": [
       "<Figure size 640x480 with 0 Axes>"
      ]
     },
     "metadata": {},
     "output_type": "display_data"
    },
    {
     "data": {
      "text/plain": [
       "<Figure size 640x480 with 0 Axes>"
      ]
     },
     "metadata": {},
     "output_type": "display_data"
    },
    {
     "data": {
      "text/plain": [
       "<Figure size 640x480 with 0 Axes>"
      ]
     },
     "metadata": {},
     "output_type": "display_data"
    },
    {
     "data": {
      "text/plain": [
       "<Figure size 640x480 with 0 Axes>"
      ]
     },
     "metadata": {},
     "output_type": "display_data"
    },
    {
     "data": {
      "text/plain": [
       "<Figure size 640x480 with 0 Axes>"
      ]
     },
     "metadata": {},
     "output_type": "display_data"
    },
    {
     "data": {
      "text/plain": [
       "<Figure size 640x480 with 0 Axes>"
      ]
     },
     "metadata": {},
     "output_type": "display_data"
    },
    {
     "data": {
      "text/plain": [
       "<Figure size 640x480 with 0 Axes>"
      ]
     },
     "metadata": {},
     "output_type": "display_data"
    },
    {
     "data": {
      "text/plain": [
       "<Figure size 640x480 with 0 Axes>"
      ]
     },
     "metadata": {},
     "output_type": "display_data"
    },
    {
     "data": {
      "text/plain": [
       "<Figure size 640x480 with 0 Axes>"
      ]
     },
     "metadata": {},
     "output_type": "display_data"
    },
    {
     "data": {
      "text/plain": [
       "<Figure size 640x480 with 0 Axes>"
      ]
     },
     "metadata": {},
     "output_type": "display_data"
    },
    {
     "data": {
      "text/plain": [
       "<Figure size 640x480 with 0 Axes>"
      ]
     },
     "metadata": {},
     "output_type": "display_data"
    },
    {
     "data": {
      "text/plain": [
       "<Figure size 640x480 with 0 Axes>"
      ]
     },
     "metadata": {},
     "output_type": "display_data"
    },
    {
     "data": {
      "text/plain": [
       "<Figure size 640x480 with 0 Axes>"
      ]
     },
     "metadata": {},
     "output_type": "display_data"
    },
    {
     "data": {
      "text/plain": [
       "<Figure size 640x480 with 0 Axes>"
      ]
     },
     "metadata": {},
     "output_type": "display_data"
    },
    {
     "data": {
      "text/plain": [
       "<Figure size 640x480 with 0 Axes>"
      ]
     },
     "metadata": {},
     "output_type": "display_data"
    },
    {
     "data": {
      "text/plain": [
       "<Figure size 640x480 with 0 Axes>"
      ]
     },
     "metadata": {},
     "output_type": "display_data"
    },
    {
     "data": {
      "text/plain": [
       "<Figure size 640x480 with 0 Axes>"
      ]
     },
     "metadata": {},
     "output_type": "display_data"
    },
    {
     "data": {
      "text/plain": [
       "<Figure size 640x480 with 0 Axes>"
      ]
     },
     "metadata": {},
     "output_type": "display_data"
    },
    {
     "data": {
      "text/plain": [
       "<Figure size 640x480 with 0 Axes>"
      ]
     },
     "metadata": {},
     "output_type": "display_data"
    },
    {
     "data": {
      "text/plain": [
       "<Figure size 640x480 with 0 Axes>"
      ]
     },
     "metadata": {},
     "output_type": "display_data"
    },
    {
     "data": {
      "text/plain": [
       "<Figure size 640x480 with 0 Axes>"
      ]
     },
     "metadata": {},
     "output_type": "display_data"
    },
    {
     "data": {
      "text/plain": [
       "<Figure size 640x480 with 0 Axes>"
      ]
     },
     "metadata": {},
     "output_type": "display_data"
    },
    {
     "data": {
      "text/plain": [
       "<Figure size 640x480 with 0 Axes>"
      ]
     },
     "metadata": {},
     "output_type": "display_data"
    },
    {
     "data": {
      "text/plain": [
       "<Figure size 640x480 with 0 Axes>"
      ]
     },
     "metadata": {},
     "output_type": "display_data"
    },
    {
     "data": {
      "text/plain": [
       "<Figure size 640x480 with 0 Axes>"
      ]
     },
     "metadata": {},
     "output_type": "display_data"
    },
    {
     "data": {
      "text/plain": [
       "<Figure size 640x480 with 0 Axes>"
      ]
     },
     "metadata": {},
     "output_type": "display_data"
    },
    {
     "data": {
      "text/plain": [
       "<Figure size 640x480 with 0 Axes>"
      ]
     },
     "metadata": {},
     "output_type": "display_data"
    },
    {
     "data": {
      "text/plain": [
       "<Figure size 640x480 with 0 Axes>"
      ]
     },
     "metadata": {},
     "output_type": "display_data"
    },
    {
     "data": {
      "text/plain": [
       "<Figure size 640x480 with 0 Axes>"
      ]
     },
     "metadata": {},
     "output_type": "display_data"
    },
    {
     "data": {
      "text/plain": [
       "<Figure size 640x480 with 0 Axes>"
      ]
     },
     "metadata": {},
     "output_type": "display_data"
    },
    {
     "data": {
      "text/plain": [
       "<Figure size 640x480 with 0 Axes>"
      ]
     },
     "metadata": {},
     "output_type": "display_data"
    },
    {
     "data": {
      "text/plain": [
       "<Figure size 640x480 with 0 Axes>"
      ]
     },
     "metadata": {},
     "output_type": "display_data"
    },
    {
     "data": {
      "text/plain": [
       "<Figure size 640x480 with 0 Axes>"
      ]
     },
     "metadata": {},
     "output_type": "display_data"
    },
    {
     "data": {
      "text/plain": [
       "<Figure size 640x480 with 0 Axes>"
      ]
     },
     "metadata": {},
     "output_type": "display_data"
    },
    {
     "data": {
      "text/plain": [
       "<Figure size 640x480 with 0 Axes>"
      ]
     },
     "metadata": {},
     "output_type": "display_data"
    },
    {
     "data": {
      "text/plain": [
       "<Figure size 640x480 with 0 Axes>"
      ]
     },
     "metadata": {},
     "output_type": "display_data"
    },
    {
     "data": {
      "text/plain": [
       "<Figure size 640x480 with 0 Axes>"
      ]
     },
     "metadata": {},
     "output_type": "display_data"
    },
    {
     "data": {
      "text/plain": [
       "<Figure size 640x480 with 0 Axes>"
      ]
     },
     "metadata": {},
     "output_type": "display_data"
    },
    {
     "data": {
      "text/plain": [
       "<Figure size 640x480 with 0 Axes>"
      ]
     },
     "metadata": {},
     "output_type": "display_data"
    },
    {
     "data": {
      "text/plain": [
       "<Figure size 640x480 with 0 Axes>"
      ]
     },
     "metadata": {},
     "output_type": "display_data"
    },
    {
     "data": {
      "text/plain": [
       "<Figure size 640x480 with 0 Axes>"
      ]
     },
     "metadata": {},
     "output_type": "display_data"
    },
    {
     "data": {
      "text/plain": [
       "<Figure size 640x480 with 0 Axes>"
      ]
     },
     "metadata": {},
     "output_type": "display_data"
    },
    {
     "data": {
      "text/plain": [
       "<Figure size 640x480 with 0 Axes>"
      ]
     },
     "metadata": {},
     "output_type": "display_data"
    },
    {
     "data": {
      "text/plain": [
       "<Figure size 640x480 with 0 Axes>"
      ]
     },
     "metadata": {},
     "output_type": "display_data"
    },
    {
     "data": {
      "text/plain": [
       "<Figure size 640x480 with 0 Axes>"
      ]
     },
     "metadata": {},
     "output_type": "display_data"
    },
    {
     "data": {
      "text/plain": [
       "<Figure size 640x480 with 0 Axes>"
      ]
     },
     "metadata": {},
     "output_type": "display_data"
    },
    {
     "data": {
      "text/plain": [
       "<Figure size 640x480 with 0 Axes>"
      ]
     },
     "metadata": {},
     "output_type": "display_data"
    },
    {
     "data": {
      "text/plain": [
       "<Figure size 640x480 with 0 Axes>"
      ]
     },
     "metadata": {},
     "output_type": "display_data"
    },
    {
     "data": {
      "text/plain": [
       "<Figure size 640x480 with 0 Axes>"
      ]
     },
     "metadata": {},
     "output_type": "display_data"
    },
    {
     "data": {
      "text/plain": [
       "<Figure size 640x480 with 0 Axes>"
      ]
     },
     "metadata": {},
     "output_type": "display_data"
    },
    {
     "data": {
      "text/plain": [
       "<Figure size 640x480 with 0 Axes>"
      ]
     },
     "metadata": {},
     "output_type": "display_data"
    },
    {
     "data": {
      "text/plain": [
       "<Figure size 640x480 with 0 Axes>"
      ]
     },
     "metadata": {},
     "output_type": "display_data"
    },
    {
     "data": {
      "text/plain": [
       "<Figure size 640x480 with 0 Axes>"
      ]
     },
     "metadata": {},
     "output_type": "display_data"
    },
    {
     "data": {
      "text/plain": [
       "<Figure size 640x480 with 0 Axes>"
      ]
     },
     "metadata": {},
     "output_type": "display_data"
    },
    {
     "data": {
      "text/plain": [
       "<Figure size 640x480 with 0 Axes>"
      ]
     },
     "metadata": {},
     "output_type": "display_data"
    },
    {
     "data": {
      "text/plain": [
       "<Figure size 640x480 with 0 Axes>"
      ]
     },
     "metadata": {},
     "output_type": "display_data"
    },
    {
     "data": {
      "text/plain": [
       "<Figure size 640x480 with 0 Axes>"
      ]
     },
     "metadata": {},
     "output_type": "display_data"
    },
    {
     "data": {
      "text/plain": [
       "<Figure size 640x480 with 0 Axes>"
      ]
     },
     "metadata": {},
     "output_type": "display_data"
    },
    {
     "data": {
      "text/plain": [
       "<Figure size 640x480 with 0 Axes>"
      ]
     },
     "metadata": {},
     "output_type": "display_data"
    },
    {
     "data": {
      "text/plain": [
       "<Figure size 640x480 with 0 Axes>"
      ]
     },
     "metadata": {},
     "output_type": "display_data"
    },
    {
     "data": {
      "text/plain": [
       "<Figure size 640x480 with 0 Axes>"
      ]
     },
     "metadata": {},
     "output_type": "display_data"
    },
    {
     "data": {
      "text/plain": [
       "<Figure size 640x480 with 0 Axes>"
      ]
     },
     "metadata": {},
     "output_type": "display_data"
    },
    {
     "data": {
      "text/plain": [
       "<Figure size 640x480 with 0 Axes>"
      ]
     },
     "metadata": {},
     "output_type": "display_data"
    },
    {
     "data": {
      "text/plain": [
       "<Figure size 640x480 with 0 Axes>"
      ]
     },
     "metadata": {},
     "output_type": "display_data"
    },
    {
     "data": {
      "text/plain": [
       "<Figure size 640x480 with 0 Axes>"
      ]
     },
     "metadata": {},
     "output_type": "display_data"
    },
    {
     "data": {
      "text/plain": [
       "<Figure size 640x480 with 0 Axes>"
      ]
     },
     "metadata": {},
     "output_type": "display_data"
    },
    {
     "data": {
      "text/plain": [
       "<Figure size 640x480 with 0 Axes>"
      ]
     },
     "metadata": {},
     "output_type": "display_data"
    },
    {
     "data": {
      "text/plain": [
       "<Figure size 640x480 with 0 Axes>"
      ]
     },
     "metadata": {},
     "output_type": "display_data"
    },
    {
     "data": {
      "text/plain": [
       "<Figure size 640x480 with 0 Axes>"
      ]
     },
     "metadata": {},
     "output_type": "display_data"
    },
    {
     "data": {
      "text/plain": [
       "<Figure size 640x480 with 0 Axes>"
      ]
     },
     "metadata": {},
     "output_type": "display_data"
    },
    {
     "data": {
      "text/plain": [
       "<Figure size 640x480 with 0 Axes>"
      ]
     },
     "metadata": {},
     "output_type": "display_data"
    },
    {
     "data": {
      "text/plain": [
       "<Figure size 640x480 with 0 Axes>"
      ]
     },
     "metadata": {},
     "output_type": "display_data"
    },
    {
     "data": {
      "text/plain": [
       "<Figure size 640x480 with 0 Axes>"
      ]
     },
     "metadata": {},
     "output_type": "display_data"
    },
    {
     "data": {
      "text/plain": [
       "<Figure size 640x480 with 0 Axes>"
      ]
     },
     "metadata": {},
     "output_type": "display_data"
    },
    {
     "data": {
      "text/plain": [
       "<Figure size 640x480 with 0 Axes>"
      ]
     },
     "metadata": {},
     "output_type": "display_data"
    },
    {
     "data": {
      "text/plain": [
       "<Figure size 640x480 with 0 Axes>"
      ]
     },
     "metadata": {},
     "output_type": "display_data"
    },
    {
     "data": {
      "text/plain": [
       "<Figure size 640x480 with 0 Axes>"
      ]
     },
     "metadata": {},
     "output_type": "display_data"
    },
    {
     "data": {
      "text/plain": [
       "<Figure size 640x480 with 0 Axes>"
      ]
     },
     "metadata": {},
     "output_type": "display_data"
    },
    {
     "data": {
      "text/plain": [
       "<Figure size 640x480 with 0 Axes>"
      ]
     },
     "metadata": {},
     "output_type": "display_data"
    },
    {
     "data": {
      "text/plain": [
       "<Figure size 640x480 with 0 Axes>"
      ]
     },
     "metadata": {},
     "output_type": "display_data"
    },
    {
     "data": {
      "text/plain": [
       "<Figure size 640x480 with 0 Axes>"
      ]
     },
     "metadata": {},
     "output_type": "display_data"
    },
    {
     "data": {
      "text/plain": [
       "<Figure size 640x480 with 0 Axes>"
      ]
     },
     "metadata": {},
     "output_type": "display_data"
    },
    {
     "data": {
      "text/plain": [
       "<Figure size 640x480 with 0 Axes>"
      ]
     },
     "metadata": {},
     "output_type": "display_data"
    },
    {
     "data": {
      "text/plain": [
       "<Figure size 640x480 with 0 Axes>"
      ]
     },
     "metadata": {},
     "output_type": "display_data"
    },
    {
     "data": {
      "text/plain": [
       "<Figure size 640x480 with 0 Axes>"
      ]
     },
     "metadata": {},
     "output_type": "display_data"
    },
    {
     "data": {
      "text/plain": [
       "<Figure size 640x480 with 0 Axes>"
      ]
     },
     "metadata": {},
     "output_type": "display_data"
    },
    {
     "data": {
      "text/plain": [
       "<Figure size 640x480 with 0 Axes>"
      ]
     },
     "metadata": {},
     "output_type": "display_data"
    },
    {
     "data": {
      "text/plain": [
       "<Figure size 640x480 with 0 Axes>"
      ]
     },
     "metadata": {},
     "output_type": "display_data"
    },
    {
     "data": {
      "text/plain": [
       "<Figure size 640x480 with 0 Axes>"
      ]
     },
     "metadata": {},
     "output_type": "display_data"
    },
    {
     "data": {
      "text/plain": [
       "<Figure size 640x480 with 0 Axes>"
      ]
     },
     "metadata": {},
     "output_type": "display_data"
    },
    {
     "data": {
      "text/plain": [
       "<Figure size 640x480 with 0 Axes>"
      ]
     },
     "metadata": {},
     "output_type": "display_data"
    },
    {
     "data": {
      "text/plain": [
       "<Figure size 640x480 with 0 Axes>"
      ]
     },
     "metadata": {},
     "output_type": "display_data"
    },
    {
     "data": {
      "text/plain": [
       "<Figure size 640x480 with 0 Axes>"
      ]
     },
     "metadata": {},
     "output_type": "display_data"
    },
    {
     "data": {
      "text/plain": [
       "<Figure size 640x480 with 0 Axes>"
      ]
     },
     "metadata": {},
     "output_type": "display_data"
    },
    {
     "data": {
      "text/plain": [
       "<Figure size 640x480 with 0 Axes>"
      ]
     },
     "metadata": {},
     "output_type": "display_data"
    },
    {
     "data": {
      "text/plain": [
       "<Figure size 640x480 with 0 Axes>"
      ]
     },
     "metadata": {},
     "output_type": "display_data"
    },
    {
     "data": {
      "text/plain": [
       "<Figure size 640x480 with 0 Axes>"
      ]
     },
     "metadata": {},
     "output_type": "display_data"
    },
    {
     "data": {
      "text/plain": [
       "<Figure size 640x480 with 0 Axes>"
      ]
     },
     "metadata": {},
     "output_type": "display_data"
    },
    {
     "data": {
      "text/plain": [
       "<Figure size 640x480 with 0 Axes>"
      ]
     },
     "metadata": {},
     "output_type": "display_data"
    },
    {
     "data": {
      "text/plain": [
       "<Figure size 640x480 with 0 Axes>"
      ]
     },
     "metadata": {},
     "output_type": "display_data"
    },
    {
     "data": {
      "text/plain": [
       "<Figure size 640x480 with 0 Axes>"
      ]
     },
     "metadata": {},
     "output_type": "display_data"
    },
    {
     "data": {
      "text/plain": [
       "<Figure size 640x480 with 0 Axes>"
      ]
     },
     "metadata": {},
     "output_type": "display_data"
    },
    {
     "data": {
      "text/plain": [
       "<Figure size 640x480 with 0 Axes>"
      ]
     },
     "metadata": {},
     "output_type": "display_data"
    },
    {
     "data": {
      "text/plain": [
       "<Figure size 640x480 with 0 Axes>"
      ]
     },
     "metadata": {},
     "output_type": "display_data"
    },
    {
     "data": {
      "text/plain": [
       "<Figure size 640x480 with 0 Axes>"
      ]
     },
     "metadata": {},
     "output_type": "display_data"
    },
    {
     "data": {
      "text/plain": [
       "<Figure size 640x480 with 0 Axes>"
      ]
     },
     "metadata": {},
     "output_type": "display_data"
    },
    {
     "data": {
      "text/plain": [
       "<Figure size 640x480 with 0 Axes>"
      ]
     },
     "metadata": {},
     "output_type": "display_data"
    },
    {
     "data": {
      "text/plain": [
       "<Figure size 640x480 with 0 Axes>"
      ]
     },
     "metadata": {},
     "output_type": "display_data"
    },
    {
     "data": {
      "text/plain": [
       "<Figure size 640x480 with 0 Axes>"
      ]
     },
     "metadata": {},
     "output_type": "display_data"
    },
    {
     "data": {
      "text/plain": [
       "<Figure size 640x480 with 0 Axes>"
      ]
     },
     "metadata": {},
     "output_type": "display_data"
    },
    {
     "data": {
      "text/plain": [
       "<Figure size 640x480 with 0 Axes>"
      ]
     },
     "metadata": {},
     "output_type": "display_data"
    },
    {
     "data": {
      "text/plain": [
       "<Figure size 640x480 with 0 Axes>"
      ]
     },
     "metadata": {},
     "output_type": "display_data"
    },
    {
     "data": {
      "text/plain": [
       "<Figure size 640x480 with 0 Axes>"
      ]
     },
     "metadata": {},
     "output_type": "display_data"
    },
    {
     "data": {
      "text/plain": [
       "<Figure size 640x480 with 0 Axes>"
      ]
     },
     "metadata": {},
     "output_type": "display_data"
    },
    {
     "data": {
      "text/plain": [
       "<Figure size 640x480 with 0 Axes>"
      ]
     },
     "metadata": {},
     "output_type": "display_data"
    },
    {
     "data": {
      "text/plain": [
       "<Figure size 640x480 with 0 Axes>"
      ]
     },
     "metadata": {},
     "output_type": "display_data"
    },
    {
     "data": {
      "text/plain": [
       "<Figure size 640x480 with 0 Axes>"
      ]
     },
     "metadata": {},
     "output_type": "display_data"
    },
    {
     "data": {
      "text/plain": [
       "<Figure size 640x480 with 0 Axes>"
      ]
     },
     "metadata": {},
     "output_type": "display_data"
    },
    {
     "data": {
      "text/plain": [
       "<Figure size 640x480 with 0 Axes>"
      ]
     },
     "metadata": {},
     "output_type": "display_data"
    },
    {
     "data": {
      "text/plain": [
       "<Figure size 640x480 with 0 Axes>"
      ]
     },
     "metadata": {},
     "output_type": "display_data"
    },
    {
     "data": {
      "text/plain": [
       "<Figure size 640x480 with 0 Axes>"
      ]
     },
     "metadata": {},
     "output_type": "display_data"
    },
    {
     "data": {
      "text/plain": [
       "<Figure size 640x480 with 0 Axes>"
      ]
     },
     "metadata": {},
     "output_type": "display_data"
    },
    {
     "data": {
      "text/plain": [
       "<Figure size 640x480 with 0 Axes>"
      ]
     },
     "metadata": {},
     "output_type": "display_data"
    },
    {
     "data": {
      "text/plain": [
       "<Figure size 640x480 with 0 Axes>"
      ]
     },
     "metadata": {},
     "output_type": "display_data"
    },
    {
     "data": {
      "text/plain": [
       "<Figure size 640x480 with 0 Axes>"
      ]
     },
     "metadata": {},
     "output_type": "display_data"
    },
    {
     "data": {
      "text/plain": [
       "<Figure size 640x480 with 0 Axes>"
      ]
     },
     "metadata": {},
     "output_type": "display_data"
    },
    {
     "data": {
      "text/plain": [
       "<Figure size 640x480 with 0 Axes>"
      ]
     },
     "metadata": {},
     "output_type": "display_data"
    },
    {
     "data": {
      "text/plain": [
       "<Figure size 640x480 with 0 Axes>"
      ]
     },
     "metadata": {},
     "output_type": "display_data"
    },
    {
     "data": {
      "text/plain": [
       "<Figure size 640x480 with 0 Axes>"
      ]
     },
     "metadata": {},
     "output_type": "display_data"
    },
    {
     "data": {
      "text/plain": [
       "<Figure size 640x480 with 0 Axes>"
      ]
     },
     "metadata": {},
     "output_type": "display_data"
    },
    {
     "data": {
      "text/plain": [
       "<Figure size 640x480 with 0 Axes>"
      ]
     },
     "metadata": {},
     "output_type": "display_data"
    },
    {
     "data": {
      "text/plain": [
       "<Figure size 640x480 with 0 Axes>"
      ]
     },
     "metadata": {},
     "output_type": "display_data"
    },
    {
     "data": {
      "text/plain": [
       "<Figure size 640x480 with 0 Axes>"
      ]
     },
     "metadata": {},
     "output_type": "display_data"
    },
    {
     "data": {
      "text/plain": [
       "<Figure size 640x480 with 0 Axes>"
      ]
     },
     "metadata": {},
     "output_type": "display_data"
    },
    {
     "data": {
      "text/plain": [
       "<Figure size 640x480 with 0 Axes>"
      ]
     },
     "metadata": {},
     "output_type": "display_data"
    },
    {
     "data": {
      "text/plain": [
       "<Figure size 640x480 with 0 Axes>"
      ]
     },
     "metadata": {},
     "output_type": "display_data"
    },
    {
     "data": {
      "text/plain": [
       "<Figure size 640x480 with 0 Axes>"
      ]
     },
     "metadata": {},
     "output_type": "display_data"
    },
    {
     "data": {
      "text/plain": [
       "<Figure size 640x480 with 0 Axes>"
      ]
     },
     "metadata": {},
     "output_type": "display_data"
    },
    {
     "data": {
      "text/plain": [
       "<Figure size 640x480 with 0 Axes>"
      ]
     },
     "metadata": {},
     "output_type": "display_data"
    },
    {
     "data": {
      "text/plain": [
       "<Figure size 640x480 with 0 Axes>"
      ]
     },
     "metadata": {},
     "output_type": "display_data"
    },
    {
     "data": {
      "text/plain": [
       "<Figure size 640x480 with 0 Axes>"
      ]
     },
     "metadata": {},
     "output_type": "display_data"
    },
    {
     "data": {
      "text/plain": [
       "<Figure size 640x480 with 0 Axes>"
      ]
     },
     "metadata": {},
     "output_type": "display_data"
    },
    {
     "data": {
      "text/plain": [
       "<Figure size 640x480 with 0 Axes>"
      ]
     },
     "metadata": {},
     "output_type": "display_data"
    },
    {
     "data": {
      "text/plain": [
       "<Figure size 640x480 with 0 Axes>"
      ]
     },
     "metadata": {},
     "output_type": "display_data"
    },
    {
     "data": {
      "text/plain": [
       "<Figure size 640x480 with 0 Axes>"
      ]
     },
     "metadata": {},
     "output_type": "display_data"
    },
    {
     "data": {
      "text/plain": [
       "<Figure size 640x480 with 0 Axes>"
      ]
     },
     "metadata": {},
     "output_type": "display_data"
    },
    {
     "data": {
      "text/plain": [
       "<Figure size 640x480 with 0 Axes>"
      ]
     },
     "metadata": {},
     "output_type": "display_data"
    },
    {
     "data": {
      "text/plain": [
       "<Figure size 640x480 with 0 Axes>"
      ]
     },
     "metadata": {},
     "output_type": "display_data"
    },
    {
     "data": {
      "text/plain": [
       "<Figure size 640x480 with 0 Axes>"
      ]
     },
     "metadata": {},
     "output_type": "display_data"
    },
    {
     "data": {
      "text/plain": [
       "<Figure size 640x480 with 0 Axes>"
      ]
     },
     "metadata": {},
     "output_type": "display_data"
    },
    {
     "data": {
      "text/plain": [
       "<Figure size 640x480 with 0 Axes>"
      ]
     },
     "metadata": {},
     "output_type": "display_data"
    },
    {
     "data": {
      "text/plain": [
       "<Figure size 640x480 with 0 Axes>"
      ]
     },
     "metadata": {},
     "output_type": "display_data"
    },
    {
     "data": {
      "text/plain": [
       "<Figure size 640x480 with 0 Axes>"
      ]
     },
     "metadata": {},
     "output_type": "display_data"
    },
    {
     "data": {
      "text/plain": [
       "<Figure size 640x480 with 0 Axes>"
      ]
     },
     "metadata": {},
     "output_type": "display_data"
    },
    {
     "data": {
      "text/plain": [
       "<Figure size 640x480 with 0 Axes>"
      ]
     },
     "metadata": {},
     "output_type": "display_data"
    },
    {
     "data": {
      "text/plain": [
       "<Figure size 640x480 with 0 Axes>"
      ]
     },
     "metadata": {},
     "output_type": "display_data"
    },
    {
     "data": {
      "text/plain": [
       "<Figure size 640x480 with 0 Axes>"
      ]
     },
     "metadata": {},
     "output_type": "display_data"
    },
    {
     "data": {
      "text/plain": [
       "<Figure size 640x480 with 0 Axes>"
      ]
     },
     "metadata": {},
     "output_type": "display_data"
    },
    {
     "data": {
      "text/plain": [
       "<Figure size 640x480 with 0 Axes>"
      ]
     },
     "metadata": {},
     "output_type": "display_data"
    },
    {
     "data": {
      "text/plain": [
       "<Figure size 640x480 with 0 Axes>"
      ]
     },
     "metadata": {},
     "output_type": "display_data"
    },
    {
     "data": {
      "text/plain": [
       "<Figure size 640x480 with 0 Axes>"
      ]
     },
     "metadata": {},
     "output_type": "display_data"
    },
    {
     "data": {
      "text/plain": [
       "<Figure size 640x480 with 0 Axes>"
      ]
     },
     "metadata": {},
     "output_type": "display_data"
    },
    {
     "data": {
      "text/plain": [
       "<Figure size 640x480 with 0 Axes>"
      ]
     },
     "metadata": {},
     "output_type": "display_data"
    },
    {
     "data": {
      "text/plain": [
       "<Figure size 640x480 with 0 Axes>"
      ]
     },
     "metadata": {},
     "output_type": "display_data"
    },
    {
     "data": {
      "text/plain": [
       "<Figure size 640x480 with 0 Axes>"
      ]
     },
     "metadata": {},
     "output_type": "display_data"
    },
    {
     "data": {
      "text/plain": [
       "<Figure size 640x480 with 0 Axes>"
      ]
     },
     "metadata": {},
     "output_type": "display_data"
    },
    {
     "data": {
      "text/plain": [
       "<Figure size 640x480 with 0 Axes>"
      ]
     },
     "metadata": {},
     "output_type": "display_data"
    },
    {
     "data": {
      "text/plain": [
       "<Figure size 640x480 with 0 Axes>"
      ]
     },
     "metadata": {},
     "output_type": "display_data"
    },
    {
     "data": {
      "text/plain": [
       "<Figure size 640x480 with 0 Axes>"
      ]
     },
     "metadata": {},
     "output_type": "display_data"
    },
    {
     "data": {
      "text/plain": [
       "<Figure size 640x480 with 0 Axes>"
      ]
     },
     "metadata": {},
     "output_type": "display_data"
    },
    {
     "data": {
      "text/plain": [
       "<Figure size 640x480 with 0 Axes>"
      ]
     },
     "metadata": {},
     "output_type": "display_data"
    },
    {
     "data": {
      "text/plain": [
       "<Figure size 640x480 with 0 Axes>"
      ]
     },
     "metadata": {},
     "output_type": "display_data"
    },
    {
     "data": {
      "text/plain": [
       "<Figure size 640x480 with 0 Axes>"
      ]
     },
     "metadata": {},
     "output_type": "display_data"
    },
    {
     "data": {
      "text/plain": [
       "<Figure size 640x480 with 0 Axes>"
      ]
     },
     "metadata": {},
     "output_type": "display_data"
    },
    {
     "data": {
      "text/plain": [
       "<Figure size 640x480 with 0 Axes>"
      ]
     },
     "metadata": {},
     "output_type": "display_data"
    },
    {
     "data": {
      "text/plain": [
       "<Figure size 640x480 with 0 Axes>"
      ]
     },
     "metadata": {},
     "output_type": "display_data"
    },
    {
     "data": {
      "text/plain": [
       "<Figure size 640x480 with 0 Axes>"
      ]
     },
     "metadata": {},
     "output_type": "display_data"
    },
    {
     "data": {
      "text/plain": [
       "<Figure size 640x480 with 0 Axes>"
      ]
     },
     "metadata": {},
     "output_type": "display_data"
    },
    {
     "data": {
      "text/plain": [
       "<Figure size 640x480 with 0 Axes>"
      ]
     },
     "metadata": {},
     "output_type": "display_data"
    },
    {
     "data": {
      "text/plain": [
       "<Figure size 640x480 with 0 Axes>"
      ]
     },
     "metadata": {},
     "output_type": "display_data"
    },
    {
     "data": {
      "text/plain": [
       "<Figure size 640x480 with 0 Axes>"
      ]
     },
     "metadata": {},
     "output_type": "display_data"
    },
    {
     "data": {
      "text/plain": [
       "<Figure size 640x480 with 0 Axes>"
      ]
     },
     "metadata": {},
     "output_type": "display_data"
    },
    {
     "data": {
      "text/plain": [
       "<Figure size 640x480 with 0 Axes>"
      ]
     },
     "metadata": {},
     "output_type": "display_data"
    },
    {
     "data": {
      "text/plain": [
       "<Figure size 640x480 with 0 Axes>"
      ]
     },
     "metadata": {},
     "output_type": "display_data"
    },
    {
     "data": {
      "text/plain": [
       "<Figure size 640x480 with 0 Axes>"
      ]
     },
     "metadata": {},
     "output_type": "display_data"
    },
    {
     "data": {
      "text/plain": [
       "<Figure size 640x480 with 0 Axes>"
      ]
     },
     "metadata": {},
     "output_type": "display_data"
    },
    {
     "data": {
      "text/plain": [
       "<Figure size 640x480 with 0 Axes>"
      ]
     },
     "metadata": {},
     "output_type": "display_data"
    },
    {
     "data": {
      "text/plain": [
       "<Figure size 640x480 with 0 Axes>"
      ]
     },
     "metadata": {},
     "output_type": "display_data"
    },
    {
     "data": {
      "text/plain": [
       "<Figure size 640x480 with 0 Axes>"
      ]
     },
     "metadata": {},
     "output_type": "display_data"
    },
    {
     "data": {
      "text/plain": [
       "<Figure size 640x480 with 0 Axes>"
      ]
     },
     "metadata": {},
     "output_type": "display_data"
    },
    {
     "data": {
      "text/plain": [
       "<Figure size 640x480 with 0 Axes>"
      ]
     },
     "metadata": {},
     "output_type": "display_data"
    },
    {
     "data": {
      "text/plain": [
       "<Figure size 640x480 with 0 Axes>"
      ]
     },
     "metadata": {},
     "output_type": "display_data"
    },
    {
     "data": {
      "text/plain": [
       "<Figure size 640x480 with 0 Axes>"
      ]
     },
     "metadata": {},
     "output_type": "display_data"
    },
    {
     "data": {
      "text/plain": [
       "<Figure size 640x480 with 0 Axes>"
      ]
     },
     "metadata": {},
     "output_type": "display_data"
    },
    {
     "data": {
      "text/plain": [
       "<Figure size 640x480 with 0 Axes>"
      ]
     },
     "metadata": {},
     "output_type": "display_data"
    },
    {
     "data": {
      "text/plain": [
       "<Figure size 640x480 with 0 Axes>"
      ]
     },
     "metadata": {},
     "output_type": "display_data"
    },
    {
     "data": {
      "text/plain": [
       "<Figure size 640x480 with 0 Axes>"
      ]
     },
     "metadata": {},
     "output_type": "display_data"
    },
    {
     "data": {
      "text/plain": [
       "<Figure size 640x480 with 0 Axes>"
      ]
     },
     "metadata": {},
     "output_type": "display_data"
    },
    {
     "data": {
      "text/plain": [
       "<Figure size 640x480 with 0 Axes>"
      ]
     },
     "metadata": {},
     "output_type": "display_data"
    },
    {
     "data": {
      "text/plain": [
       "<Figure size 640x480 with 0 Axes>"
      ]
     },
     "metadata": {},
     "output_type": "display_data"
    },
    {
     "data": {
      "text/plain": [
       "<Figure size 640x480 with 0 Axes>"
      ]
     },
     "metadata": {},
     "output_type": "display_data"
    },
    {
     "data": {
      "text/plain": [
       "<Figure size 640x480 with 0 Axes>"
      ]
     },
     "metadata": {},
     "output_type": "display_data"
    },
    {
     "data": {
      "text/plain": [
       "<Figure size 640x480 with 0 Axes>"
      ]
     },
     "metadata": {},
     "output_type": "display_data"
    },
    {
     "data": {
      "text/plain": [
       "<Figure size 640x480 with 0 Axes>"
      ]
     },
     "metadata": {},
     "output_type": "display_data"
    },
    {
     "data": {
      "text/plain": [
       "<Figure size 640x480 with 0 Axes>"
      ]
     },
     "metadata": {},
     "output_type": "display_data"
    },
    {
     "data": {
      "text/plain": [
       "<Figure size 640x480 with 0 Axes>"
      ]
     },
     "metadata": {},
     "output_type": "display_data"
    },
    {
     "data": {
      "text/plain": [
       "<Figure size 640x480 with 0 Axes>"
      ]
     },
     "metadata": {},
     "output_type": "display_data"
    },
    {
     "data": {
      "text/plain": [
       "<Figure size 640x480 with 0 Axes>"
      ]
     },
     "metadata": {},
     "output_type": "display_data"
    },
    {
     "data": {
      "text/plain": [
       "<Figure size 640x480 with 0 Axes>"
      ]
     },
     "metadata": {},
     "output_type": "display_data"
    },
    {
     "data": {
      "text/plain": [
       "<Figure size 640x480 with 0 Axes>"
      ]
     },
     "metadata": {},
     "output_type": "display_data"
    },
    {
     "data": {
      "text/plain": [
       "<Figure size 640x480 with 0 Axes>"
      ]
     },
     "metadata": {},
     "output_type": "display_data"
    },
    {
     "data": {
      "text/plain": [
       "<Figure size 640x480 with 0 Axes>"
      ]
     },
     "metadata": {},
     "output_type": "display_data"
    },
    {
     "data": {
      "text/plain": [
       "<Figure size 640x480 with 0 Axes>"
      ]
     },
     "metadata": {},
     "output_type": "display_data"
    },
    {
     "data": {
      "text/plain": [
       "<Figure size 640x480 with 0 Axes>"
      ]
     },
     "metadata": {},
     "output_type": "display_data"
    },
    {
     "data": {
      "text/plain": [
       "<Figure size 640x480 with 0 Axes>"
      ]
     },
     "metadata": {},
     "output_type": "display_data"
    },
    {
     "data": {
      "text/plain": [
       "<Figure size 640x480 with 0 Axes>"
      ]
     },
     "metadata": {},
     "output_type": "display_data"
    },
    {
     "data": {
      "text/plain": [
       "<Figure size 640x480 with 0 Axes>"
      ]
     },
     "metadata": {},
     "output_type": "display_data"
    },
    {
     "data": {
      "text/plain": [
       "<Figure size 640x480 with 0 Axes>"
      ]
     },
     "metadata": {},
     "output_type": "display_data"
    },
    {
     "data": {
      "text/plain": [
       "<Figure size 640x480 with 0 Axes>"
      ]
     },
     "metadata": {},
     "output_type": "display_data"
    },
    {
     "data": {
      "text/plain": [
       "<Figure size 640x480 with 0 Axes>"
      ]
     },
     "metadata": {},
     "output_type": "display_data"
    },
    {
     "data": {
      "text/plain": [
       "<Figure size 640x480 with 0 Axes>"
      ]
     },
     "metadata": {},
     "output_type": "display_data"
    },
    {
     "data": {
      "text/plain": [
       "<Figure size 640x480 with 0 Axes>"
      ]
     },
     "metadata": {},
     "output_type": "display_data"
    },
    {
     "data": {
      "text/plain": [
       "<Figure size 640x480 with 0 Axes>"
      ]
     },
     "metadata": {},
     "output_type": "display_data"
    },
    {
     "data": {
      "text/plain": [
       "<Figure size 640x480 with 0 Axes>"
      ]
     },
     "metadata": {},
     "output_type": "display_data"
    },
    {
     "data": {
      "text/plain": [
       "<Figure size 640x480 with 0 Axes>"
      ]
     },
     "metadata": {},
     "output_type": "display_data"
    },
    {
     "data": {
      "text/plain": [
       "<Figure size 640x480 with 0 Axes>"
      ]
     },
     "metadata": {},
     "output_type": "display_data"
    },
    {
     "data": {
      "text/plain": [
       "<Figure size 640x480 with 0 Axes>"
      ]
     },
     "metadata": {},
     "output_type": "display_data"
    },
    {
     "data": {
      "text/plain": [
       "<Figure size 640x480 with 0 Axes>"
      ]
     },
     "metadata": {},
     "output_type": "display_data"
    },
    {
     "data": {
      "text/plain": [
       "<Figure size 640x480 with 0 Axes>"
      ]
     },
     "metadata": {},
     "output_type": "display_data"
    },
    {
     "data": {
      "text/plain": [
       "<Figure size 640x480 with 0 Axes>"
      ]
     },
     "metadata": {},
     "output_type": "display_data"
    },
    {
     "data": {
      "text/plain": [
       "<Figure size 640x480 with 0 Axes>"
      ]
     },
     "metadata": {},
     "output_type": "display_data"
    },
    {
     "data": {
      "text/plain": [
       "<Figure size 640x480 with 0 Axes>"
      ]
     },
     "metadata": {},
     "output_type": "display_data"
    },
    {
     "data": {
      "text/plain": [
       "<Figure size 640x480 with 0 Axes>"
      ]
     },
     "metadata": {},
     "output_type": "display_data"
    },
    {
     "data": {
      "text/plain": [
       "<Figure size 640x480 with 0 Axes>"
      ]
     },
     "metadata": {},
     "output_type": "display_data"
    },
    {
     "data": {
      "text/plain": [
       "<Figure size 640x480 with 0 Axes>"
      ]
     },
     "metadata": {},
     "output_type": "display_data"
    },
    {
     "data": {
      "text/plain": [
       "<Figure size 640x480 with 0 Axes>"
      ]
     },
     "metadata": {},
     "output_type": "display_data"
    },
    {
     "data": {
      "text/plain": [
       "<Figure size 640x480 with 0 Axes>"
      ]
     },
     "metadata": {},
     "output_type": "display_data"
    },
    {
     "data": {
      "text/plain": [
       "<Figure size 640x480 with 0 Axes>"
      ]
     },
     "metadata": {},
     "output_type": "display_data"
    },
    {
     "data": {
      "text/plain": [
       "<Figure size 640x480 with 0 Axes>"
      ]
     },
     "metadata": {},
     "output_type": "display_data"
    },
    {
     "data": {
      "text/plain": [
       "<Figure size 640x480 with 0 Axes>"
      ]
     },
     "metadata": {},
     "output_type": "display_data"
    },
    {
     "data": {
      "text/plain": [
       "<Figure size 640x480 with 0 Axes>"
      ]
     },
     "metadata": {},
     "output_type": "display_data"
    },
    {
     "data": {
      "text/plain": [
       "<Figure size 640x480 with 0 Axes>"
      ]
     },
     "metadata": {},
     "output_type": "display_data"
    },
    {
     "data": {
      "text/plain": [
       "<Figure size 640x480 with 0 Axes>"
      ]
     },
     "metadata": {},
     "output_type": "display_data"
    },
    {
     "data": {
      "text/plain": [
       "<Figure size 640x480 with 0 Axes>"
      ]
     },
     "metadata": {},
     "output_type": "display_data"
    },
    {
     "data": {
      "text/plain": [
       "<Figure size 640x480 with 0 Axes>"
      ]
     },
     "metadata": {},
     "output_type": "display_data"
    },
    {
     "data": {
      "text/plain": [
       "<Figure size 640x480 with 0 Axes>"
      ]
     },
     "metadata": {},
     "output_type": "display_data"
    },
    {
     "data": {
      "text/plain": [
       "<Figure size 640x480 with 0 Axes>"
      ]
     },
     "metadata": {},
     "output_type": "display_data"
    },
    {
     "data": {
      "text/plain": [
       "<Figure size 640x480 with 0 Axes>"
      ]
     },
     "metadata": {},
     "output_type": "display_data"
    },
    {
     "data": {
      "text/plain": [
       "<Figure size 640x480 with 0 Axes>"
      ]
     },
     "metadata": {},
     "output_type": "display_data"
    },
    {
     "data": {
      "text/plain": [
       "<Figure size 640x480 with 0 Axes>"
      ]
     },
     "metadata": {},
     "output_type": "display_data"
    },
    {
     "data": {
      "text/plain": [
       "<Figure size 640x480 with 0 Axes>"
      ]
     },
     "metadata": {},
     "output_type": "display_data"
    },
    {
     "data": {
      "text/plain": [
       "<Figure size 640x480 with 0 Axes>"
      ]
     },
     "metadata": {},
     "output_type": "display_data"
    },
    {
     "data": {
      "text/plain": [
       "<Figure size 640x480 with 0 Axes>"
      ]
     },
     "metadata": {},
     "output_type": "display_data"
    },
    {
     "data": {
      "text/plain": [
       "<Figure size 640x480 with 0 Axes>"
      ]
     },
     "metadata": {},
     "output_type": "display_data"
    },
    {
     "data": {
      "text/plain": [
       "<Figure size 640x480 with 0 Axes>"
      ]
     },
     "metadata": {},
     "output_type": "display_data"
    },
    {
     "data": {
      "text/plain": [
       "<Figure size 640x480 with 0 Axes>"
      ]
     },
     "metadata": {},
     "output_type": "display_data"
    },
    {
     "data": {
      "text/plain": [
       "<Figure size 640x480 with 0 Axes>"
      ]
     },
     "metadata": {},
     "output_type": "display_data"
    },
    {
     "data": {
      "text/plain": [
       "<Figure size 640x480 with 0 Axes>"
      ]
     },
     "metadata": {},
     "output_type": "display_data"
    },
    {
     "data": {
      "text/plain": [
       "<Figure size 640x480 with 0 Axes>"
      ]
     },
     "metadata": {},
     "output_type": "display_data"
    },
    {
     "data": {
      "text/plain": [
       "<Figure size 640x480 with 0 Axes>"
      ]
     },
     "metadata": {},
     "output_type": "display_data"
    },
    {
     "data": {
      "text/plain": [
       "<Figure size 640x480 with 0 Axes>"
      ]
     },
     "metadata": {},
     "output_type": "display_data"
    },
    {
     "data": {
      "text/plain": [
       "<Figure size 640x480 with 0 Axes>"
      ]
     },
     "metadata": {},
     "output_type": "display_data"
    },
    {
     "data": {
      "text/plain": [
       "<Figure size 640x480 with 0 Axes>"
      ]
     },
     "metadata": {},
     "output_type": "display_data"
    },
    {
     "data": {
      "text/plain": [
       "<Figure size 640x480 with 0 Axes>"
      ]
     },
     "metadata": {},
     "output_type": "display_data"
    },
    {
     "data": {
      "text/plain": [
       "<Figure size 640x480 with 0 Axes>"
      ]
     },
     "metadata": {},
     "output_type": "display_data"
    },
    {
     "data": {
      "text/plain": [
       "<Figure size 640x480 with 0 Axes>"
      ]
     },
     "metadata": {},
     "output_type": "display_data"
    },
    {
     "data": {
      "text/plain": [
       "<Figure size 640x480 with 0 Axes>"
      ]
     },
     "metadata": {},
     "output_type": "display_data"
    },
    {
     "data": {
      "text/plain": [
       "<Figure size 640x480 with 0 Axes>"
      ]
     },
     "metadata": {},
     "output_type": "display_data"
    },
    {
     "data": {
      "text/plain": [
       "<Figure size 640x480 with 0 Axes>"
      ]
     },
     "metadata": {},
     "output_type": "display_data"
    },
    {
     "data": {
      "text/plain": [
       "<Figure size 640x480 with 0 Axes>"
      ]
     },
     "metadata": {},
     "output_type": "display_data"
    },
    {
     "data": {
      "text/plain": [
       "<Figure size 640x480 with 0 Axes>"
      ]
     },
     "metadata": {},
     "output_type": "display_data"
    },
    {
     "data": {
      "text/plain": [
       "<Figure size 640x480 with 0 Axes>"
      ]
     },
     "metadata": {},
     "output_type": "display_data"
    },
    {
     "data": {
      "text/plain": [
       "<Figure size 640x480 with 0 Axes>"
      ]
     },
     "metadata": {},
     "output_type": "display_data"
    },
    {
     "data": {
      "text/plain": [
       "<Figure size 640x480 with 0 Axes>"
      ]
     },
     "metadata": {},
     "output_type": "display_data"
    },
    {
     "data": {
      "text/plain": [
       "<Figure size 640x480 with 0 Axes>"
      ]
     },
     "metadata": {},
     "output_type": "display_data"
    },
    {
     "data": {
      "text/plain": [
       "<Figure size 640x480 with 0 Axes>"
      ]
     },
     "metadata": {},
     "output_type": "display_data"
    },
    {
     "data": {
      "text/plain": [
       "<Figure size 640x480 with 0 Axes>"
      ]
     },
     "metadata": {},
     "output_type": "display_data"
    },
    {
     "data": {
      "text/plain": [
       "<Figure size 640x480 with 0 Axes>"
      ]
     },
     "metadata": {},
     "output_type": "display_data"
    },
    {
     "data": {
      "text/plain": [
       "<Figure size 640x480 with 0 Axes>"
      ]
     },
     "metadata": {},
     "output_type": "display_data"
    }
   ],
   "source": [
    "import cv2\n",
    "import numpy as np\n",
    "import matplotlib.pyplot as plt\n",
    "from tqdm import tqdm\n",
    "\n",
    "\n",
    "path = \"../patchcore-inspection/mvtec_anomaly_detection/bean/\"\n",
    "path_save = \"../patchcore-inspection/mvtec_anomaly_detection/bean\"\n",
    "for i in tqdm(test):\n",
    "    # print(i)\n",
    "    # print(find_num(i))\n",
    "    input_image_path = f\"{path}test/tear/{find_num(i)}.jpg\"\n",
    "    # print(input_image_path)\n",
    "    input_image = cv2.imread(input_image_path)\n",
    "    gray_image = cv2.cvtColor(input_image, cv2.COLOR_BGR2GRAY)\n",
    "\n",
    "    mask = cv2.inRange(gray_image, 0, 150)  # 0 là ngưỡng cho màu đen\n",
    "    # print(mask)\n",
    "    # trun map values 255->0, 0-> 255\n",
    "    mask = cv2.bitwise_not(mask)\n",
    "    black_image = np.zeros_like(input_image)\n",
    "\n",
    "    result_image = black_image.copy()\n",
    "    result_image[mask != 0] = input_image[mask != 0]\n",
    "\n",
    "    fig = plt.figure()\n",
    "    # plt.imshow(mask, cmap='gray')\n",
    "    # fig.gca().imshow(mask, cmap='gray')\n",
    "    # fig.show()\n",
    "\n",
    "    import os\n",
    "    if not os.path.exists(f\"{path_save}/ground_truth/tear\"):\n",
    "        os.makedirs(f\"{path_save}/ground_truth/tear\")\n",
    "    import cv2\n",
    "    assert mask.shape == input_image.shape[:2]\n",
    "    cv2.imwrite(f\"{path_save}/ground_truth/tear/{find_num(i)}_mask.jpg\", mask)\n",
    "    # plt.savefig(f\"../patchcore-inspection/mvtec_anomaly_detection/bean/ground_truth/tear/{find_num(i)}_mask.jpg\"\n",
    "    # , facecolor=fig.get_facecolor(), edgecolor='none')\n",
    "    # print(\"Path data saved: \", f\"{path_save}/ground_truth/tear/{find_num(i)}.jpg\")\n"
   ]
  },
  {
   "cell_type": "code",
   "execution_count": 50,
   "metadata": {},
   "outputs": [],
   "source": [
    "fig.savefig('random points.png', facecolor=fig.get_facecolor())"
   ]
  }
 ],
 "metadata": {
  "kernelspec": {
   "display_name": "Python 3",
   "language": "python",
   "name": "python3"
  },
  "language_info": {
   "codemirror_mode": {
    "name": "ipython",
    "version": 3
   },
   "file_extension": ".py",
   "mimetype": "text/x-python",
   "name": "python",
   "nbconvert_exporter": "python",
   "pygments_lexer": "ipython3",
   "version": "3.9.18"
  },
  "orig_nbformat": 4
 },
 "nbformat": 4,
 "nbformat_minor": 2
}
